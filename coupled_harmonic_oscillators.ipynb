{
 "cells": [
  {
   "cell_type": "code",
   "execution_count": 1,
   "metadata": {
    "ExecuteTime": {
     "end_time": "2020-03-03T22:27:02.887496Z",
     "start_time": "2020-03-03T22:27:02.681966Z"
    }
   },
   "outputs": [],
   "source": [
    "import numpy as np\n",
    "import matplotlib.pyplot as plt\n",
    "import ipywidgets as ipw\n",
    "%matplotlib widget"
   ]
  },
  {
   "cell_type": "code",
   "execution_count": 2,
   "metadata": {
    "ExecuteTime": {
     "end_time": "2020-03-03T22:27:03.470545Z",
     "start_time": "2020-03-03T22:27:03.421328Z"
    }
   },
   "outputs": [],
   "source": [
    "from scipy.linalg import eigh"
   ]
  },
  {
   "cell_type": "code",
   "execution_count": 3,
   "metadata": {
    "ExecuteTime": {
     "end_time": "2020-03-03T22:27:04.421579Z",
     "start_time": "2020-03-03T22:27:04.415802Z"
    }
   },
   "outputs": [],
   "source": [
    "def update_segs(ll,u):\n",
    "    segs = ll.get_segments()\n",
    "    for (ii,seg) in enumerate(segs):\n",
    "        seg[1,1] = u[ii]\n",
    "    ll.set_segments(segs)"
   ]
  },
  {
   "cell_type": "markdown",
   "metadata": {},
   "source": [
    "# General solution of coupled harmonic oscillators"
   ]
  },
  {
   "cell_type": "markdown",
   "metadata": {},
   "source": [
    "Solve coupled harmonic oscillator equations defined by matrices $M$ and $K$ where\n",
    "\\begin{equation}\n",
    "M \\frac{\\mathrm{d}^2\\vec{q}}{\\mathrm{d}t^2} + K \\vec{q} = 0\n",
    "\\end{equation}\n",
    "Assuming harmonic time dependence, $q_n \\propto e^{i\\omega_n t}$, this is equal to\n",
    "\\begin{gather}\n",
    "-\\omega_n^2 M \\vec{q}_n + K \\vec{q}_n = 0\\\\\n",
    "K \\vec{q}_n = \\omega_n^2 M \\vec{q}_n\n",
    "\\end{gather}"
   ]
  },
  {
   "cell_type": "code",
   "execution_count": 4,
   "metadata": {
    "ExecuteTime": {
     "end_time": "2020-03-03T22:27:06.084469Z",
     "start_time": "2020-03-03T22:27:06.075749Z"
    }
   },
   "outputs": [],
   "source": [
    "class coupled_harmosc:\n",
    "    def __init__(self,M,K):\n",
    "        N = K.shape[0]\n",
    "        ωssq, As = eigh(K,M)\n",
    "        ωs = np.sqrt(ωssq)\n",
    "        assert np.allclose(As.T @ M @ As,np.eye(N))\n",
    "        self.K = K\n",
    "        self.M = M\n",
    "        self.ωs = ωs\n",
    "        self.As = As\n",
    "    def solve(self,q0,v0,t):\n",
    "        # q(t) = As (Rcs cos(ωs t) + Ics sin(ωs t))\n",
    "        # v(t) = As ωs (-Rcs sin(ωs t) + Ics cos(ωs t))\n",
    "        # q0 = As Rcs -> As^T M q0 = As^T M As Rcs = Rcs\n",
    "        # v0 = As ωs Ics -> As^T M v0 = As^T M As ωs Ics = ωs Ics\n",
    "        Rcs = self.As.T @ self.M @ q0\n",
    "        Ics = (self.As.T @ self.M @ v0) / self.ωs\n",
    "        self.cs = Rcs + 1j*Ics\n",
    "        cst = self.cs[:,None]*np.exp(-1j*self.ωs[:,None]*t[None,:])\n",
    "        self.Q = np.real(cst)\n",
    "        self.V = self.ωs[:,None] * np.imag(cst)\n",
    "        self.q = self.As @ self.Q\n",
    "        self.v = self.As @ self.V\n",
    "        self.t = t"
   ]
  },
  {
   "cell_type": "markdown",
   "metadata": {},
   "source": [
    "## Two coupled oscillators"
   ]
  },
  {
   "cell_type": "code",
   "execution_count": 5,
   "metadata": {
    "ExecuteTime": {
     "end_time": "2020-03-03T22:27:07.596067Z",
     "start_time": "2020-03-03T22:27:07.183576Z"
    }
   },
   "outputs": [
    {
     "data": {
      "application/vnd.jupyter.widget-view+json": {
       "model_id": "1d38532a41a542deb1219d67544755dd",
       "version_major": 2,
       "version_minor": 0
      },
      "text/plain": [
       "Canvas(toolbar=Toolbar(toolitems=[('Home', 'Reset original view', 'home', 'home'), ('Back', 'Back to previous …"
      ]
     },
     "metadata": {},
     "output_type": "display_data"
    },
    {
     "data": {
      "application/vnd.jupyter.widget-view+json": {
       "model_id": "ca05dc8a0029421584fc67a563b2e146",
       "version_major": 2,
       "version_minor": 0
      },
      "text/plain": [
       "Canvas(toolbar=Toolbar(toolitems=[('Home', 'Reset original view', 'home', 'home'), ('Back', 'Back to previous …"
      ]
     },
     "metadata": {},
     "output_type": "display_data"
    },
    {
     "data": {
      "application/vnd.jupyter.widget-view+json": {
       "model_id": "039a1eb958d74effb628527695ac8b38",
       "version_major": 2,
       "version_minor": 0
      },
      "text/plain": [
       "Canvas(toolbar=Toolbar(toolitems=[('Home', 'Reset original view', 'home', 'home'), ('Back', 'Back to previous …"
      ]
     },
     "metadata": {},
     "output_type": "display_data"
    }
   ],
   "source": [
    "k = 1.\n",
    "kp = 0.85\n",
    "K = np.array([[k+kp,-kp],[-kp,k+kp]])\n",
    "M = np.array([[1.,0.],[0.,1]])\n",
    "ch = coupled_harmosc(M,K)\n",
    "\n",
    "t = np.linspace(0,30,501)\n",
    "v0 = [0.,0.]\n",
    "for q0 in ([1.,1.], [1.,-1.], [2.,0]):\n",
    "    ch.solve(q0,v0,t)\n",
    "    f,axs = plt.subplots(2,1,sharex=True,sharey=True)\n",
    "    for (ii,ax) in enumerate(axs):\n",
    "        ax.plot(ch.t,ch.q[ii,:])\n",
    "        ax.set_ylabel(f\"$q_{ii+1}$\")\n",
    "        ax.axhline(0,lw=1,color=\"0.7\")\n",
    "    axs[1].set_xlabel(\"t\")\n",
    "    f.tight_layout(pad=0)"
   ]
  },
  {
   "cell_type": "markdown",
   "metadata": {},
   "source": [
    "## Chain of coupled oscillators"
   ]
  },
  {
   "cell_type": "code",
   "execution_count": 6,
   "metadata": {
    "ExecuteTime": {
     "end_time": "2020-03-03T22:27:09.512720Z",
     "start_time": "2020-03-03T22:27:09.497813Z"
    }
   },
   "outputs": [],
   "source": [
    "N = 61\n",
    "xs = np.linspace(-1,1,N)\n",
    "ms = np.ones(N)\n",
    "ωs = np.ones(N)\n",
    "gs = (-.5 * ms * ωs**2)[1:]\n",
    "M = np.diag(ms)\n",
    "K = np.diag(ms*ωs**2)\n",
    "K[range(1,N),range(N-1)] = K[range(N-1),range(1,N)] = gs\n",
    "ch = coupled_harmosc(M,K)"
   ]
  },
  {
   "cell_type": "code",
   "execution_count": 7,
   "metadata": {
    "ExecuteTime": {
     "end_time": "2020-03-03T22:27:10.114615Z",
     "start_time": "2020-03-03T22:27:10.104650Z"
    }
   },
   "outputs": [],
   "source": [
    "q0 = np.exp(-xs**2/(2*0.15**2))\n",
    "v0 = np.zeros_like(q0)\n",
    "t = np.linspace(0.,200.,801)\n",
    "ch.solve(q0,v0,t)"
   ]
  },
  {
   "cell_type": "code",
   "execution_count": 8,
   "metadata": {
    "ExecuteTime": {
     "end_time": "2020-03-03T22:27:10.905219Z",
     "start_time": "2020-03-03T22:27:10.863755Z"
    }
   },
   "outputs": [
    {
     "data": {
      "application/vnd.jupyter.widget-view+json": {
       "model_id": "40e793e21c234e2c8dd131a993e9de67",
       "version_major": 2,
       "version_minor": 0
      },
      "text/plain": [
       "Canvas(toolbar=Toolbar(toolitems=[('Home', 'Reset original view', 'home', 'home'), ('Back', 'Back to previous …"
      ]
     },
     "metadata": {},
     "output_type": "display_data"
    }
   ],
   "source": [
    "plt.figure()\n",
    "plt.pcolormesh(ch.t,range(N),ch.q,cmap=\"coolwarm\",vmax=1,vmin=-1,shading='gouraud');\n",
    "plt.xlabel(\"t\")\n",
    "plt.ylabel(\"i\")\n",
    "cb = plt.colorbar();\n",
    "cb.set_label(\"$q_i$\")"
   ]
  },
  {
   "cell_type": "code",
   "execution_count": 14,
   "metadata": {
    "ExecuteTime": {
     "end_time": "2020-03-03T22:27:58.119679Z",
     "start_time": "2020-03-03T22:27:58.048747Z"
    },
    "scrolled": false
   },
   "outputs": [
    {
     "data": {
      "application/vnd.jupyter.widget-view+json": {
       "model_id": "d9093a6130d743308abceb725f2ecb06",
       "version_major": 2,
       "version_minor": 0
      },
      "text/plain": [
       "Canvas(toolbar=Toolbar(toolitems=[('Home', 'Reset original view', 'home', 'home'), ('Back', 'Back to previous …"
      ]
     },
     "metadata": {},
     "output_type": "display_data"
    },
    {
     "data": {
      "application/vnd.jupyter.widget-view+json": {
       "model_id": "6563eb2947c243e0af086c6e89f4e201",
       "version_major": 2,
       "version_minor": 0
      },
      "text/plain": [
       "HBox(children=(Play(value=0, interval=30, max=800), interactive(children=(IntSlider(value=0, description='it',…"
      ]
     },
     "metadata": {},
     "output_type": "display_data"
    }
   ],
   "source": [
    "fig, ax = plt.subplots()\n",
    "ln, = ax.plot(range(N), ch.q[:,0], \"ko\")\n",
    "ll = ax.vlines(range(N), 0, ch.q[:,0], lw=1)\n",
    "ax.axhline(0,lw=0.5,color=\"0.5\")\n",
    "ax.set_ylim(-1.04,1.04)\n",
    "ax.spines[\"right\"].set_visible(False)\n",
    "ax.spines[\"top\"].set_visible(False)\n",
    "ax.set_yticks([])\n",
    "ax.set_xlabel(\"i\")\n",
    "ax.set_ylabel(\"$x_i$\")\n",
    "fig.tight_layout(pad=0.5)\n",
    "\n",
    "def f1(it=0):\n",
    "    q = ch.q[:,it]\n",
    "    ln.set_ydata(q)\n",
    "    update_segs(ll,q)\n",
    "w = ipw.interactive(f1,it=(0,len(t)-1))\n",
    "play = ipw.Play(value=0,min=0,max=len(t)-1,step=1,interval=30)\n",
    "ipw.jslink((play, 'value'), (w.children[0], 'value'))\n",
    "ipw.HBox([play, w])"
   ]
  },
  {
   "cell_type": "code",
   "execution_count": 10,
   "metadata": {
    "ExecuteTime": {
     "end_time": "2020-03-03T22:27:14.114529Z",
     "start_time": "2020-03-03T22:27:14.088777Z"
    }
   },
   "outputs": [
    {
     "data": {
      "application/vnd.jupyter.widget-view+json": {
       "model_id": "6390762805dd4cea8a7150ec354585f2",
       "version_major": 2,
       "version_minor": 0
      },
      "text/plain": [
       "Canvas(toolbar=Toolbar(toolitems=[('Home', 'Reset original view', 'home', 'home'), ('Back', 'Back to previous …"
      ]
     },
     "metadata": {},
     "output_type": "display_data"
    },
    {
     "data": {
      "text/plain": [
       "(0, 30)"
      ]
     },
     "execution_count": 10,
     "metadata": {},
     "output_type": "execute_result"
    }
   ],
   "source": [
    "plt.figure()\n",
    "plt.plot(range(N),abs(ch.cs),\"o\")\n",
    "plt.xlim(0,30)"
   ]
  },
  {
   "cell_type": "code",
   "execution_count": 15,
   "metadata": {
    "ExecuteTime": {
     "end_time": "2020-03-03T22:28:35.352210Z",
     "start_time": "2020-03-03T22:28:35.147116Z"
    }
   },
   "outputs": [
    {
     "name": "stdout",
     "output_type": "stream",
     "text": [
      "[ 0  2  4  6  8 10]\n"
     ]
    },
    {
     "data": {
      "application/vnd.jupyter.widget-view+json": {
       "model_id": "b2b82e76d1054671b498062bac0c43e9",
       "version_major": 2,
       "version_minor": 0
      },
      "text/plain": [
       "Canvas(toolbar=Toolbar(toolitems=[('Home', 'Reset original view', 'home', 'home'), ('Back', 'Back to previous …"
      ]
     },
     "metadata": {},
     "output_type": "display_data"
    },
    {
     "data": {
      "application/vnd.jupyter.widget-view+json": {
       "model_id": "4a31fddde962448db0cbbe87cda41851",
       "version_major": 2,
       "version_minor": 0
      },
      "text/plain": [
       "HBox(children=(Play(value=0, interval=30, max=800), interactive(children=(IntSlider(value=0, description='it',…"
      ]
     },
     "metadata": {},
     "output_type": "display_data"
    }
   ],
   "source": [
    "takeinds, = np.where(abs(ch.cs)>0.04)\n",
    "print(takeinds)\n",
    "\n",
    "fig, axs = plt.subplots(2,(len(takeinds)+1)//2,figsize=(15,7.5),sharex=True,sharey=\"row\")\n",
    "lns = []\n",
    "normal_modes = []\n",
    "for (ii,ax) in zip(takeinds,axs.T.flat):\n",
    "    nm = np.real(ch.cs[ii] * ch.As[None,:,ii] * np.exp(-1j*ch.ωs[ii]*t[:,None]))\n",
    "    normal_modes.append(nm)\n",
    "    ln, = ax.plot(range(N), nm[0], \"ko\")\n",
    "    ll  = ax.vlines(range(N), 0, nm[0], lw=1)\n",
    "    ax.axhline(0,lw=0.5,color=\"0.5\")\n",
    "    ax.set_ylim(-0.5,0.5)\n",
    "    ax.axis(\"off\")\n",
    "    lns.append((ln,ll))\n",
    "fig.tight_layout(pad=1)\n",
    "\n",
    "def f2(it=0):\n",
    "    for ((ln,ll),nm) in zip(lns,normal_modes):\n",
    "        ln.set_ydata(nm[it])\n",
    "        update_segs(ll,nm[it])\n",
    "w = ipw.interactive(f2,it=(0,len(t)-1))\n",
    "play = ipw.Play(value=0,min=0,max=len(t)-1,step=1,interval=30)\n",
    "ipw.jslink((play, 'value'), (w.children[0], 'value'))\n",
    "ipw.HBox([play, w])"
   ]
  }
 ],
 "metadata": {
  "@webio": {
   "lastCommId": null,
   "lastKernelId": null
  },
  "hide_input": false,
  "kernelspec": {
   "display_name": "Python 3",
   "language": "python",
   "name": "python3"
  },
  "language_info": {
   "codemirror_mode": {
    "name": "ipython",
    "version": 3
   },
   "file_extension": ".py",
   "mimetype": "text/x-python",
   "name": "python",
   "nbconvert_exporter": "python",
   "pygments_lexer": "ipython3",
   "version": "3.7.6"
  },
  "toc": {
   "base_numbering": 1,
   "nav_menu": {},
   "number_sections": true,
   "sideBar": true,
   "skip_h1_title": false,
   "title_cell": "Table of Contents",
   "title_sidebar": "Contents",
   "toc_cell": false,
   "toc_position": {},
   "toc_section_display": true,
   "toc_window_display": false
  },
  "varInspector": {
   "cols": {
    "lenName": 16,
    "lenType": 16,
    "lenVar": 40
   },
   "kernels_config": {
    "python": {
     "delete_cmd_postfix": "",
     "delete_cmd_prefix": "del ",
     "library": "var_list.py",
     "varRefreshCmd": "print(var_dic_list())"
    },
    "r": {
     "delete_cmd_postfix": ") ",
     "delete_cmd_prefix": "rm(",
     "library": "var_list.r",
     "varRefreshCmd": "cat(var_dic_list()) "
    }
   },
   "types_to_exclude": [
    "module",
    "function",
    "builtin_function_or_method",
    "instance",
    "_Feature"
   ],
   "window_display": false
  }
 },
 "nbformat": 4,
 "nbformat_minor": 4
}
