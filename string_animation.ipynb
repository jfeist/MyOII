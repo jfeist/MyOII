{
 "cells": [
  {
   "cell_type": "markdown",
   "id": "b625578f",
   "metadata": {
    "slideshow": {
     "slide_type": "skip"
    }
   },
   "source": [
    "# Setup"
   ]
  },
  {
   "cell_type": "code",
   "execution_count": 1,
   "id": "00e3de64",
   "metadata": {
    "ExecuteTime": {
     "end_time": "2023-03-03T13:20:31.989962Z",
     "start_time": "2023-03-03T13:20:31.734525Z"
    },
    "code_folding": [
     0
    ],
    "slideshow": {
     "slide_type": "skip"
    }
   },
   "outputs": [
    {
     "data": {
      "text/html": [
       "<style>\n",
       "        .bk-notebook-logo {\n",
       "            display: block;\n",
       "            width: 20px;\n",
       "            height: 20px;\n",
       "            background-image: url(data:image/png;base64,iVBORw0KGgoAAAANSUhEUgAAABQAAAAUCAYAAACNiR0NAAAABHNCSVQICAgIfAhkiAAAAAlwSFlzAAALEgAACxIB0t1+/AAAABx0RVh0U29mdHdhcmUAQWRvYmUgRmlyZXdvcmtzIENTNui8sowAAAOkSURBVDiNjZRtaJVlGMd/1/08zzln5zjP1LWcU9N0NkN8m2CYjpgQYQXqSs0I84OLIC0hkEKoPtiH3gmKoiJDU7QpLgoLjLIQCpEsNJ1vqUOdO7ppbuec5+V+rj4ctwzd8IIbbi6u+8f1539dt3A78eXC7QizUF7gyV1fD1Yqg4JWz84yffhm0qkFqBogB9rM8tZdtwVsPUhWhGcFJngGeWrPzHm5oaMmkfEg1usvLFyc8jLRqDOMru7AyC8saQr7GG7f5fvDeH7Ej8CM66nIF+8yngt6HWaKh7k49Soy9nXurCi1o3qUbS3zWfrYeQDTB/Qj6kX6Ybhw4B+bOYoLKCC9H3Nu/leUTZ1JdRWkkn2ldcCamzrcf47KKXdAJllSlxAOkRgyHsGC/zRday5Qld9DyoM4/q/rUoy/CXh3jzOu3bHUVZeU+DEn8FInkPBFlu3+nW3Nw0mk6vCDiWg8CeJaxEwuHS3+z5RgY+YBR6V1Z1nxSOfoaPa4LASWxxdNp+VWTk7+4vzaou8v8PN+xo+KY2xsw6une2frhw05CTYOmQvsEhjhWjn0bmXPjpE1+kplmmkP3suftwTubK9Vq22qKmrBhpY4jvd5afdRA3wGjFAgcnTK2s4hY0/GPNIb0nErGMCRxWOOX64Z8RAC4oCXdklmEvcL8o0BfkNK4lUg9HTl+oPlQxdNo3Mg4Nv175e/1LDGzZen30MEjRUtmXSfiTVu1kK8W4txyV6BMKlbgk3lMwYCiusNy9fVfvvwMxv8Ynl6vxoByANLTWplvuj/nF9m2+PDtt1eiHPBr1oIfhCChQMBw6Aw0UulqTKZdfVvfG7VcfIqLG9bcldL/+pdWTLxLUy8Qq38heUIjh4XlzZxzQm19lLFlr8vdQ97rjZVOLf8nclzckbcD4wxXMidpX30sFd37Fv/GtwwhzhxGVAprjbg0gCAEeIgwCZyTV2Z1REEW8O4py0wsjeloKoMr6iCY6dP92H6Vw/oTyICIthibxjm/DfN9lVz8IqtqKYLUXfoKVMVQVVJOElGjrnnUt9T9wbgp8AyYKaGlqingHZU/uG2NTZSVqwHQTWkx9hxjkpWDaCg6Ckj5qebgBVbT3V3NNXMSiWSDdGV3hrtzla7J+duwPOToIg42ChPQOQjspnSlp1V+Gjdged7+8UN5CRAV7a5EdFNwCjEaBR27b3W890TE7g24NAP/mMDXRWrGoFPQI9ls/MWO2dWFAar/xcOIImbbpA3zgAAAABJRU5ErkJggg==);\n",
       "        }\n",
       "    </style>\n",
       "    <div>\n",
       "        <a href=\"https://bokeh.org\" target=\"_blank\" class=\"bk-notebook-logo\"></a>\n",
       "        <span id=\"p1001\">Loading BokehJS ...</span>\n",
       "    </div>\n"
      ]
     },
     "metadata": {},
     "output_type": "display_data"
    },
    {
     "data": {
      "application/javascript": [
       "(function(root) {\n",
       "  function now() {\n",
       "    return new Date();\n",
       "  }\n",
       "\n",
       "  const force = true;\n",
       "\n",
       "  if (typeof root._bokeh_onload_callbacks === \"undefined\" || force === true) {\n",
       "    root._bokeh_onload_callbacks = [];\n",
       "    root._bokeh_is_loading = undefined;\n",
       "  }\n",
       "\n",
       "const JS_MIME_TYPE = 'application/javascript';\n",
       "  const HTML_MIME_TYPE = 'text/html';\n",
       "  const EXEC_MIME_TYPE = 'application/vnd.bokehjs_exec.v0+json';\n",
       "  const CLASS_NAME = 'output_bokeh rendered_html';\n",
       "\n",
       "  /**\n",
       "   * Render data to the DOM node\n",
       "   */\n",
       "  function render(props, node) {\n",
       "    const script = document.createElement(\"script\");\n",
       "    node.appendChild(script);\n",
       "  }\n",
       "\n",
       "  /**\n",
       "   * Handle when an output is cleared or removed\n",
       "   */\n",
       "  function handleClearOutput(event, handle) {\n",
       "    const cell = handle.cell;\n",
       "\n",
       "    const id = cell.output_area._bokeh_element_id;\n",
       "    const server_id = cell.output_area._bokeh_server_id;\n",
       "    // Clean up Bokeh references\n",
       "    if (id != null && id in Bokeh.index) {\n",
       "      Bokeh.index[id].model.document.clear();\n",
       "      delete Bokeh.index[id];\n",
       "    }\n",
       "\n",
       "    if (server_id !== undefined) {\n",
       "      // Clean up Bokeh references\n",
       "      const cmd_clean = \"from bokeh.io.state import curstate; print(curstate().uuid_to_server['\" + server_id + \"'].get_sessions()[0].document.roots[0]._id)\";\n",
       "      cell.notebook.kernel.execute(cmd_clean, {\n",
       "        iopub: {\n",
       "          output: function(msg) {\n",
       "            const id = msg.content.text.trim();\n",
       "            if (id in Bokeh.index) {\n",
       "              Bokeh.index[id].model.document.clear();\n",
       "              delete Bokeh.index[id];\n",
       "            }\n",
       "          }\n",
       "        }\n",
       "      });\n",
       "      // Destroy server and session\n",
       "      const cmd_destroy = \"import bokeh.io.notebook as ion; ion.destroy_server('\" + server_id + \"')\";\n",
       "      cell.notebook.kernel.execute(cmd_destroy);\n",
       "    }\n",
       "  }\n",
       "\n",
       "  /**\n",
       "   * Handle when a new output is added\n",
       "   */\n",
       "  function handleAddOutput(event, handle) {\n",
       "    const output_area = handle.output_area;\n",
       "    const output = handle.output;\n",
       "\n",
       "    // limit handleAddOutput to display_data with EXEC_MIME_TYPE content only\n",
       "    if ((output.output_type != \"display_data\") || (!Object.prototype.hasOwnProperty.call(output.data, EXEC_MIME_TYPE))) {\n",
       "      return\n",
       "    }\n",
       "\n",
       "    const toinsert = output_area.element.find(\".\" + CLASS_NAME.split(' ')[0]);\n",
       "\n",
       "    if (output.metadata[EXEC_MIME_TYPE][\"id\"] !== undefined) {\n",
       "      toinsert[toinsert.length - 1].firstChild.textContent = output.data[JS_MIME_TYPE];\n",
       "      // store reference to embed id on output_area\n",
       "      output_area._bokeh_element_id = output.metadata[EXEC_MIME_TYPE][\"id\"];\n",
       "    }\n",
       "    if (output.metadata[EXEC_MIME_TYPE][\"server_id\"] !== undefined) {\n",
       "      const bk_div = document.createElement(\"div\");\n",
       "      bk_div.innerHTML = output.data[HTML_MIME_TYPE];\n",
       "      const script_attrs = bk_div.children[0].attributes;\n",
       "      for (let i = 0; i < script_attrs.length; i++) {\n",
       "        toinsert[toinsert.length - 1].firstChild.setAttribute(script_attrs[i].name, script_attrs[i].value);\n",
       "        toinsert[toinsert.length - 1].firstChild.textContent = bk_div.children[0].textContent\n",
       "      }\n",
       "      // store reference to server id on output_area\n",
       "      output_area._bokeh_server_id = output.metadata[EXEC_MIME_TYPE][\"server_id\"];\n",
       "    }\n",
       "  }\n",
       "\n",
       "  function register_renderer(events, OutputArea) {\n",
       "\n",
       "    function append_mime(data, metadata, element) {\n",
       "      // create a DOM node to render to\n",
       "      const toinsert = this.create_output_subarea(\n",
       "        metadata,\n",
       "        CLASS_NAME,\n",
       "        EXEC_MIME_TYPE\n",
       "      );\n",
       "      this.keyboard_manager.register_events(toinsert);\n",
       "      // Render to node\n",
       "      const props = {data: data, metadata: metadata[EXEC_MIME_TYPE]};\n",
       "      render(props, toinsert[toinsert.length - 1]);\n",
       "      element.append(toinsert);\n",
       "      return toinsert\n",
       "    }\n",
       "\n",
       "    /* Handle when an output is cleared or removed */\n",
       "    events.on('clear_output.CodeCell', handleClearOutput);\n",
       "    events.on('delete.Cell', handleClearOutput);\n",
       "\n",
       "    /* Handle when a new output is added */\n",
       "    events.on('output_added.OutputArea', handleAddOutput);\n",
       "\n",
       "    /**\n",
       "     * Register the mime type and append_mime function with output_area\n",
       "     */\n",
       "    OutputArea.prototype.register_mime_type(EXEC_MIME_TYPE, append_mime, {\n",
       "      /* Is output safe? */\n",
       "      safe: true,\n",
       "      /* Index of renderer in `output_area.display_order` */\n",
       "      index: 0\n",
       "    });\n",
       "  }\n",
       "\n",
       "  // register the mime type if in Jupyter Notebook environment and previously unregistered\n",
       "  if (root.Jupyter !== undefined) {\n",
       "    const events = require('base/js/events');\n",
       "    const OutputArea = require('notebook/js/outputarea').OutputArea;\n",
       "\n",
       "    if (OutputArea.prototype.mime_types().indexOf(EXEC_MIME_TYPE) == -1) {\n",
       "      register_renderer(events, OutputArea);\n",
       "    }\n",
       "  }\n",
       "  if (typeof (root._bokeh_timeout) === \"undefined\" || force === true) {\n",
       "    root._bokeh_timeout = Date.now() + 5000;\n",
       "    root._bokeh_failed_load = false;\n",
       "  }\n",
       "\n",
       "  const NB_LOAD_WARNING = {'data': {'text/html':\n",
       "     \"<div style='background-color: #fdd'>\\n\"+\n",
       "     \"<p>\\n\"+\n",
       "     \"BokehJS does not appear to have successfully loaded. If loading BokehJS from CDN, this \\n\"+\n",
       "     \"may be due to a slow or bad network connection. Possible fixes:\\n\"+\n",
       "     \"</p>\\n\"+\n",
       "     \"<ul>\\n\"+\n",
       "     \"<li>re-rerun `output_notebook()` to attempt to load from CDN again, or</li>\\n\"+\n",
       "     \"<li>use INLINE resources instead, as so:</li>\\n\"+\n",
       "     \"</ul>\\n\"+\n",
       "     \"<code>\\n\"+\n",
       "     \"from bokeh.resources import INLINE\\n\"+\n",
       "     \"output_notebook(resources=INLINE)\\n\"+\n",
       "     \"</code>\\n\"+\n",
       "     \"</div>\"}};\n",
       "\n",
       "  function display_loaded() {\n",
       "    const el = document.getElementById(\"p1001\");\n",
       "    if (el != null) {\n",
       "      el.textContent = \"BokehJS is loading...\";\n",
       "    }\n",
       "    if (root.Bokeh !== undefined) {\n",
       "      if (el != null) {\n",
       "        el.textContent = \"BokehJS \" + root.Bokeh.version + \" successfully loaded.\";\n",
       "      }\n",
       "    } else if (Date.now() < root._bokeh_timeout) {\n",
       "      setTimeout(display_loaded, 100)\n",
       "    }\n",
       "  }\n",
       "\n",
       "  function run_callbacks() {\n",
       "    try {\n",
       "      root._bokeh_onload_callbacks.forEach(function(callback) {\n",
       "        if (callback != null)\n",
       "          callback();\n",
       "      });\n",
       "    } finally {\n",
       "      delete root._bokeh_onload_callbacks\n",
       "    }\n",
       "    console.debug(\"Bokeh: all callbacks have finished\");\n",
       "  }\n",
       "\n",
       "  function load_libs(css_urls, js_urls, callback) {\n",
       "    if (css_urls == null) css_urls = [];\n",
       "    if (js_urls == null) js_urls = [];\n",
       "\n",
       "    root._bokeh_onload_callbacks.push(callback);\n",
       "    if (root._bokeh_is_loading > 0) {\n",
       "      console.debug(\"Bokeh: BokehJS is being loaded, scheduling callback at\", now());\n",
       "      return null;\n",
       "    }\n",
       "    if (js_urls == null || js_urls.length === 0) {\n",
       "      run_callbacks();\n",
       "      return null;\n",
       "    }\n",
       "    console.debug(\"Bokeh: BokehJS not loaded, scheduling load and callback at\", now());\n",
       "    root._bokeh_is_loading = css_urls.length + js_urls.length;\n",
       "\n",
       "    function on_load() {\n",
       "      root._bokeh_is_loading--;\n",
       "      if (root._bokeh_is_loading === 0) {\n",
       "        console.debug(\"Bokeh: all BokehJS libraries/stylesheets loaded\");\n",
       "        run_callbacks()\n",
       "      }\n",
       "    }\n",
       "\n",
       "    function on_error(url) {\n",
       "      console.error(\"failed to load \" + url);\n",
       "    }\n",
       "\n",
       "    for (let i = 0; i < css_urls.length; i++) {\n",
       "      const url = css_urls[i];\n",
       "      const element = document.createElement(\"link\");\n",
       "      element.onload = on_load;\n",
       "      element.onerror = on_error.bind(null, url);\n",
       "      element.rel = \"stylesheet\";\n",
       "      element.type = \"text/css\";\n",
       "      element.href = url;\n",
       "      console.debug(\"Bokeh: injecting link tag for BokehJS stylesheet: \", url);\n",
       "      document.body.appendChild(element);\n",
       "    }\n",
       "\n",
       "    for (let i = 0; i < js_urls.length; i++) {\n",
       "      const url = js_urls[i];\n",
       "      const element = document.createElement('script');\n",
       "      element.onload = on_load;\n",
       "      element.onerror = on_error.bind(null, url);\n",
       "      element.async = false;\n",
       "      element.src = url;\n",
       "      console.debug(\"Bokeh: injecting script tag for BokehJS library: \", url);\n",
       "      document.head.appendChild(element);\n",
       "    }\n",
       "  };\n",
       "\n",
       "  function inject_raw_css(css) {\n",
       "    const element = document.createElement(\"style\");\n",
       "    element.appendChild(document.createTextNode(css));\n",
       "    document.body.appendChild(element);\n",
       "  }\n",
       "\n",
       "  const js_urls = [\"https://cdn.bokeh.org/bokeh/release/bokeh-3.0.3.min.js\", \"https://cdn.bokeh.org/bokeh/release/bokeh-gl-3.0.3.min.js\", \"https://cdn.bokeh.org/bokeh/release/bokeh-widgets-3.0.3.min.js\", \"https://cdn.bokeh.org/bokeh/release/bokeh-tables-3.0.3.min.js\", \"https://cdn.bokeh.org/bokeh/release/bokeh-mathjax-3.0.3.min.js\"];\n",
       "  const css_urls = [];\n",
       "\n",
       "  const inline_js = [    function(Bokeh) {\n",
       "      Bokeh.set_log_level(\"info\");\n",
       "    },\n",
       "function(Bokeh) {\n",
       "    }\n",
       "  ];\n",
       "\n",
       "  function run_inline_js() {\n",
       "    if (root.Bokeh !== undefined || force === true) {\n",
       "          for (let i = 0; i < inline_js.length; i++) {\n",
       "      inline_js[i].call(root, root.Bokeh);\n",
       "    }\n",
       "if (force === true) {\n",
       "        display_loaded();\n",
       "      }} else if (Date.now() < root._bokeh_timeout) {\n",
       "      setTimeout(run_inline_js, 100);\n",
       "    } else if (!root._bokeh_failed_load) {\n",
       "      console.log(\"Bokeh: BokehJS failed to load within specified timeout.\");\n",
       "      root._bokeh_failed_load = true;\n",
       "    } else if (force !== true) {\n",
       "      const cell = $(document.getElementById(\"p1001\")).parents('.cell').data().cell;\n",
       "      cell.output_area.append_execute_result(NB_LOAD_WARNING)\n",
       "    }\n",
       "  }\n",
       "\n",
       "  if (root._bokeh_is_loading === 0) {\n",
       "    console.debug(\"Bokeh: BokehJS loaded, going straight to plotting\");\n",
       "    run_inline_js();\n",
       "  } else {\n",
       "    load_libs(css_urls, js_urls, function() {\n",
       "      console.debug(\"Bokeh: BokehJS plotting callback run at\", now());\n",
       "      run_inline_js();\n",
       "    });\n",
       "  }\n",
       "}(window));"
      ],
      "application/vnd.bokehjs_load.v0+json": "(function(root) {\n  function now() {\n    return new Date();\n  }\n\n  const force = true;\n\n  if (typeof root._bokeh_onload_callbacks === \"undefined\" || force === true) {\n    root._bokeh_onload_callbacks = [];\n    root._bokeh_is_loading = undefined;\n  }\n\n\n  if (typeof (root._bokeh_timeout) === \"undefined\" || force === true) {\n    root._bokeh_timeout = Date.now() + 5000;\n    root._bokeh_failed_load = false;\n  }\n\n  const NB_LOAD_WARNING = {'data': {'text/html':\n     \"<div style='background-color: #fdd'>\\n\"+\n     \"<p>\\n\"+\n     \"BokehJS does not appear to have successfully loaded. If loading BokehJS from CDN, this \\n\"+\n     \"may be due to a slow or bad network connection. Possible fixes:\\n\"+\n     \"</p>\\n\"+\n     \"<ul>\\n\"+\n     \"<li>re-rerun `output_notebook()` to attempt to load from CDN again, or</li>\\n\"+\n     \"<li>use INLINE resources instead, as so:</li>\\n\"+\n     \"</ul>\\n\"+\n     \"<code>\\n\"+\n     \"from bokeh.resources import INLINE\\n\"+\n     \"output_notebook(resources=INLINE)\\n\"+\n     \"</code>\\n\"+\n     \"</div>\"}};\n\n  function display_loaded() {\n    const el = document.getElementById(\"p1001\");\n    if (el != null) {\n      el.textContent = \"BokehJS is loading...\";\n    }\n    if (root.Bokeh !== undefined) {\n      if (el != null) {\n        el.textContent = \"BokehJS \" + root.Bokeh.version + \" successfully loaded.\";\n      }\n    } else if (Date.now() < root._bokeh_timeout) {\n      setTimeout(display_loaded, 100)\n    }\n  }\n\n  function run_callbacks() {\n    try {\n      root._bokeh_onload_callbacks.forEach(function(callback) {\n        if (callback != null)\n          callback();\n      });\n    } finally {\n      delete root._bokeh_onload_callbacks\n    }\n    console.debug(\"Bokeh: all callbacks have finished\");\n  }\n\n  function load_libs(css_urls, js_urls, callback) {\n    if (css_urls == null) css_urls = [];\n    if (js_urls == null) js_urls = [];\n\n    root._bokeh_onload_callbacks.push(callback);\n    if (root._bokeh_is_loading > 0) {\n      console.debug(\"Bokeh: BokehJS is being loaded, scheduling callback at\", now());\n      return null;\n    }\n    if (js_urls == null || js_urls.length === 0) {\n      run_callbacks();\n      return null;\n    }\n    console.debug(\"Bokeh: BokehJS not loaded, scheduling load and callback at\", now());\n    root._bokeh_is_loading = css_urls.length + js_urls.length;\n\n    function on_load() {\n      root._bokeh_is_loading--;\n      if (root._bokeh_is_loading === 0) {\n        console.debug(\"Bokeh: all BokehJS libraries/stylesheets loaded\");\n        run_callbacks()\n      }\n    }\n\n    function on_error(url) {\n      console.error(\"failed to load \" + url);\n    }\n\n    for (let i = 0; i < css_urls.length; i++) {\n      const url = css_urls[i];\n      const element = document.createElement(\"link\");\n      element.onload = on_load;\n      element.onerror = on_error.bind(null, url);\n      element.rel = \"stylesheet\";\n      element.type = \"text/css\";\n      element.href = url;\n      console.debug(\"Bokeh: injecting link tag for BokehJS stylesheet: \", url);\n      document.body.appendChild(element);\n    }\n\n    for (let i = 0; i < js_urls.length; i++) {\n      const url = js_urls[i];\n      const element = document.createElement('script');\n      element.onload = on_load;\n      element.onerror = on_error.bind(null, url);\n      element.async = false;\n      element.src = url;\n      console.debug(\"Bokeh: injecting script tag for BokehJS library: \", url);\n      document.head.appendChild(element);\n    }\n  };\n\n  function inject_raw_css(css) {\n    const element = document.createElement(\"style\");\n    element.appendChild(document.createTextNode(css));\n    document.body.appendChild(element);\n  }\n\n  const js_urls = [\"https://cdn.bokeh.org/bokeh/release/bokeh-3.0.3.min.js\", \"https://cdn.bokeh.org/bokeh/release/bokeh-gl-3.0.3.min.js\", \"https://cdn.bokeh.org/bokeh/release/bokeh-widgets-3.0.3.min.js\", \"https://cdn.bokeh.org/bokeh/release/bokeh-tables-3.0.3.min.js\", \"https://cdn.bokeh.org/bokeh/release/bokeh-mathjax-3.0.3.min.js\"];\n  const css_urls = [];\n\n  const inline_js = [    function(Bokeh) {\n      Bokeh.set_log_level(\"info\");\n    },\nfunction(Bokeh) {\n    }\n  ];\n\n  function run_inline_js() {\n    if (root.Bokeh !== undefined || force === true) {\n          for (let i = 0; i < inline_js.length; i++) {\n      inline_js[i].call(root, root.Bokeh);\n    }\nif (force === true) {\n        display_loaded();\n      }} else if (Date.now() < root._bokeh_timeout) {\n      setTimeout(run_inline_js, 100);\n    } else if (!root._bokeh_failed_load) {\n      console.log(\"Bokeh: BokehJS failed to load within specified timeout.\");\n      root._bokeh_failed_load = true;\n    } else if (force !== true) {\n      const cell = $(document.getElementById(\"p1001\")).parents('.cell').data().cell;\n      cell.output_area.append_execute_result(NB_LOAD_WARNING)\n    }\n  }\n\n  if (root._bokeh_is_loading === 0) {\n    console.debug(\"Bokeh: BokehJS loaded, going straight to plotting\");\n    run_inline_js();\n  } else {\n    load_libs(css_urls, js_urls, function() {\n      console.debug(\"Bokeh: BokehJS plotting callback run at\", now());\n      run_inline_js();\n    });\n  }\n}(window));"
     },
     "metadata": {},
     "output_type": "display_data"
    }
   ],
   "source": [
    "# import libraries\n",
    "import numpy as np\n",
    "from numpy import *\n",
    "from bokeh.io import output_notebook, show\n",
    "from bokeh.plotting import figure, ColumnDataSource\n",
    "from bokeh.models import CustomJS, Slider, Range1d, Span, Toggle, Spinner\n",
    "from bokeh.layouts import column, row, gridplot\n",
    "output_notebook()"
   ]
  },
  {
   "cell_type": "code",
   "execution_count": 2,
   "id": "93c0df80",
   "metadata": {
    "ExecuteTime": {
     "end_time": "2023-03-03T13:20:31.995433Z",
     "start_time": "2023-03-03T13:20:31.991445Z"
    },
    "code_folding": [
     0
    ],
    "slideshow": {
     "slide_type": "skip"
    }
   },
   "outputs": [],
   "source": [
    "# style definitions\n",
    "colors = ['#000000', '#E69F00', '#56B4E9', '#009E73', '#F0E442', '#0072B2', '#D55E00', '#CC79A7']\n",
    "SUB = str.maketrans(\"0123456789\", \"₀₁₂₃₄₅₆₇₈₉\")\n",
    "SUP = str.maketrans(\"0123456789\", \"⁰¹²³⁴⁵⁶⁷⁸⁹\")\n",
    "\n",
    "def set_fig_style(fig,xmax,ymax,xlab=\"x\",ylab=\"y(x,t)\",xmin=0,ymin=None):\n",
    "    if ymin is None:\n",
    "        ymin = -ymax\n",
    "    for (ax, lab) in [(fig.xaxis,xlab),(fig.yaxis,ylab)]:\n",
    "        ax.axis_label = lab\n",
    "        ax.axis_label_text_font_size = '14pt'\n",
    "        ax.axis_label_text_font_style = 'normal'\n",
    "        ax.major_label_text_font_size = '12pt'\n",
    "    fig.x_range = Range1d(xmin,xmax)\n",
    "    fig.y_range = Range1d(ymin,ymax)"
   ]
  },
  {
   "cell_type": "code",
   "execution_count": 3,
   "id": "d1535580",
   "metadata": {
    "ExecuteTime": {
     "end_time": "2023-03-03T13:20:32.002477Z",
     "start_time": "2023-03-03T13:20:31.997001Z"
    },
    "code_folding": [
     0
    ]
   },
   "outputs": [
    {
     "data": {
      "application/javascript": [
       "requirejs.config({\n",
       "    paths: { 'math': ['https://cdnjs.cloudflare.com/ajax/libs/mathjs/11.6.0/math.min'], },\n",
       "});\n"
      ],
      "text/plain": [
       "<IPython.core.display.Javascript object>"
      ]
     },
     "metadata": {},
     "output_type": "display_data"
    }
   ],
   "source": [
    "%%javascript\n",
    "requirejs.config({\n",
    "    paths: { 'math': ['https://cdnjs.cloudflare.com/ajax/libs/mathjs/11.6.0/math.min'], },\n",
    "});"
   ]
  },
  {
   "cell_type": "code",
   "execution_count": 4,
   "id": "5c4489e4",
   "metadata": {
    "ExecuteTime": {
     "end_time": "2023-03-03T13:20:32.013183Z",
     "start_time": "2023-03-03T13:20:32.005425Z"
    },
    "code_folding": [
     0
    ],
    "scrolled": false
   },
   "outputs": [],
   "source": [
    "def make_string_animation(L,cs,v=1.,dt=None, width=900):\n",
    "    # these are the coefficients of sin(kn x), with kn = nπ/L\n",
    "    cs = np.asarray(cs)\n",
    "    acs = abs(cs)\n",
    "    phis = np.angle(cs)\n",
    "    ns = np.arange(1,len(cs)+1)\n",
    "    ks = ns*np.pi/L\n",
    "    ωs = v*ks\n",
    "\n",
    "    n = len(cs)\n",
    "    # make sure that number of points in FFT is multiple of 2\n",
    "    n_fft = 2**math.ceil(math.log2(2*n+2))\n",
    "    cfft = np.zeros(n_fft)\n",
    "    cfft[1:n+1] = n_fft*cs.real\n",
    "\n",
    "    x = np.linspace(0,L,n_fft//2 + 1)\n",
    "\n",
    "    if dt is None:\n",
    "        T = 2*L/v\n",
    "        dt = T/200\n",
    "\n",
    "    if isinstance(dt,(int,float)):\n",
    "        dt = (dt/10,dt*10,dt/10,dt)\n",
    "    else:\n",
    "        assert len(dt) == 4\n",
    "    \n",
    "    y = np.fft.ifft(cfft)[:len(x)]\n",
    "    source = ColumnDataSource(data=dict(x=x,y=y.imag))\n",
    "\n",
    "    fig = figure(width=width,height=500)\n",
    "    fig.line('x', 'y', source=source, line_width=4, color=colors[0])\n",
    "    set_fig_style(fig,x.max(),ymax=1.03*abs(source.data['y']).max())\n",
    "\n",
    "    slider_t = Slider(start=0, end=1000, value=0, step=0.1, title='t', sizing_mode=\"stretch_width\")\n",
    "    spinner_dt = Spinner(low=dt[0], high=dt[1], step=dt[2], value=dt[3], title=\"δt\", width=80, sizing_mode=\"stretch_height\")\n",
    "\n",
    "    # JavaScript callback to do animations directly in the browser (without needing to communicate with server)\n",
    "    cb_sliders = CustomJS(args=dict(source=source, slider_t=slider_t, acs=acs, phis=phis, ωs=ωs, cfft=cfft),\n",
    "                          code=\"\"\"require(['math'], function(math) {\n",
    "                                      const t = slider_t.value;\n",
    "                                      const ys = source.data['y'];\n",
    "                                      const n_fft = cfft.length;\n",
    "                                      acs.forEach((ac,i) => cfft[i+1] = ac*math.cos(ωs[i]*t+phis[i]));\n",
    "                                      const yfft = math.ifft(Array.from(cfft));\n",
    "                                      ys.forEach((_,i) => ys[i] = n_fft*yfft[i].im);\n",
    "                                      source.change.emit();\n",
    "                                  });\"\"\")\n",
    "\n",
    "    slider_t.js_on_change('value', cb_sliders)\n",
    "\n",
    "    # Set up Play/Pause button/toggle JS\n",
    "    cb_toggle = CustomJS(args=dict(s_t=slider_t,s_dt=spinner_dt,fig=fig),\n",
    "                         code=\"\"\"function upfun() { s_t.value += s_dt.value; cb_obj.active || clearInterval(updater) }\n",
    "                                 cb_obj.label = cb_obj.active ? '❚❚ Pause' : '► Play';\n",
    "                                 if (cb_obj.active) var updater = setInterval(upfun, 20);\"\"\")\n",
    "    toggle = Toggle(label='► Play',active=False, sizing_mode=\"stretch_height\", width=80)\n",
    "    toggle.js_on_change('active', cb_toggle)\n",
    "\n",
    "    layout = column(row(toggle, spinner_dt, slider_t, sizing_mode=\"stretch_width\"), fig)\n",
    "    show(layout)"
   ]
  },
  {
   "cell_type": "markdown",
   "id": "581f87ed",
   "metadata": {},
   "source": [
    "# Plot motion of a string with fixed ends, with given normal mode coefficients"
   ]
  },
  {
   "cell_type": "markdown",
   "id": "82ae088b",
   "metadata": {},
   "source": [
    "## Example 1\n",
    "For initial condition $y(x,t=0) = a x (L-x)$, where $a$ is a constant with the correct units, we get $c_n = a \\frac{4-4\\cos(k_n L) - 2k_n L \\sin(k_n L)}{k_n^3 L}$."
   ]
  },
  {
   "cell_type": "code",
   "execution_count": 5,
   "id": "b234f166",
   "metadata": {
    "ExecuteTime": {
     "end_time": "2023-03-03T13:20:32.214450Z",
     "start_time": "2023-03-03T13:20:32.014262Z"
    },
    "code_folding": [],
    "scrolled": false
   },
   "outputs": [
    {
     "data": {
      "text/html": [
       "\n",
       "  <div id=\"d409cfa5-cb0f-4e75-a861-315f1f00ceb9\" data-root-id=\"p1068\" style=\"display: contents;\"></div>\n"
      ]
     },
     "metadata": {},
     "output_type": "display_data"
    },
    {
     "data": {
      "application/javascript": [
       "(function(root) {\n",
       "  function embed_document(root) {\n",
       "  const docs_json = {\"853cb4ba-7675-40e6-9729-40f082d6f1c4\":{\"version\":\"3.0.3\",\"title\":\"Bokeh Application\",\"defs\":[],\"roots\":[{\"type\":\"object\",\"name\":\"Column\",\"id\":\"p1068\",\"attributes\":{\"children\":[{\"type\":\"object\",\"name\":\"Row\",\"id\":\"p1067\",\"attributes\":{\"sizing_mode\":\"stretch_width\",\"children\":[{\"type\":\"object\",\"name\":\"Toggle\",\"id\":\"p1066\",\"attributes\":{\"js_property_callbacks\":{\"type\":\"map\",\"entries\":[[\"change:active\",[{\"type\":\"object\",\"name\":\"CustomJS\",\"id\":\"p1065\",\"attributes\":{\"args\":{\"type\":\"map\",\"entries\":[[\"s_t\",{\"type\":\"object\",\"name\":\"Slider\",\"id\":\"p1062\",\"attributes\":{\"js_property_callbacks\":{\"type\":\"map\",\"entries\":[[\"change:value\",[{\"type\":\"object\",\"name\":\"CustomJS\",\"id\":\"p1064\",\"attributes\":{\"args\":{\"type\":\"map\",\"entries\":[[\"source\",{\"type\":\"object\",\"name\":\"ColumnDataSource\",\"id\":\"p1002\",\"attributes\":{\"selected\":{\"type\":\"object\",\"name\":\"Selection\",\"id\":\"p1003\",\"attributes\":{\"indices\":[],\"line_indices\":[]}},\"selection_policy\":{\"type\":\"object\",\"name\":\"UnionRenderers\",\"id\":\"p1004\"},\"data\":{\"type\":\"map\",\"entries\":[[\"x\",{\"type\":\"ndarray\",\"array\":{\"type\":\"bytes\",\"data\":\"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\"},\"shape\":[257],\"dtype\":\"float64\",\"order\":\"little\"}],[\"y\",{\"type\":\"ndarray\",\"array\":{\"type\":\"bytes\",\"data\":\"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\"},\"shape\":[257],\"dtype\":\"float64\",\"order\":\"little\"}]]}}}],[\"slider_t\",{\"id\":\"p1062\"}],[\"acs\",{\"type\":\"ndarray\",\"array\":{\"type\":\"bytes\",\"data\":\"ftdF60WD0D/rPR4xjJxsPAO9ZfoZkoM/6z0eMYycXDznvftIuuhgP/HTviAIE1M8QhZXQRmmSD/rPR4xjJxMPHidZeblMTc/8Jd+WqPjRjwW7qBueWgpP/HTviAIE0M857bsNinJHj+GbFqudFlAPFudpQpYChQ/6z0eMYycPDy01FkvnIgLP+5v/oC1bjk87sZhndC4Az/wl35ao+M2PHNKQayiNv0+s3brYubrUjzguWjcajz2PvHTviAIEzM8XzXp/J1Q8T54AbVfF681PJ5qeECCfes+hmxarnRZMDw8rRuTlC/mPusG9H69YkY88Vam07Mp4j7rPR4xjJwsPMfYhbIBHd4+OFfKETwGIzx5J1mAij3ZPu5v/oC1bik8nUmZgVdd1T7wwkFw2XA+PM2M9E9RPtI+8Jd+WqPjJjyG9yrVTmfPPhT9NqVDoRA8TdJEAuk4yz6zduti5utCPH1ueFhowMc+2v4lAhGBNjy0Z3xgv9jEPvHTviAIEyM8vzUL+JNlwj6TMaPkbn/3O7xQ/EH0UMA+eAG1XxevJTxT20zxaxO9PqckGx8LljE8mu8p7JQEuj6GbFqudFkgPOGN+NbHX7c+nbwccs2JZjtEJzjApxO1PusG9H69YjY8KsJ/RCUSsz5wlDmYKJYsPMXP7bHIT7E+6z0eMYycHDx4kVQRT4avPspuQLv01eo7X5F2GvTIrD44V8oRPAYTPGrh7ZyRWqo+g49P47DrJzxW9KxyWDCoPu5v/oC1bhk8P33QzTNBpj5EkKRLxl/1O7/r5N94haQ+8MJBcNlwLjwZhYXCpvaiPg7P534qeCQ8J4+oBTOPoT7wl35ao+MWPERQNCZgSqA+JROnLuNuMTw5hqioN0iePhT9NqVDoQA8I1Bs2MYxnD4LTqmAH9QhPHz9T8FaS5o+s3brYubrMjwxZs06rY+YPo0D61EP6/w77qlpOSb6lj7a/iUCEYEmPJosQCrChpU+sSEn/miXEDzpRpWI/DGUPvHTviAIExM8hVve6L34kj5rRjQzo+8pPI7DkdtM2JE+kzGj5G5/5zucL50oQc6QPuT7qB8AKhw8lblL+fGwjz54AbVfF68VPICYtWgf6o0+1+jcJfRG/zvR+AsDrESMPqckGx8LliE8OfKsY5a9ij7yrByQmWMDPLDCfNIuUok+hmxarnRZEDwndplTDQCIPkvXK6A7SyQ8IPDZEgnFhj6dvBxyzYlWOyMad/Ywn4U+xYKr3vclFzz5zAotxYyEPusG9H69YiY8VSEVkjGMgz4S8KXyKXz/O0lSLMoInII+cJQ5mCiWHDys7dX8/7qBPsWmnjFaLPY7cTgEFuvngD7rPR4xjJwMPFNlmny5IYA+RkMwvwF5IDwDFk1c5s5+PspuQLv01do7/8eUZGxwfT4L3YdKAZUTPHk6tLRoJnw+OFfKETwGAzx8yZSGYu96PvVqyQ3cwv479Ur2IgHKeT6Dj0/jsOsXPCodNL4ItXg+Lb6Pab9K5zujJZ+tV693Pu5v/oC1bgk8TwCb6uO3dj6vgY8Knn4bPBFiINq4zXU+RJCkS8Zf5TtlxG5Q9e90PqoW5/ny7RA8\"},\"shape\":[150],\"dtype\":\"float64\",\"order\":\"little\"}],[\"phis\",{\"type\":\"ndarray\",\"array\":{\"type\":\"bytes\",\"data\":\"AAAAAAAAAAAAAAAAAAAAAAAAAAAAAAAAAAAAAAAAAAAAAAAAAAAAAAAAAAAAAAAAAAAAAAAAAAAAAAAAAAAAAAAAAAAAAAAAAAAAAAAAAAAAAAAAAAAAAAAAAAAAAAAAAAAAAAAAAAAAAAAAAAAAAAAAAAAAAAAAAAAAAAAAAAAAAAAAAAAAAAAAAAAAAAAAAAAAAAAAAAAAAAAAAAAAAAAAAAAAAAAAAAAAAAAAAAAAAAAAAAAAAAAAAAAAAAAAAAAAAAAAAAAYLURU+yEJQAAAAAAAAAAAAAAAAAAAAAAAAAAAAAAAAAAAAAAAAAAAAAAAAAAAAAAAAAAAAAAAAAAAAAAAAAAAGC1EVPshCUAAAAAAAAAAAAAAAAAAAAAAAAAAAAAAAAAAAAAAAAAAAAAAAAAAAAAAAAAAAAAAAAAAAAAAAAAAABgtRFT7IQlAAAAAAAAAAAAAAAAAAAAAAAAAAAAAAAAAAAAAAAAAAAAAAAAAAAAAAAAAAAAAAAAAAAAAAAAAAAAYLURU+yEJQAAAAAAAAAAAGC1EVPshCUAAAAAAAAAAAAAAAAAAAAAAAAAAAAAAAAAAAAAAAAAAAAAAAAAAAAAAGC1EVPshCUAAAAAAAAAAAAAAAAAAAAAAAAAAAAAAAAAAAAAAAAAAAAAAAAAAAAAAAAAAAAAAAAAAAAAAAAAAAAAAAAAAAAAAAAAAAAAAAAAYLURU+yEJQAAAAAAAAAAAAAAAAAAAAAAAAAAAAAAAAAAAAAAAAAAAAAAAAAAAAAAAAAAAAAAAAAAAAAAAAAAAAAAAAAAAAAAAAAAAAAAAAAAAAAAAAAAAAAAAAAAAAAAAAAAAAAAAAAAAAAAAAAAAAAAAAAAAAAAAAAAAAAAAABgtRFT7IQlAAAAAAAAAAAAAAAAAAAAAAAAAAAAAAAAAAAAAAAAAAAAAAAAAAAAAAAAAAAAAAAAAAAAAAAAAAAAAAAAAAAAAAAAAAAAAAAAAGC1EVPshCUAAAAAAAAAAAAAAAAAAAAAAAAAAAAAAAAAAAAAAAAAAAAAAAAAAAAAAGC1EVPshCUAAAAAAAAAAAAAAAAAAAAAAAAAAAAAAAAAYLURU+yEJQAAAAAAAAAAAAAAAAAAAAAAAAAAAAAAAAAAAAAAAAAAAAAAAAAAAAAAYLURU+yEJQAAAAAAAAAAAAAAAAAAAAAAAAAAAAAAAAAAAAAAAAAAAAAAAAAAAAAAYLURU+yEJQAAAAAAAAAAAAAAAAAAAAAAAAAAAAAAAAAAAAAAAAAAAAAAAAAAAAAAAAAAAAAAAAAAAAAAAAAAAAAAAAAAAAAAAAAAAAAAAABgtRFT7IQlAAAAAAAAAAAAAAAAAAAAAAAAAAAAAAAAAAAAAAAAAAAAAAAAAAAAAAAAAAAAAAAAAAAAAAAAAAAAAAAAAAAAAAAAAAAAAAAAAGC1EVPshCUAAAAAAAAAAAAAAAAAAAAAAAAAAAAAAAAAAAAAAAAAAAAAAAAAAAAAAGC1EVPshCUAAAAAAAAAAAAAAAAAAAAAAAAAAAAAAAAAAAAAAAAAAAAAAAAAAAAAAAAAAAAAAAAAAAAAAAAAAAAAAAAAAAAAA\"},\"shape\":[150],\"dtype\":\"float64\",\"order\":\"little\"}],[\"\\u03c9s\",{\"type\":\"ndarray\",\"array\":{\"type\":\"bytes\",\"data\":\"GC1EVPshCUAYLURU+yEZQNIhM3982SJAGC1EVPshKUBeOFUpemovQNIhM3982TJAdae76bv9NUAYLURU+yE5QLuyzL46RjxAXjhVKXpqP0AA3+7JXEdBQNIhM3982UJApGR3NJxrREB1p7vpu/1FQEbq/57bj0dAGC1EVPshSUDqb4gJG7RKQLuyzL46RkxAjPUQdFrYTUBeOFUpempPQJi9TO9MflBAAN/uyVxHUUBpAJGkbBBSQNIhM3982VJAO0PVWYyiU0CkZHc0nGtUQAyGGQ+sNFVAdae76bv9VUDeyF3Ey8ZWQEbq/57bj1dArwuieetYWEAYLURU+yFZQIFO5i4L61lA6m+ICRu0WkBSkSrkKn1bQLuyzL46RlxAJNRumUoPXUCM9RB0WthdQPUWs05qoV5AXjhVKXpqX0DjrPsBxRlgQJi9TO9MfmBATM6d3NTiYEAA3+7JXEdhQLXvP7fkq2FAaQCRpGwQYkAeEeKR9HRiQNIhM3982WJAhjKEbAQ+Y0A7Q9VZjKJjQO9TJkcUB2RApGR3NJxrZEBYdcghJNBkQAyGGQ+sNGVAwZZq/DOZZUB1p7vpu/1lQCm4DNdDYmZA3shdxMvGZkCS2a6xUytnQEbq/57bj2dA+/pQjGP0Z0CvC6J561hoQGQc82ZzvWhAGC1EVPshaUDMPZVBg4ZpQIFO5i4L62lANV83HJNPakDqb4gJG7RqQJ6A2faiGGtAUpEq5Cp9a0AHonvRsuFrQLuyzL46RmxAb8MdrMKqbEAk1G6ZSg9tQNjkv4bSc21AjPUQdFrYbUBBBmJh4jxuQPUWs05qoW5AqicEPPIFb0BeOFUpempvQBJJphYCz29A46z7AcUZcEA+NaT4CExwQJi9TO9MfnBA8kX15ZCwcEBMzp3c1OJwQKZWRtMYFXFAAN/uyVxHcUBbZ5fAoHlxQLXvP7fkq3FAD3jorSjecUBpAJGkbBByQMOIOZuwQnJAHhHikfR0ckB4mYqIOKdyQNIhM3982XJALKrbdcALc0CGMoRsBD5zQOG6LGNIcHNAO0PVWYyic0CVy31Q0NRzQO9TJkcUB3RASdzOPVg5dECkZHc0nGt0QP7sHyvgnXRAWHXIISTQdECy/XAYaAJ1QAyGGQ+sNHVAZg7CBfBmdUDBlmr8M5l1QBsfE/N3y3VAdae76bv9dUDPL2Tg/y92QCm4DNdDYnZAhEC1zYeUdkDeyF3Ey8Z2QDhRBrsP+XZAktmusVMrd0DsYVeol113QEbq/57bj3dAoXKolR/Cd0D7+lCMY/R3QFWD+YKnJnhArwuieetYeEAJlEpwL4t4QGQc82ZzvXhAvqSbXbfveEAYLURU+yF5QHK17Eo/VHlAzD2VQYOGeUAnxj04x7h5QIFO5i4L63lA29aOJU8dekA1Xzcck096QI/n3xLXgXpA6m+ICRu0ekBE+DAAX+Z6QJ6A2faiGHtA+AiC7eZKe0BSkSrkKn17QKwZ09pur3tAB6J70bLhe0BhKiTI9hN8QLuyzL46RnxAFTt1tX54fEBvwx2swqp8QMpLxqIG3XxAJNRumUoPfUB+XBeQjkF9QNjkv4bSc31A\"},\"shape\":[150],\"dtype\":\"float64\",\"order\":\"little\"}],[\"cfft\",{\"type\":\"ndarray\",\"array\":{\"type\":\"bytes\",\"data\":\"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\"},\"shape\":[512],\"dtype\":\"float64\",\"order\":\"little\"}]]},\"code\":\"require(['math'], function(math) {\\n                                      const t = slider_t.value;\\n                                      const ys = source.data['y'];\\n                                      const n_fft = cfft.length;\\n                                      acs.forEach((ac,i) => cfft[i+1] = ac*math.cos(\\u03c9s[i]*t+phis[i]));\\n                                      const yfft = math.ifft(Array.from(cfft));\\n                                      ys.forEach((_,i) => ys[i] = n_fft*yfft[i].im);\\n                                      source.change.emit();\\n                                  });\"}}]]]},\"sizing_mode\":\"stretch_width\",\"title\":\"t\",\"start\":0,\"end\":1000,\"value\":0,\"step\":0.1}}],[\"s_dt\",{\"type\":\"object\",\"name\":\"Spinner\",\"id\":\"p1063\",\"attributes\":{\"width\":80,\"sizing_mode\":\"stretch_height\",\"title\":\"\\u03b4t\",\"value\":0.01,\"low\":0.001,\"high\":0.1,\"value_throttled\":0.01,\"step\":0.001}}],[\"fig\",{\"type\":\"object\",\"name\":\"Figure\",\"id\":\"p1005\",\"attributes\":{\"width\":900,\"height\":500,\"x_range\":{\"type\":\"object\",\"name\":\"Range1d\",\"id\":\"p1060\"},\"y_range\":{\"type\":\"object\",\"name\":\"Range1d\",\"id\":\"p1061\",\"attributes\":{\"start\":-0.25750003936026905,\"end\":0.25750003936026905}},\"x_scale\":{\"type\":\"object\",\"name\":\"LinearScale\",\"id\":\"p1018\"},\"y_scale\":{\"type\":\"object\",\"name\":\"LinearScale\",\"id\":\"p1020\"},\"title\":{\"type\":\"object\",\"name\":\"Title\",\"id\":\"p1009\"},\"renderers\":[{\"type\":\"object\",\"name\":\"GlyphRenderer\",\"id\":\"p1057\",\"attributes\":{\"data_source\":{\"id\":\"p1002\"},\"view\":{\"type\":\"object\",\"name\":\"CDSView\",\"id\":\"p1058\",\"attributes\":{\"filter\":{\"type\":\"object\",\"name\":\"AllIndices\",\"id\":\"p1059\"}}},\"glyph\":{\"type\":\"object\",\"name\":\"Line\",\"id\":\"p1054\",\"attributes\":{\"x\":{\"type\":\"field\",\"field\":\"x\"},\"y\":{\"type\":\"field\",\"field\":\"y\"},\"line_color\":\"#000000\",\"line_width\":4}},\"nonselection_glyph\":{\"type\":\"object\",\"name\":\"Line\",\"id\":\"p1055\",\"attributes\":{\"x\":{\"type\":\"field\",\"field\":\"x\"},\"y\":{\"type\":\"field\",\"field\":\"y\"},\"line_color\":\"#000000\",\"line_alpha\":0.1,\"line_width\":4}},\"muted_glyph\":{\"type\":\"object\",\"name\":\"Line\",\"id\":\"p1056\",\"attributes\":{\"x\":{\"type\":\"field\",\"field\":\"x\"},\"y\":{\"type\":\"field\",\"field\":\"y\"},\"line_color\":\"#000000\",\"line_alpha\":0.2,\"line_width\":4}}}}],\"toolbar\":{\"type\":\"object\",\"name\":\"Toolbar\",\"id\":\"p1011\",\"attributes\":{\"tools\":[{\"type\":\"object\",\"name\":\"PanTool\",\"id\":\"p1036\"},{\"type\":\"object\",\"name\":\"WheelZoomTool\",\"id\":\"p1037\"},{\"type\":\"object\",\"name\":\"BoxZoomTool\",\"id\":\"p1038\",\"attributes\":{\"overlay\":{\"type\":\"object\",\"name\":\"BoxAnnotation\",\"id\":\"p1039\",\"attributes\":{\"syncable\":false,\"level\":\"overlay\",\"visible\":false,\"left_units\":\"canvas\",\"right_units\":\"canvas\",\"bottom_units\":\"canvas\",\"top_units\":\"canvas\",\"line_color\":\"black\",\"line_alpha\":1.0,\"line_width\":2,\"line_dash\":[4,4],\"fill_color\":\"lightgrey\",\"fill_alpha\":0.5}}}},{\"type\":\"object\",\"name\":\"SaveTool\",\"id\":\"p1040\"},{\"type\":\"object\",\"name\":\"ResetTool\",\"id\":\"p1041\"},{\"type\":\"object\",\"name\":\"HelpTool\",\"id\":\"p1042\"}]}},\"left\":[{\"type\":\"object\",\"name\":\"LinearAxis\",\"id\":\"p1029\",\"attributes\":{\"ticker\":{\"type\":\"object\",\"name\":\"BasicTicker\",\"id\":\"p1030\",\"attributes\":{\"mantissas\":[1,2,5]}},\"formatter\":{\"type\":\"object\",\"name\":\"BasicTickFormatter\",\"id\":\"p1032\"},\"axis_label\":\"y(x,t)\",\"axis_label_text_font_size\":\"14pt\",\"axis_label_text_font_style\":\"normal\",\"major_label_policy\":{\"type\":\"object\",\"name\":\"AllLabels\",\"id\":\"p1031\"},\"major_label_text_font_size\":\"12pt\"}}],\"below\":[{\"type\":\"object\",\"name\":\"LinearAxis\",\"id\":\"p1022\",\"attributes\":{\"ticker\":{\"type\":\"object\",\"name\":\"BasicTicker\",\"id\":\"p1023\",\"attributes\":{\"mantissas\":[1,2,5]}},\"formatter\":{\"type\":\"object\",\"name\":\"BasicTickFormatter\",\"id\":\"p1025\"},\"axis_label\":\"x\",\"axis_label_text_font_size\":\"14pt\",\"axis_label_text_font_style\":\"normal\",\"major_label_policy\":{\"type\":\"object\",\"name\":\"AllLabels\",\"id\":\"p1024\"},\"major_label_text_font_size\":\"12pt\"}}],\"center\":[{\"type\":\"object\",\"name\":\"Grid\",\"id\":\"p1028\",\"attributes\":{\"axis\":{\"id\":\"p1022\"}}},{\"type\":\"object\",\"name\":\"Grid\",\"id\":\"p1035\",\"attributes\":{\"dimension\":1,\"axis\":{\"id\":\"p1029\"}}}]}}]]},\"code\":\"function upfun() { s_t.value += s_dt.value; cb_obj.active || clearInterval(updater) }\\n                                 cb_obj.label = cb_obj.active ? '\\u275a\\u275a Pause' : '\\u25ba Play';\\n                                 if (cb_obj.active) var updater = setInterval(upfun, 20);\"}}]]]},\"width\":80,\"sizing_mode\":\"stretch_height\",\"label\":\"\\u25ba Play\"}},{\"id\":\"p1063\"},{\"id\":\"p1062\"}]}},{\"id\":\"p1005\"}]}}]}};\n",
       "  const render_items = [{\"docid\":\"853cb4ba-7675-40e6-9729-40f082d6f1c4\",\"roots\":{\"p1068\":\"d409cfa5-cb0f-4e75-a861-315f1f00ceb9\"},\"root_ids\":[\"p1068\"]}];\n",
       "  root.Bokeh.embed.embed_items_notebook(docs_json, render_items);\n",
       "  }\n",
       "  if (root.Bokeh !== undefined) {\n",
       "    embed_document(root);\n",
       "  } else {\n",
       "    let attempts = 0;\n",
       "    const timer = setInterval(function(root) {\n",
       "      if (root.Bokeh !== undefined) {\n",
       "        clearInterval(timer);\n",
       "        embed_document(root);\n",
       "      } else {\n",
       "        attempts++;\n",
       "        if (attempts > 100) {\n",
       "          clearInterval(timer);\n",
       "          console.log(\"Bokeh: ERROR: Unable to run BokehJS code because BokehJS library is missing\");\n",
       "        }\n",
       "      }\n",
       "    }, 10, root)\n",
       "  }\n",
       "})(window);"
      ],
      "application/vnd.bokehjs_exec.v0+json": ""
     },
     "metadata": {
      "application/vnd.bokehjs_exec.v0+json": {
       "id": "p1068"
      }
     },
     "output_type": "display_data"
    }
   ],
   "source": [
    "L = 1.\n",
    "nmax = 150\n",
    "n = np.arange(1,nmax+1)\n",
    "kn = n*pi/L\n",
    "\n",
    "# we use a=1\n",
    "cn = (4 - 4*cos(kn*L) - 2*kn*L*sin(kn*L)) / (kn**3 * L)\n",
    "\n",
    "make_string_animation(L,cn)"
   ]
  },
  {
   "cell_type": "markdown",
   "id": "b97a032b",
   "metadata": {},
   "source": [
    "## Example 2: Problem 4.3\n",
    "For the initial condition of problem 3 in problem sheet 4, we get $c_n = \\frac{32 d}{3 n^2 \\pi^2} \\sin(n\\pi/4)$. In the plot, we use $d=1$."
   ]
  },
  {
   "cell_type": "code",
   "execution_count": 6,
   "id": "aa113ab9",
   "metadata": {
    "ExecuteTime": {
     "end_time": "2023-03-03T13:20:32.270777Z",
     "start_time": "2023-03-03T13:20:32.216064Z"
    },
    "code_folding": [],
    "scrolled": false
   },
   "outputs": [
    {
     "data": {
      "text/html": [
       "\n",
       "  <div id=\"710042d5-9c26-4498-9df2-581c5d3e2f76\" data-root-id=\"p1228\" style=\"display: contents;\"></div>\n"
      ]
     },
     "metadata": {},
     "output_type": "display_data"
    },
    {
     "data": {
      "application/javascript": [
       "(function(root) {\n",
       "  function embed_document(root) {\n",
       "  const docs_json = {\"77a29bd9-da92-4591-b471-aeb646cfd1b9\":{\"version\":\"3.0.3\",\"title\":\"Bokeh Application\",\"defs\":[],\"roots\":[{\"type\":\"object\",\"name\":\"Column\",\"id\":\"p1228\",\"attributes\":{\"children\":[{\"type\":\"object\",\"name\":\"Row\",\"id\":\"p1227\",\"attributes\":{\"sizing_mode\":\"stretch_width\",\"children\":[{\"type\":\"object\",\"name\":\"Toggle\",\"id\":\"p1226\",\"attributes\":{\"js_property_callbacks\":{\"type\":\"map\",\"entries\":[[\"change:active\",[{\"type\":\"object\",\"name\":\"CustomJS\",\"id\":\"p1225\",\"attributes\":{\"args\":{\"type\":\"map\",\"entries\":[[\"s_t\",{\"type\":\"object\",\"name\":\"Slider\",\"id\":\"p1222\",\"attributes\":{\"js_property_callbacks\":{\"type\":\"map\",\"entries\":[[\"change:value\",[{\"type\":\"object\",\"name\":\"CustomJS\",\"id\":\"p1224\",\"attributes\":{\"args\":{\"type\":\"map\",\"entries\":[[\"source\",{\"type\":\"object\",\"name\":\"ColumnDataSource\",\"id\":\"p1162\",\"attributes\":{\"selected\":{\"type\":\"object\",\"name\":\"Selection\",\"id\":\"p1163\",\"attributes\":{\"indices\":[],\"line_indices\":[]}},\"selection_policy\":{\"type\":\"object\",\"name\":\"UnionRenderers\",\"id\":\"p1164\"},\"data\":{\"type\":\"map\",\"entries\":[[\"x\",{\"type\":\"ndarray\",\"array\":{\"type\":\"bytes\",\"data\":\"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\"},\"shape\":[513],\"dtype\":\"float64\",\"order\":\"little\"}],[\"y\",{\"type\":\"ndarray\",\"array\":{\"type\":\"bytes\",\"data\":\"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\"},\"shape\":[513],\"dtype\":\"float64\",\"order\":\"little\"}]]}}}],[\"slider_t\",{\"id\":\"p1222\"}],[\"acs\",{\"type\":\"ndarray\",\"array\":{\"type\":\"bytes\",\"data\":\"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\"},\"shape\":[500],\"dtype\":\"float64\",\"order\":\"little\"}],[\"phis\",{\"type\":\"ndarray\",\"array\":{\"type\":\"bytes\",\"data\":\"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\"},\"shape\":[500],\"dtype\":\"float64\",\"order\":\"little\"}],[\"\\u03c9s\",{\"type\":\"ndarray\",\"array\":{\"type\":\"bytes\",\"data\":\"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\"},\"shape\":[500],\"dtype\":\"float64\",\"order\":\"little\"}],[\"cfft\",{\"type\":\"ndarray\",\"array\":{\"type\":\"bytes\",\"data\":\"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\"},\"shape\":[1024],\"dtype\":\"float64\",\"order\":\"little\"}]]},\"code\":\"require(['math'], function(math) {\\n                                      const t = slider_t.value;\\n                                      const ys = source.data['y'];\\n                                      const n_fft = cfft.length;\\n                                      acs.forEach((ac,i) => cfft[i+1] = ac*math.cos(\\u03c9s[i]*t+phis[i]));\\n                                      const yfft = math.ifft(Array.from(cfft));\\n                                      ys.forEach((_,i) => ys[i] = n_fft*yfft[i].im);\\n                                      source.change.emit();\\n                                  });\"}}]]]},\"sizing_mode\":\"stretch_width\",\"title\":\"t\",\"start\":0,\"end\":1000,\"value\":0,\"step\":0.1}}],[\"s_dt\",{\"type\":\"object\",\"name\":\"Spinner\",\"id\":\"p1223\",\"attributes\":{\"width\":80,\"sizing_mode\":\"stretch_height\",\"title\":\"\\u03b4t\",\"value\":0.02,\"low\":0.002,\"high\":0.2,\"value_throttled\":0.02,\"step\":0.002}}],[\"fig\",{\"type\":\"object\",\"name\":\"Figure\",\"id\":\"p1165\",\"attributes\":{\"width\":900,\"height\":500,\"x_range\":{\"type\":\"object\",\"name\":\"Range1d\",\"id\":\"p1220\",\"attributes\":{\"end\":2.0}},\"y_range\":{\"type\":\"object\",\"name\":\"Range1d\",\"id\":\"p1221\",\"attributes\":{\"start\":-1.0288868216395861,\"end\":1.0288868216395861}},\"x_scale\":{\"type\":\"object\",\"name\":\"LinearScale\",\"id\":\"p1178\"},\"y_scale\":{\"type\":\"object\",\"name\":\"LinearScale\",\"id\":\"p1180\"},\"title\":{\"type\":\"object\",\"name\":\"Title\",\"id\":\"p1169\"},\"renderers\":[{\"type\":\"object\",\"name\":\"GlyphRenderer\",\"id\":\"p1217\",\"attributes\":{\"data_source\":{\"id\":\"p1162\"},\"view\":{\"type\":\"object\",\"name\":\"CDSView\",\"id\":\"p1218\",\"attributes\":{\"filter\":{\"type\":\"object\",\"name\":\"AllIndices\",\"id\":\"p1219\"}}},\"glyph\":{\"type\":\"object\",\"name\":\"Line\",\"id\":\"p1214\",\"attributes\":{\"x\":{\"type\":\"field\",\"field\":\"x\"},\"y\":{\"type\":\"field\",\"field\":\"y\"},\"line_color\":\"#000000\",\"line_width\":4}},\"nonselection_glyph\":{\"type\":\"object\",\"name\":\"Line\",\"id\":\"p1215\",\"attributes\":{\"x\":{\"type\":\"field\",\"field\":\"x\"},\"y\":{\"type\":\"field\",\"field\":\"y\"},\"line_color\":\"#000000\",\"line_alpha\":0.1,\"line_width\":4}},\"muted_glyph\":{\"type\":\"object\",\"name\":\"Line\",\"id\":\"p1216\",\"attributes\":{\"x\":{\"type\":\"field\",\"field\":\"x\"},\"y\":{\"type\":\"field\",\"field\":\"y\"},\"line_color\":\"#000000\",\"line_alpha\":0.2,\"line_width\":4}}}}],\"toolbar\":{\"type\":\"object\",\"name\":\"Toolbar\",\"id\":\"p1171\",\"attributes\":{\"tools\":[{\"type\":\"object\",\"name\":\"PanTool\",\"id\":\"p1196\"},{\"type\":\"object\",\"name\":\"WheelZoomTool\",\"id\":\"p1197\"},{\"type\":\"object\",\"name\":\"BoxZoomTool\",\"id\":\"p1198\",\"attributes\":{\"overlay\":{\"type\":\"object\",\"name\":\"BoxAnnotation\",\"id\":\"p1199\",\"attributes\":{\"syncable\":false,\"level\":\"overlay\",\"visible\":false,\"left_units\":\"canvas\",\"right_units\":\"canvas\",\"bottom_units\":\"canvas\",\"top_units\":\"canvas\",\"line_color\":\"black\",\"line_alpha\":1.0,\"line_width\":2,\"line_dash\":[4,4],\"fill_color\":\"lightgrey\",\"fill_alpha\":0.5}}}},{\"type\":\"object\",\"name\":\"SaveTool\",\"id\":\"p1200\"},{\"type\":\"object\",\"name\":\"ResetTool\",\"id\":\"p1201\"},{\"type\":\"object\",\"name\":\"HelpTool\",\"id\":\"p1202\"}]}},\"left\":[{\"type\":\"object\",\"name\":\"LinearAxis\",\"id\":\"p1189\",\"attributes\":{\"ticker\":{\"type\":\"object\",\"name\":\"BasicTicker\",\"id\":\"p1190\",\"attributes\":{\"mantissas\":[1,2,5]}},\"formatter\":{\"type\":\"object\",\"name\":\"BasicTickFormatter\",\"id\":\"p1192\"},\"axis_label\":\"y(x,t)\",\"axis_label_text_font_size\":\"14pt\",\"axis_label_text_font_style\":\"normal\",\"major_label_policy\":{\"type\":\"object\",\"name\":\"AllLabels\",\"id\":\"p1191\"},\"major_label_text_font_size\":\"12pt\"}}],\"below\":[{\"type\":\"object\",\"name\":\"LinearAxis\",\"id\":\"p1182\",\"attributes\":{\"ticker\":{\"type\":\"object\",\"name\":\"BasicTicker\",\"id\":\"p1183\",\"attributes\":{\"mantissas\":[1,2,5]}},\"formatter\":{\"type\":\"object\",\"name\":\"BasicTickFormatter\",\"id\":\"p1185\"},\"axis_label\":\"x\",\"axis_label_text_font_size\":\"14pt\",\"axis_label_text_font_style\":\"normal\",\"major_label_policy\":{\"type\":\"object\",\"name\":\"AllLabels\",\"id\":\"p1184\"},\"major_label_text_font_size\":\"12pt\"}}],\"center\":[{\"type\":\"object\",\"name\":\"Grid\",\"id\":\"p1188\",\"attributes\":{\"axis\":{\"id\":\"p1182\"}}},{\"type\":\"object\",\"name\":\"Grid\",\"id\":\"p1195\",\"attributes\":{\"dimension\":1,\"axis\":{\"id\":\"p1189\"}}}]}}]]},\"code\":\"function upfun() { s_t.value += s_dt.value; cb_obj.active || clearInterval(updater) }\\n                                 cb_obj.label = cb_obj.active ? '\\u275a\\u275a Pause' : '\\u25ba Play';\\n                                 if (cb_obj.active) var updater = setInterval(upfun, 20);\"}}]]]},\"width\":80,\"sizing_mode\":\"stretch_height\",\"label\":\"\\u25ba Play\"}},{\"id\":\"p1223\"},{\"id\":\"p1222\"}]}},{\"id\":\"p1165\"}]}}]}};\n",
       "  const render_items = [{\"docid\":\"77a29bd9-da92-4591-b471-aeb646cfd1b9\",\"roots\":{\"p1228\":\"710042d5-9c26-4498-9df2-581c5d3e2f76\"},\"root_ids\":[\"p1228\"]}];\n",
       "  root.Bokeh.embed.embed_items_notebook(docs_json, render_items);\n",
       "  }\n",
       "  if (root.Bokeh !== undefined) {\n",
       "    embed_document(root);\n",
       "  } else {\n",
       "    let attempts = 0;\n",
       "    const timer = setInterval(function(root) {\n",
       "      if (root.Bokeh !== undefined) {\n",
       "        clearInterval(timer);\n",
       "        embed_document(root);\n",
       "      } else {\n",
       "        attempts++;\n",
       "        if (attempts > 100) {\n",
       "          clearInterval(timer);\n",
       "          console.log(\"Bokeh: ERROR: Unable to run BokehJS code because BokehJS library is missing\");\n",
       "        }\n",
       "      }\n",
       "    }, 10, root)\n",
       "  }\n",
       "})(window);"
      ],
      "application/vnd.bokehjs_exec.v0+json": ""
     },
     "metadata": {
      "application/vnd.bokehjs_exec.v0+json": {
       "id": "p1228"
      }
     },
     "output_type": "display_data"
    }
   ],
   "source": [
    "L = 2.\n",
    "nmax = 500\n",
    "n = np.arange(1,nmax+1)\n",
    "kn = n*pi/L\n",
    "\n",
    "cn = 32/(3*n**2*pi**2)*sin(n*pi/4)\n",
    "\n",
    "make_string_animation(L,cn)"
   ]
  },
  {
   "cell_type": "markdown",
   "id": "d6b4b326",
   "metadata": {},
   "source": [
    "## Example 3: Problem 5.1\n",
    "The below is ready to insert the expression for $c_n$ for problem 5.1, just below the line `##### insert your expression for c_n here #####`."
   ]
  },
  {
   "cell_type": "code",
   "execution_count": 7,
   "id": "60da6edb",
   "metadata": {
    "ExecuteTime": {
     "end_time": "2023-03-03T13:20:32.277160Z",
     "start_time": "2023-03-03T13:20:32.272183Z"
    }
   },
   "outputs": [
    {
     "ename": "SyntaxError",
     "evalue": "invalid syntax (4177489038.py, line 12)",
     "output_type": "error",
     "traceback": [
      "\u001b[0;36m  Cell \u001b[0;32mIn[7], line 12\u001b[0;36m\u001b[0m\n\u001b[0;31m    cn =\u001b[0m\n\u001b[0m        ^\u001b[0m\n\u001b[0;31mSyntaxError\u001b[0m\u001b[0;31m:\u001b[0m invalid syntax\n"
     ]
    }
   ],
   "source": [
    "x1 = 0.95\n",
    "x2 = 1.05\n",
    "\n",
    "# do the plot both for L=2 and for L=3\n",
    "for L in (2.,3.):\n",
    "    # adjust nmax to get the same spatial resolution\n",
    "    nmax = int(100*L)\n",
    "    n = np.arange(1,nmax+1)\n",
    "    kn = n*pi/L\n",
    "\n",
    "    ##### insert your expression for c_n here #####\n",
    "    cn =\n",
    "    ###############################################\n",
    "\n",
    "    make_string_animation(L,cn,width=int(300*L)+100,dt=0.01)"
   ]
  }
 ],
 "metadata": {
  "@webio": {
   "lastCommId": null,
   "lastKernelId": null
  },
  "hide_input": false,
  "kernelspec": {
   "display_name": "Python 3 (ipykernel)",
   "language": "python",
   "name": "python3"
  },
  "language_info": {
   "codemirror_mode": {
    "name": "ipython",
    "version": 3
   },
   "file_extension": ".py",
   "mimetype": "text/x-python",
   "name": "python",
   "nbconvert_exporter": "python",
   "pygments_lexer": "ipython3",
   "version": "3.10.9"
  },
  "toc": {
   "base_numbering": 1,
   "nav_menu": {},
   "number_sections": true,
   "sideBar": true,
   "skip_h1_title": false,
   "title_cell": "Table of Contents",
   "title_sidebar": "Contents",
   "toc_cell": false,
   "toc_position": {},
   "toc_section_display": true,
   "toc_window_display": false
  },
  "varInspector": {
   "cols": {
    "lenName": 16,
    "lenType": 16,
    "lenVar": 40
   },
   "kernels_config": {
    "python": {
     "delete_cmd_postfix": "",
     "delete_cmd_prefix": "del ",
     "library": "var_list.py",
     "varRefreshCmd": "print(var_dic_list())"
    },
    "r": {
     "delete_cmd_postfix": ") ",
     "delete_cmd_prefix": "rm(",
     "library": "var_list.r",
     "varRefreshCmd": "cat(var_dic_list()) "
    }
   },
   "types_to_exclude": [
    "module",
    "function",
    "builtin_function_or_method",
    "instance",
    "_Feature"
   ],
   "window_display": false
  }
 },
 "nbformat": 4,
 "nbformat_minor": 5
}
