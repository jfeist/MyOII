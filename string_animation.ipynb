{
 "cells": [
  {
   "cell_type": "markdown",
   "id": "b625578f",
   "metadata": {
    "slideshow": {
     "slide_type": "skip"
    }
   },
   "source": [
    "# Setup"
   ]
  },
  {
   "cell_type": "code",
   "execution_count": 1,
   "id": "00e3de64",
   "metadata": {
    "ExecuteTime": {
     "end_time": "2023-03-03T00:59:08.009784Z",
     "start_time": "2023-03-03T00:59:07.763920Z"
    },
    "code_folding": [
     0
    ],
    "slideshow": {
     "slide_type": "skip"
    }
   },
   "outputs": [
    {
     "data": {
      "text/html": [
       "<style>\n",
       "        .bk-notebook-logo {\n",
       "            display: block;\n",
       "            width: 20px;\n",
       "            height: 20px;\n",
       "            background-image: url(data:image/png;base64,iVBORw0KGgoAAAANSUhEUgAAABQAAAAUCAYAAACNiR0NAAAABHNCSVQICAgIfAhkiAAAAAlwSFlzAAALEgAACxIB0t1+/AAAABx0RVh0U29mdHdhcmUAQWRvYmUgRmlyZXdvcmtzIENTNui8sowAAAOkSURBVDiNjZRtaJVlGMd/1/08zzln5zjP1LWcU9N0NkN8m2CYjpgQYQXqSs0I84OLIC0hkEKoPtiH3gmKoiJDU7QpLgoLjLIQCpEsNJ1vqUOdO7ppbuec5+V+rj4ctwzd8IIbbi6u+8f1539dt3A78eXC7QizUF7gyV1fD1Yqg4JWz84yffhm0qkFqBogB9rM8tZdtwVsPUhWhGcFJngGeWrPzHm5oaMmkfEg1usvLFyc8jLRqDOMru7AyC8saQr7GG7f5fvDeH7Ej8CM66nIF+8yngt6HWaKh7k49Soy9nXurCi1o3qUbS3zWfrYeQDTB/Qj6kX6Ybhw4B+bOYoLKCC9H3Nu/leUTZ1JdRWkkn2ldcCamzrcf47KKXdAJllSlxAOkRgyHsGC/zRday5Qld9DyoM4/q/rUoy/CXh3jzOu3bHUVZeU+DEn8FInkPBFlu3+nW3Nw0mk6vCDiWg8CeJaxEwuHS3+z5RgY+YBR6V1Z1nxSOfoaPa4LASWxxdNp+VWTk7+4vzaou8v8PN+xo+KY2xsw6une2frhw05CTYOmQvsEhjhWjn0bmXPjpE1+kplmmkP3suftwTubK9Vq22qKmrBhpY4jvd5afdRA3wGjFAgcnTK2s4hY0/GPNIb0nErGMCRxWOOX64Z8RAC4oCXdklmEvcL8o0BfkNK4lUg9HTl+oPlQxdNo3Mg4Nv175e/1LDGzZen30MEjRUtmXSfiTVu1kK8W4txyV6BMKlbgk3lMwYCiusNy9fVfvvwMxv8Ynl6vxoByANLTWplvuj/nF9m2+PDtt1eiHPBr1oIfhCChQMBw6Aw0UulqTKZdfVvfG7VcfIqLG9bcldL/+pdWTLxLUy8Qq38heUIjh4XlzZxzQm19lLFlr8vdQ97rjZVOLf8nclzckbcD4wxXMidpX30sFd37Fv/GtwwhzhxGVAprjbg0gCAEeIgwCZyTV2Z1REEW8O4py0wsjeloKoMr6iCY6dP92H6Vw/oTyICIthibxjm/DfN9lVz8IqtqKYLUXfoKVMVQVVJOElGjrnnUt9T9wbgp8AyYKaGlqingHZU/uG2NTZSVqwHQTWkx9hxjkpWDaCg6Ckj5qebgBVbT3V3NNXMSiWSDdGV3hrtzla7J+duwPOToIg42ChPQOQjspnSlp1V+Gjdged7+8UN5CRAV7a5EdFNwCjEaBR27b3W890TE7g24NAP/mMDXRWrGoFPQI9ls/MWO2dWFAar/xcOIImbbpA3zgAAAABJRU5ErkJggg==);\n",
       "        }\n",
       "    </style>\n",
       "    <div>\n",
       "        <a href=\"https://bokeh.org\" target=\"_blank\" class=\"bk-notebook-logo\"></a>\n",
       "        <span id=\"p1001\">Loading BokehJS ...</span>\n",
       "    </div>\n"
      ]
     },
     "metadata": {},
     "output_type": "display_data"
    },
    {
     "data": {
      "application/javascript": [
       "(function(root) {\n",
       "  function now() {\n",
       "    return new Date();\n",
       "  }\n",
       "\n",
       "  const force = true;\n",
       "\n",
       "  if (typeof root._bokeh_onload_callbacks === \"undefined\" || force === true) {\n",
       "    root._bokeh_onload_callbacks = [];\n",
       "    root._bokeh_is_loading = undefined;\n",
       "  }\n",
       "\n",
       "const JS_MIME_TYPE = 'application/javascript';\n",
       "  const HTML_MIME_TYPE = 'text/html';\n",
       "  const EXEC_MIME_TYPE = 'application/vnd.bokehjs_exec.v0+json';\n",
       "  const CLASS_NAME = 'output_bokeh rendered_html';\n",
       "\n",
       "  /**\n",
       "   * Render data to the DOM node\n",
       "   */\n",
       "  function render(props, node) {\n",
       "    const script = document.createElement(\"script\");\n",
       "    node.appendChild(script);\n",
       "  }\n",
       "\n",
       "  /**\n",
       "   * Handle when an output is cleared or removed\n",
       "   */\n",
       "  function handleClearOutput(event, handle) {\n",
       "    const cell = handle.cell;\n",
       "\n",
       "    const id = cell.output_area._bokeh_element_id;\n",
       "    const server_id = cell.output_area._bokeh_server_id;\n",
       "    // Clean up Bokeh references\n",
       "    if (id != null && id in Bokeh.index) {\n",
       "      Bokeh.index[id].model.document.clear();\n",
       "      delete Bokeh.index[id];\n",
       "    }\n",
       "\n",
       "    if (server_id !== undefined) {\n",
       "      // Clean up Bokeh references\n",
       "      const cmd_clean = \"from bokeh.io.state import curstate; print(curstate().uuid_to_server['\" + server_id + \"'].get_sessions()[0].document.roots[0]._id)\";\n",
       "      cell.notebook.kernel.execute(cmd_clean, {\n",
       "        iopub: {\n",
       "          output: function(msg) {\n",
       "            const id = msg.content.text.trim();\n",
       "            if (id in Bokeh.index) {\n",
       "              Bokeh.index[id].model.document.clear();\n",
       "              delete Bokeh.index[id];\n",
       "            }\n",
       "          }\n",
       "        }\n",
       "      });\n",
       "      // Destroy server and session\n",
       "      const cmd_destroy = \"import bokeh.io.notebook as ion; ion.destroy_server('\" + server_id + \"')\";\n",
       "      cell.notebook.kernel.execute(cmd_destroy);\n",
       "    }\n",
       "  }\n",
       "\n",
       "  /**\n",
       "   * Handle when a new output is added\n",
       "   */\n",
       "  function handleAddOutput(event, handle) {\n",
       "    const output_area = handle.output_area;\n",
       "    const output = handle.output;\n",
       "\n",
       "    // limit handleAddOutput to display_data with EXEC_MIME_TYPE content only\n",
       "    if ((output.output_type != \"display_data\") || (!Object.prototype.hasOwnProperty.call(output.data, EXEC_MIME_TYPE))) {\n",
       "      return\n",
       "    }\n",
       "\n",
       "    const toinsert = output_area.element.find(\".\" + CLASS_NAME.split(' ')[0]);\n",
       "\n",
       "    if (output.metadata[EXEC_MIME_TYPE][\"id\"] !== undefined) {\n",
       "      toinsert[toinsert.length - 1].firstChild.textContent = output.data[JS_MIME_TYPE];\n",
       "      // store reference to embed id on output_area\n",
       "      output_area._bokeh_element_id = output.metadata[EXEC_MIME_TYPE][\"id\"];\n",
       "    }\n",
       "    if (output.metadata[EXEC_MIME_TYPE][\"server_id\"] !== undefined) {\n",
       "      const bk_div = document.createElement(\"div\");\n",
       "      bk_div.innerHTML = output.data[HTML_MIME_TYPE];\n",
       "      const script_attrs = bk_div.children[0].attributes;\n",
       "      for (let i = 0; i < script_attrs.length; i++) {\n",
       "        toinsert[toinsert.length - 1].firstChild.setAttribute(script_attrs[i].name, script_attrs[i].value);\n",
       "        toinsert[toinsert.length - 1].firstChild.textContent = bk_div.children[0].textContent\n",
       "      }\n",
       "      // store reference to server id on output_area\n",
       "      output_area._bokeh_server_id = output.metadata[EXEC_MIME_TYPE][\"server_id\"];\n",
       "    }\n",
       "  }\n",
       "\n",
       "  function register_renderer(events, OutputArea) {\n",
       "\n",
       "    function append_mime(data, metadata, element) {\n",
       "      // create a DOM node to render to\n",
       "      const toinsert = this.create_output_subarea(\n",
       "        metadata,\n",
       "        CLASS_NAME,\n",
       "        EXEC_MIME_TYPE\n",
       "      );\n",
       "      this.keyboard_manager.register_events(toinsert);\n",
       "      // Render to node\n",
       "      const props = {data: data, metadata: metadata[EXEC_MIME_TYPE]};\n",
       "      render(props, toinsert[toinsert.length - 1]);\n",
       "      element.append(toinsert);\n",
       "      return toinsert\n",
       "    }\n",
       "\n",
       "    /* Handle when an output is cleared or removed */\n",
       "    events.on('clear_output.CodeCell', handleClearOutput);\n",
       "    events.on('delete.Cell', handleClearOutput);\n",
       "\n",
       "    /* Handle when a new output is added */\n",
       "    events.on('output_added.OutputArea', handleAddOutput);\n",
       "\n",
       "    /**\n",
       "     * Register the mime type and append_mime function with output_area\n",
       "     */\n",
       "    OutputArea.prototype.register_mime_type(EXEC_MIME_TYPE, append_mime, {\n",
       "      /* Is output safe? */\n",
       "      safe: true,\n",
       "      /* Index of renderer in `output_area.display_order` */\n",
       "      index: 0\n",
       "    });\n",
       "  }\n",
       "\n",
       "  // register the mime type if in Jupyter Notebook environment and previously unregistered\n",
       "  if (root.Jupyter !== undefined) {\n",
       "    const events = require('base/js/events');\n",
       "    const OutputArea = require('notebook/js/outputarea').OutputArea;\n",
       "\n",
       "    if (OutputArea.prototype.mime_types().indexOf(EXEC_MIME_TYPE) == -1) {\n",
       "      register_renderer(events, OutputArea);\n",
       "    }\n",
       "  }\n",
       "  if (typeof (root._bokeh_timeout) === \"undefined\" || force === true) {\n",
       "    root._bokeh_timeout = Date.now() + 5000;\n",
       "    root._bokeh_failed_load = false;\n",
       "  }\n",
       "\n",
       "  const NB_LOAD_WARNING = {'data': {'text/html':\n",
       "     \"<div style='background-color: #fdd'>\\n\"+\n",
       "     \"<p>\\n\"+\n",
       "     \"BokehJS does not appear to have successfully loaded. If loading BokehJS from CDN, this \\n\"+\n",
       "     \"may be due to a slow or bad network connection. Possible fixes:\\n\"+\n",
       "     \"</p>\\n\"+\n",
       "     \"<ul>\\n\"+\n",
       "     \"<li>re-rerun `output_notebook()` to attempt to load from CDN again, or</li>\\n\"+\n",
       "     \"<li>use INLINE resources instead, as so:</li>\\n\"+\n",
       "     \"</ul>\\n\"+\n",
       "     \"<code>\\n\"+\n",
       "     \"from bokeh.resources import INLINE\\n\"+\n",
       "     \"output_notebook(resources=INLINE)\\n\"+\n",
       "     \"</code>\\n\"+\n",
       "     \"</div>\"}};\n",
       "\n",
       "  function display_loaded() {\n",
       "    const el = document.getElementById(\"p1001\");\n",
       "    if (el != null) {\n",
       "      el.textContent = \"BokehJS is loading...\";\n",
       "    }\n",
       "    if (root.Bokeh !== undefined) {\n",
       "      if (el != null) {\n",
       "        el.textContent = \"BokehJS \" + root.Bokeh.version + \" successfully loaded.\";\n",
       "      }\n",
       "    } else if (Date.now() < root._bokeh_timeout) {\n",
       "      setTimeout(display_loaded, 100)\n",
       "    }\n",
       "  }\n",
       "\n",
       "  function run_callbacks() {\n",
       "    try {\n",
       "      root._bokeh_onload_callbacks.forEach(function(callback) {\n",
       "        if (callback != null)\n",
       "          callback();\n",
       "      });\n",
       "    } finally {\n",
       "      delete root._bokeh_onload_callbacks\n",
       "    }\n",
       "    console.debug(\"Bokeh: all callbacks have finished\");\n",
       "  }\n",
       "\n",
       "  function load_libs(css_urls, js_urls, callback) {\n",
       "    if (css_urls == null) css_urls = [];\n",
       "    if (js_urls == null) js_urls = [];\n",
       "\n",
       "    root._bokeh_onload_callbacks.push(callback);\n",
       "    if (root._bokeh_is_loading > 0) {\n",
       "      console.debug(\"Bokeh: BokehJS is being loaded, scheduling callback at\", now());\n",
       "      return null;\n",
       "    }\n",
       "    if (js_urls == null || js_urls.length === 0) {\n",
       "      run_callbacks();\n",
       "      return null;\n",
       "    }\n",
       "    console.debug(\"Bokeh: BokehJS not loaded, scheduling load and callback at\", now());\n",
       "    root._bokeh_is_loading = css_urls.length + js_urls.length;\n",
       "\n",
       "    function on_load() {\n",
       "      root._bokeh_is_loading--;\n",
       "      if (root._bokeh_is_loading === 0) {\n",
       "        console.debug(\"Bokeh: all BokehJS libraries/stylesheets loaded\");\n",
       "        run_callbacks()\n",
       "      }\n",
       "    }\n",
       "\n",
       "    function on_error(url) {\n",
       "      console.error(\"failed to load \" + url);\n",
       "    }\n",
       "\n",
       "    for (let i = 0; i < css_urls.length; i++) {\n",
       "      const url = css_urls[i];\n",
       "      const element = document.createElement(\"link\");\n",
       "      element.onload = on_load;\n",
       "      element.onerror = on_error.bind(null, url);\n",
       "      element.rel = \"stylesheet\";\n",
       "      element.type = \"text/css\";\n",
       "      element.href = url;\n",
       "      console.debug(\"Bokeh: injecting link tag for BokehJS stylesheet: \", url);\n",
       "      document.body.appendChild(element);\n",
       "    }\n",
       "\n",
       "    for (let i = 0; i < js_urls.length; i++) {\n",
       "      const url = js_urls[i];\n",
       "      const element = document.createElement('script');\n",
       "      element.onload = on_load;\n",
       "      element.onerror = on_error.bind(null, url);\n",
       "      element.async = false;\n",
       "      element.src = url;\n",
       "      console.debug(\"Bokeh: injecting script tag for BokehJS library: \", url);\n",
       "      document.head.appendChild(element);\n",
       "    }\n",
       "  };\n",
       "\n",
       "  function inject_raw_css(css) {\n",
       "    const element = document.createElement(\"style\");\n",
       "    element.appendChild(document.createTextNode(css));\n",
       "    document.body.appendChild(element);\n",
       "  }\n",
       "\n",
       "  const js_urls = [\"https://cdn.bokeh.org/bokeh/release/bokeh-3.0.3.min.js\", \"https://cdn.bokeh.org/bokeh/release/bokeh-gl-3.0.3.min.js\", \"https://cdn.bokeh.org/bokeh/release/bokeh-widgets-3.0.3.min.js\", \"https://cdn.bokeh.org/bokeh/release/bokeh-tables-3.0.3.min.js\", \"https://cdn.bokeh.org/bokeh/release/bokeh-mathjax-3.0.3.min.js\"];\n",
       "  const css_urls = [];\n",
       "\n",
       "  const inline_js = [    function(Bokeh) {\n",
       "      Bokeh.set_log_level(\"info\");\n",
       "    },\n",
       "function(Bokeh) {\n",
       "    }\n",
       "  ];\n",
       "\n",
       "  function run_inline_js() {\n",
       "    if (root.Bokeh !== undefined || force === true) {\n",
       "          for (let i = 0; i < inline_js.length; i++) {\n",
       "      inline_js[i].call(root, root.Bokeh);\n",
       "    }\n",
       "if (force === true) {\n",
       "        display_loaded();\n",
       "      }} else if (Date.now() < root._bokeh_timeout) {\n",
       "      setTimeout(run_inline_js, 100);\n",
       "    } else if (!root._bokeh_failed_load) {\n",
       "      console.log(\"Bokeh: BokehJS failed to load within specified timeout.\");\n",
       "      root._bokeh_failed_load = true;\n",
       "    } else if (force !== true) {\n",
       "      const cell = $(document.getElementById(\"p1001\")).parents('.cell').data().cell;\n",
       "      cell.output_area.append_execute_result(NB_LOAD_WARNING)\n",
       "    }\n",
       "  }\n",
       "\n",
       "  if (root._bokeh_is_loading === 0) {\n",
       "    console.debug(\"Bokeh: BokehJS loaded, going straight to plotting\");\n",
       "    run_inline_js();\n",
       "  } else {\n",
       "    load_libs(css_urls, js_urls, function() {\n",
       "      console.debug(\"Bokeh: BokehJS plotting callback run at\", now());\n",
       "      run_inline_js();\n",
       "    });\n",
       "  }\n",
       "}(window));"
      ],
      "application/vnd.bokehjs_load.v0+json": "(function(root) {\n  function now() {\n    return new Date();\n  }\n\n  const force = true;\n\n  if (typeof root._bokeh_onload_callbacks === \"undefined\" || force === true) {\n    root._bokeh_onload_callbacks = [];\n    root._bokeh_is_loading = undefined;\n  }\n\n\n  if (typeof (root._bokeh_timeout) === \"undefined\" || force === true) {\n    root._bokeh_timeout = Date.now() + 5000;\n    root._bokeh_failed_load = false;\n  }\n\n  const NB_LOAD_WARNING = {'data': {'text/html':\n     \"<div style='background-color: #fdd'>\\n\"+\n     \"<p>\\n\"+\n     \"BokehJS does not appear to have successfully loaded. If loading BokehJS from CDN, this \\n\"+\n     \"may be due to a slow or bad network connection. Possible fixes:\\n\"+\n     \"</p>\\n\"+\n     \"<ul>\\n\"+\n     \"<li>re-rerun `output_notebook()` to attempt to load from CDN again, or</li>\\n\"+\n     \"<li>use INLINE resources instead, as so:</li>\\n\"+\n     \"</ul>\\n\"+\n     \"<code>\\n\"+\n     \"from bokeh.resources import INLINE\\n\"+\n     \"output_notebook(resources=INLINE)\\n\"+\n     \"</code>\\n\"+\n     \"</div>\"}};\n\n  function display_loaded() {\n    const el = document.getElementById(\"p1001\");\n    if (el != null) {\n      el.textContent = \"BokehJS is loading...\";\n    }\n    if (root.Bokeh !== undefined) {\n      if (el != null) {\n        el.textContent = \"BokehJS \" + root.Bokeh.version + \" successfully loaded.\";\n      }\n    } else if (Date.now() < root._bokeh_timeout) {\n      setTimeout(display_loaded, 100)\n    }\n  }\n\n  function run_callbacks() {\n    try {\n      root._bokeh_onload_callbacks.forEach(function(callback) {\n        if (callback != null)\n          callback();\n      });\n    } finally {\n      delete root._bokeh_onload_callbacks\n    }\n    console.debug(\"Bokeh: all callbacks have finished\");\n  }\n\n  function load_libs(css_urls, js_urls, callback) {\n    if (css_urls == null) css_urls = [];\n    if (js_urls == null) js_urls = [];\n\n    root._bokeh_onload_callbacks.push(callback);\n    if (root._bokeh_is_loading > 0) {\n      console.debug(\"Bokeh: BokehJS is being loaded, scheduling callback at\", now());\n      return null;\n    }\n    if (js_urls == null || js_urls.length === 0) {\n      run_callbacks();\n      return null;\n    }\n    console.debug(\"Bokeh: BokehJS not loaded, scheduling load and callback at\", now());\n    root._bokeh_is_loading = css_urls.length + js_urls.length;\n\n    function on_load() {\n      root._bokeh_is_loading--;\n      if (root._bokeh_is_loading === 0) {\n        console.debug(\"Bokeh: all BokehJS libraries/stylesheets loaded\");\n        run_callbacks()\n      }\n    }\n\n    function on_error(url) {\n      console.error(\"failed to load \" + url);\n    }\n\n    for (let i = 0; i < css_urls.length; i++) {\n      const url = css_urls[i];\n      const element = document.createElement(\"link\");\n      element.onload = on_load;\n      element.onerror = on_error.bind(null, url);\n      element.rel = \"stylesheet\";\n      element.type = \"text/css\";\n      element.href = url;\n      console.debug(\"Bokeh: injecting link tag for BokehJS stylesheet: \", url);\n      document.body.appendChild(element);\n    }\n\n    for (let i = 0; i < js_urls.length; i++) {\n      const url = js_urls[i];\n      const element = document.createElement('script');\n      element.onload = on_load;\n      element.onerror = on_error.bind(null, url);\n      element.async = false;\n      element.src = url;\n      console.debug(\"Bokeh: injecting script tag for BokehJS library: \", url);\n      document.head.appendChild(element);\n    }\n  };\n\n  function inject_raw_css(css) {\n    const element = document.createElement(\"style\");\n    element.appendChild(document.createTextNode(css));\n    document.body.appendChild(element);\n  }\n\n  const js_urls = [\"https://cdn.bokeh.org/bokeh/release/bokeh-3.0.3.min.js\", \"https://cdn.bokeh.org/bokeh/release/bokeh-gl-3.0.3.min.js\", \"https://cdn.bokeh.org/bokeh/release/bokeh-widgets-3.0.3.min.js\", \"https://cdn.bokeh.org/bokeh/release/bokeh-tables-3.0.3.min.js\", \"https://cdn.bokeh.org/bokeh/release/bokeh-mathjax-3.0.3.min.js\"];\n  const css_urls = [];\n\n  const inline_js = [    function(Bokeh) {\n      Bokeh.set_log_level(\"info\");\n    },\nfunction(Bokeh) {\n    }\n  ];\n\n  function run_inline_js() {\n    if (root.Bokeh !== undefined || force === true) {\n          for (let i = 0; i < inline_js.length; i++) {\n      inline_js[i].call(root, root.Bokeh);\n    }\nif (force === true) {\n        display_loaded();\n      }} else if (Date.now() < root._bokeh_timeout) {\n      setTimeout(run_inline_js, 100);\n    } else if (!root._bokeh_failed_load) {\n      console.log(\"Bokeh: BokehJS failed to load within specified timeout.\");\n      root._bokeh_failed_load = true;\n    } else if (force !== true) {\n      const cell = $(document.getElementById(\"p1001\")).parents('.cell').data().cell;\n      cell.output_area.append_execute_result(NB_LOAD_WARNING)\n    }\n  }\n\n  if (root._bokeh_is_loading === 0) {\n    console.debug(\"Bokeh: BokehJS loaded, going straight to plotting\");\n    run_inline_js();\n  } else {\n    load_libs(css_urls, js_urls, function() {\n      console.debug(\"Bokeh: BokehJS plotting callback run at\", now());\n      run_inline_js();\n    });\n  }\n}(window));"
     },
     "metadata": {},
     "output_type": "display_data"
    }
   ],
   "source": [
    "# import libraries\n",
    "import numpy as np\n",
    "from numpy import *\n",
    "from bokeh.io import output_notebook, show\n",
    "from bokeh.plotting import figure, ColumnDataSource\n",
    "from bokeh.models import CustomJS, Slider, Range1d, Span, Toggle, Spinner\n",
    "from bokeh.layouts import column, row, gridplot\n",
    "output_notebook()"
   ]
  },
  {
   "cell_type": "code",
   "execution_count": 2,
   "id": "93c0df80",
   "metadata": {
    "ExecuteTime": {
     "end_time": "2023-03-03T00:59:08.015499Z",
     "start_time": "2023-03-03T00:59:08.010947Z"
    },
    "code_folding": [
     0
    ],
    "slideshow": {
     "slide_type": "skip"
    }
   },
   "outputs": [],
   "source": [
    "# style definitions\n",
    "colors = ['#000000', '#E69F00', '#56B4E9', '#009E73', '#F0E442', '#0072B2', '#D55E00', '#CC79A7']\n",
    "SUB = str.maketrans(\"0123456789\", \"₀₁₂₃₄₅₆₇₈₉\")\n",
    "SUP = str.maketrans(\"0123456789\", \"⁰¹²³⁴⁵⁶⁷⁸⁹\")\n",
    "\n",
    "def set_fig_style(fig,xmax,ymax,xlab=\"x\",ylab=\"y(x,t)\",xmin=0,ymin=None):\n",
    "    if ymin is None:\n",
    "        ymin = -ymax\n",
    "    for (ax, lab) in [(fig.xaxis,xlab),(fig.yaxis,ylab)]:\n",
    "        ax.axis_label = lab\n",
    "        ax.axis_label_text_font_size = '14pt'\n",
    "        ax.axis_label_text_font_style = 'normal'\n",
    "        ax.major_label_text_font_size = '12pt'\n",
    "    fig.x_range = Range1d(xmin,xmax)\n",
    "    fig.y_range = Range1d(ymin,ymax)"
   ]
  },
  {
   "cell_type": "code",
   "execution_count": 3,
   "id": "4f057067",
   "metadata": {
    "ExecuteTime": {
     "end_time": "2023-03-03T00:59:08.027017Z",
     "start_time": "2023-03-03T00:59:08.020186Z"
    },
    "code_folding": [
     0
    ]
   },
   "outputs": [
    {
     "data": {
      "application/javascript": [
       "requirejs.config({\n",
       "    paths: { 'math': ['https://cdnjs.cloudflare.com/ajax/libs/mathjs/11.6.0/math.min'], },\n",
       "});\n"
      ],
      "text/plain": [
       "<IPython.core.display.Javascript object>"
      ]
     },
     "metadata": {},
     "output_type": "display_data"
    }
   ],
   "source": [
    "%%javascript\n",
    "requirejs.config({\n",
    "    paths: { 'math': ['https://cdnjs.cloudflare.com/ajax/libs/mathjs/11.6.0/math.min'], },\n",
    "});"
   ]
  },
  {
   "cell_type": "code",
   "execution_count": 4,
   "id": "5c4489e4",
   "metadata": {
    "ExecuteTime": {
     "end_time": "2023-03-03T00:59:08.036928Z",
     "start_time": "2023-03-03T00:59:08.028997Z"
    },
    "code_folding": [
     0
    ],
    "scrolled": false
   },
   "outputs": [],
   "source": [
    "def make_string_animation(L,cs,v=1.,dt=None, width=900):\n",
    "    # these are the coefficients of sin(kn x), with kn = nπ/L\n",
    "    cs = np.asarray(cs)\n",
    "    acs = abs(cs)\n",
    "    phis = np.angle(cs)\n",
    "    ns = np.arange(1,len(cs)+1)\n",
    "    ks = ns*np.pi/L\n",
    "    ωs = v*ks\n",
    "\n",
    "    n = len(cs)\n",
    "    cfft = np.zeros(2*n+2)\n",
    "    cfft[1:n+1] = len(cfft)*cs.real\n",
    "\n",
    "    x = np.linspace(0,L,len(cs)+2)\n",
    "\n",
    "    if dt is None:\n",
    "        T = 2*L/v\n",
    "        dt = T/200\n",
    "\n",
    "    if isinstance(dt,(int,float)):\n",
    "        dt = (dt/10,dt*10,dt/10,dt)\n",
    "    else:\n",
    "        assert len(dt) == 4\n",
    "    \n",
    "    y = np.fft.ifft(cfft)[:len(x)]\n",
    "    source = ColumnDataSource(data=dict(x=x,y=y.imag))\n",
    "\n",
    "    fig = figure(width=width,height=500)\n",
    "    fig.line('x', 'y', source=source, line_width=4, color=colors[0])\n",
    "    set_fig_style(fig,x.max(),ymax=1.03*abs(source.data['y']).max())\n",
    "\n",
    "    slider_t = Slider(start=0, end=1000, value=0, step=0.1, title='t', sizing_mode=\"stretch_width\")\n",
    "    spinner_dt = Spinner(low=dt[0], high=dt[1], step=dt[2], value=dt[3], title=\"δt\", width=80, sizing_mode=\"stretch_height\")\n",
    "\n",
    "    # JavaScript callback to do animations directly in the browser (without needing to communicate with server)\n",
    "    cb_sliders = CustomJS(args=dict(source=source, slider_t=slider_t, acs=acs, phis=phis, ωs=ωs, cfft=cfft),\n",
    "                          code=\"\"\"require(['math'], function(math) {\n",
    "                                      const t = slider_t.value;\n",
    "                                      const ys = source.data['y'];\n",
    "                                      const n = acs.length;\n",
    "                                      acs.forEach((ac,i) => cfft[i+1] = ac*math.cos(ωs[i]*t+phis[i]));\n",
    "                                      const yfft = math.ifft(Array.from(cfft));\n",
    "                                      ys.forEach((_,i) => ys[i] = (2*n+2)*yfft[i].im);\n",
    "                                      source.change.emit()\n",
    "                                  });\"\"\")\n",
    "\n",
    "    slider_t.js_on_change('value', cb_sliders)\n",
    "\n",
    "    # Set up Play/Pause button/toggle JS\n",
    "    cb_toggle = CustomJS(args=dict(s_t=slider_t,s_dt=spinner_dt,fig=fig),\n",
    "                         code=\"\"\"function upfun() { s_t.value += s_dt.value; cb_obj.active || clearInterval(updater) }\n",
    "                                 cb_obj.label = cb_obj.active ? '❚❚ Pause' : '► Play';\n",
    "                                 if (cb_obj.active) var updater = setInterval(upfun, 20);\"\"\")\n",
    "    toggle = Toggle(label='► Play',active=False, sizing_mode=\"stretch_height\", width=80)\n",
    "    toggle.js_on_change('active', cb_toggle)\n",
    "\n",
    "    layout = column(row(toggle, spinner_dt, slider_t, sizing_mode=\"stretch_width\"), fig)\n",
    "    show(layout)"
   ]
  },
  {
   "cell_type": "markdown",
   "id": "581f87ed",
   "metadata": {},
   "source": [
    "# Plot motion of a string with fixed ends, with given normal mode coefficients"
   ]
  },
  {
   "cell_type": "markdown",
   "id": "82ae088b",
   "metadata": {},
   "source": [
    "## Example 1\n",
    "For initial condition $y(x,t=0) = a x (L-x)$, where $a$ is a constant with the correct units, we get $c_n = a \\frac{4-4\\cos(k_n L) - 2k_n L \\sin(k_n L)}{k_n^3 L}$."
   ]
  },
  {
   "cell_type": "code",
   "execution_count": 5,
   "id": "b234f166",
   "metadata": {
    "ExecuteTime": {
     "end_time": "2023-03-03T00:59:08.235288Z",
     "start_time": "2023-03-03T00:59:08.042178Z"
    },
    "code_folding": [],
    "scrolled": false
   },
   "outputs": [
    {
     "data": {
      "text/html": [
       "\n",
       "  <div id=\"1572cbaf-0481-4a0f-bc25-78bac9f6a927\" data-root-id=\"p1068\" style=\"display: contents;\"></div>\n"
      ]
     },
     "metadata": {},
     "output_type": "display_data"
    },
    {
     "data": {
      "application/javascript": [
       "(function(root) {\n",
       "  function embed_document(root) {\n",
       "  const docs_json = {\"a33e5e0d-6caf-4da1-b4c6-823c7b444f4a\":{\"version\":\"3.0.3\",\"title\":\"Bokeh Application\",\"defs\":[],\"roots\":[{\"type\":\"object\",\"name\":\"Column\",\"id\":\"p1068\",\"attributes\":{\"children\":[{\"type\":\"object\",\"name\":\"Row\",\"id\":\"p1067\",\"attributes\":{\"sizing_mode\":\"stretch_width\",\"children\":[{\"type\":\"object\",\"name\":\"Toggle\",\"id\":\"p1066\",\"attributes\":{\"js_property_callbacks\":{\"type\":\"map\",\"entries\":[[\"change:active\",[{\"type\":\"object\",\"name\":\"CustomJS\",\"id\":\"p1065\",\"attributes\":{\"args\":{\"type\":\"map\",\"entries\":[[\"s_t\",{\"type\":\"object\",\"name\":\"Slider\",\"id\":\"p1062\",\"attributes\":{\"js_property_callbacks\":{\"type\":\"map\",\"entries\":[[\"change:value\",[{\"type\":\"object\",\"name\":\"CustomJS\",\"id\":\"p1064\",\"attributes\":{\"args\":{\"type\":\"map\",\"entries\":[[\"source\",{\"type\":\"object\",\"name\":\"ColumnDataSource\",\"id\":\"p1002\",\"attributes\":{\"selected\":{\"type\":\"object\",\"name\":\"Selection\",\"id\":\"p1004\",\"attributes\":{\"indices\":[],\"line_indices\":[]}},\"selection_policy\":{\"type\":\"object\",\"name\":\"UnionRenderers\",\"id\":\"p1003\"},\"data\":{\"type\":\"map\",\"entries\":[[\"x\",{\"type\":\"ndarray\",\"array\":{\"type\":\"bytes\",\"data\":\"AAAAAAAAAAD72WJl+EaEP/vZYmX4RpQ/+EYUmHRqnj/72WJl+EakP3qQu362WKk/+EYUmHRqrj+8frZYGb6xP/vZYmX4RrQ/OjUPctfPtj96kLt+tli5P7nrZ4uV4bs/+EYUmHRqvj8cUWDSqXnAP7x+tlgZvsE/W6wM34gCwz/72WJl+EbEP5sHuetni8U/OjUPctfPxj/aYmX4RhTIP3qQu362WMk/Gb4RBSadyj+562eLleHLP1kZvhEFJs0/+EYUmHRqzj+YdGoe5K7PPxxRYNKpedA/7GeLleEb0T+8frZYGb7RP4uV4RtRYNI/W6wM34gC0z8rwzeiwKTTP/vZYmX4RtQ/y/CNKDDp1D+bB7nrZ4vVP2se5K6fLdY/OjUPctfP1j8KTDo1D3LXP9piZfhGFNg/qnmQu3622D96kLt+tljZP0qn5kHu+tk/Gb4RBSad2j/p1DzIXT/bP7nrZ4uV4ds/iQKTTs2D3D9ZGb4RBSbdPykw6dQ8yN0/+EYUmHRq3j/IXT9brAzfP5h0ah7krt8/tMXK8I0o4D8cUWDSqXngP4Tc9bPFyuA/7GeLleEb4T9U8yB3/WzhP7x+tlgZvuE/JApMOjUP4j+LleEbUWDiP/Mgd/1sseI/W6wM34gC4z/DN6LApFPjPyvDN6LApOM/k07Ng9z14z/72WJl+EbkP2Nl+EYUmOQ/y/CNKDDp5D8zfCMKTDrlP5sHuetni+U/A5NOzYPc5T9rHuSuny3mP9KpeZC7fuY/OjUPctfP5j+iwKRT8yDnPwpMOjUPcuc/ctfPFivD5z/aYmX4RhToP0Lu+tliZeg/qnmQu3626D8SBSadmgfpP3qQu362WOk/4htRYNKp6T9Kp+ZB7vrpP7IyfCMKTOo/Gb4RBSad6j+BSafmQe7qP+nUPMhdP+s/UWDSqXmQ6z+562eLleHrPyF3/WyxMuw/iQKTTs2D7D/xjSgw6dTsP1kZvhEFJu0/waRT8yB37T8pMOnUPMjtP5G7frZYGe4/+EYUmHRq7j9g0ql5kLvuP8hdP1usDO8/MOnUPMhd7z+YdGoe5K7vPwAAAAAAAPA/\"},\"shape\":[102],\"dtype\":\"float64\",\"order\":\"little\"}],[\"y\",{\"type\":\"ndarray\",\"array\":{\"type\":\"bytes\",\"data\":\"AAAAAAAAgDyxOFk/yhSEP4JvHuPA35M/SHG6A32DnT95TcnAQ3mjP0Qt0uqWF6g/yrshQM+brD+VYzEWVoOwP4mYo8vFq7I/SMcb33zHtD9DiZmnPda2P7YkUw4/2Lg/bQBXrk/Nuj8QivBSnLW8P/XDZxf8kL4/457KQsovwD/Bdrt/oRDBP3jsccgT68E/eZlhOxK/wj8nFiW0qozDP7HxlkPQU8Q/n1j0AY8UxT+GjIib287FPwxhSK/AgsY/ohhZRTQwxz8McVq6P9fHPzIWhkLad8g/WfPnIQwSyT/1SSKUzaXJP4lBBeUlM8o/hRz5Og66yj/1swEDjTrLPznfpDectMs/abpVe0EozD9vTp2Kd5XMP40Dl01D/Mw/uE9BNKBczT9na3B5krbNP0yr3TQWCs4/NVec/i5Xzj9xz7GM2Z3OP0ap4NwY3s4/bUbzO+oXzz+cxgsUUEvPP11L0EJIeM8/21Xyo9Sezz/7xXGh877PP5x8bYym2M8/HN78V+zrzz9LclnNxfjPPzRKlGYy/88/N0qUZjL/zz9MclnNxfjPPxze/Ffs688/nnxtjKbYzz/4xXGh877PP9tV8qPUns8/XEvQQkh4zz+exgsUUEvPP2lG8zvqF88/RKng3Bjezj9pz7GM2Z3OPy9XnP4uV84/R6vdNBYKzj9ra3B5krbNP7dPQTSgXM0/jQOXTUP8zD91Tp2Kd5XMP2e6VXtBKMw/ON+kN5y0yz/vswEDjTrLP4Yc+ToOuso/i0EF5SUzyj/3SSKUzaXJP17z5yEMEsk/OBaGQtp3yD8IcVq6P9fHP6EYWUU0MMc/DWFIr8CCxj+GjIib287FP5ZY9AGPFMU/sPGWQ9BTxD8lFiW0qozDP4KZYTsSv8I/eOxxyBPrwT/Ddrt/oRDBP9+eykLKL8A/7cNnF/yQvj8OivBSnLW8P3kAV65Pzbo/tSRTDj/YuD9AiZmnPda2P0fHG998x7Q/eZijy8Wrsj+QYzEWVoOwP9C7IUDPm6w/Pi3S6pYXqD9pTcnAQ3mjP1lxugN9g50/eG8e48Dfkz+nOFk/yhSEPwAAAAAAAAAA\"},\"shape\":[102],\"dtype\":\"float64\",\"order\":\"little\"}]]}}}],[\"slider_t\",{\"id\":\"p1062\"}],[\"acs\",{\"type\":\"ndarray\",\"array\":{\"type\":\"bytes\",\"data\":\"ftdF60WD0D/rPR4xjJxsPAO9ZfoZkoM/6z0eMYycXDznvftIuuhgP/HTviAIE1M8QhZXQRmmSD/rPR4xjJxMPHidZeblMTc/8Jd+WqPjRjwW7qBueWgpP/HTviAIE0M857bsNinJHj+GbFqudFlAPFudpQpYChQ/6z0eMYycPDy01FkvnIgLP+5v/oC1bjk87sZhndC4Az/wl35ao+M2PHNKQayiNv0+s3brYubrUjzguWjcajz2PvHTviAIEzM8XzXp/J1Q8T54AbVfF681PJ5qeECCfes+hmxarnRZMDw8rRuTlC/mPusG9H69YkY88Vam07Mp4j7rPR4xjJwsPMfYhbIBHd4+OFfKETwGIzx5J1mAij3ZPu5v/oC1bik8nUmZgVdd1T7wwkFw2XA+PM2M9E9RPtI+8Jd+WqPjJjyG9yrVTmfPPhT9NqVDoRA8TdJEAuk4yz6zduti5utCPH1ueFhowMc+2v4lAhGBNjy0Z3xgv9jEPvHTviAIEyM8vzUL+JNlwj6TMaPkbn/3O7xQ/EH0UMA+eAG1XxevJTxT20zxaxO9PqckGx8LljE8mu8p7JQEuj6GbFqudFkgPOGN+NbHX7c+nbwccs2JZjtEJzjApxO1PusG9H69YjY8KsJ/RCUSsz5wlDmYKJYsPMXP7bHIT7E+6z0eMYycHDx4kVQRT4avPspuQLv01eo7X5F2GvTIrD44V8oRPAYTPGrh7ZyRWqo+g49P47DrJzxW9KxyWDCoPu5v/oC1bhk8P33QzTNBpj5EkKRLxl/1O7/r5N94haQ+8MJBcNlwLjwZhYXCpvaiPg7P534qeCQ8J4+oBTOPoT7wl35ao+MWPERQNCZgSqA+JROnLuNuMTw5hqioN0iePhT9NqVDoQA8I1Bs2MYxnD4LTqmAH9QhPHz9T8FaS5o+s3brYubrMjwxZs06rY+YPo0D61EP6/w77qlpOSb6lj7a/iUCEYEmPJosQCrChpU+sSEn/miXEDzpRpWI/DGUPvHTviAIExM8hVve6L34kj5rRjQzo+8pPI7DkdtM2JE+kzGj5G5/5zs=\"},\"shape\":[100],\"dtype\":\"float64\",\"order\":\"little\"}],[\"phis\",{\"type\":\"ndarray\",\"array\":{\"type\":\"bytes\",\"data\":\"AAAAAAAAAAAAAAAAAAAAAAAAAAAAAAAAAAAAAAAAAAAAAAAAAAAAAAAAAAAAAAAAAAAAAAAAAAAAAAAAAAAAAAAAAAAAAAAAAAAAAAAAAAAAAAAAAAAAAAAAAAAAAAAAAAAAAAAAAAAAAAAAAAAAAAAAAAAAAAAAAAAAAAAAAAAAAAAAAAAAAAAAAAAAAAAAAAAAAAAAAAAAAAAAAAAAAAAAAAAAAAAAAAAAAAAAAAAAAAAAAAAAAAAAAAAAAAAAAAAAAAAAAAAYLURU+yEJQAAAAAAAAAAAAAAAAAAAAAAAAAAAAAAAAAAAAAAAAAAAAAAAAAAAAAAAAAAAAAAAAAAAAAAAAAAAGC1EVPshCUAAAAAAAAAAAAAAAAAAAAAAAAAAAAAAAAAAAAAAAAAAAAAAAAAAAAAAAAAAAAAAAAAAAAAAAAAAABgtRFT7IQlAAAAAAAAAAAAAAAAAAAAAAAAAAAAAAAAAAAAAAAAAAAAAAAAAAAAAAAAAAAAAAAAAAAAAAAAAAAAYLURU+yEJQAAAAAAAAAAAGC1EVPshCUAAAAAAAAAAAAAAAAAAAAAAAAAAAAAAAAAAAAAAAAAAAAAAAAAAAAAAGC1EVPshCUAAAAAAAAAAAAAAAAAAAAAAAAAAAAAAAAAAAAAAAAAAAAAAAAAAAAAAAAAAAAAAAAAAAAAAAAAAAAAAAAAAAAAAAAAAAAAAAAAYLURU+yEJQAAAAAAAAAAAAAAAAAAAAAAAAAAAAAAAAAAAAAAAAAAAAAAAAAAAAAAAAAAAAAAAAAAAAAAAAAAAAAAAAAAAAAAAAAAAAAAAAAAAAAAAAAAAAAAAAAAAAAAAAAAAAAAAAAAAAAAAAAAAAAAAAAAAAAAAAAAAAAAAABgtRFT7IQlAAAAAAAAAAAAAAAAAAAAAAAAAAAAAAAAAAAAAAAAAAAAAAAAAAAAAAAAAAAAAAAAAAAAAAAAAAAAAAAAAAAAAAAAAAAAAAAAAGC1EVPshCUAAAAAAAAAAAAAAAAAAAAAAAAAAAAAAAAAAAAAAAAAAAAAAAAAAAAAAGC1EVPshCUA=\"},\"shape\":[100],\"dtype\":\"float64\",\"order\":\"little\"}],[\"\\u03c9s\",{\"type\":\"ndarray\",\"array\":{\"type\":\"bytes\",\"data\":\"GC1EVPshCUAYLURU+yEZQNIhM3982SJAGC1EVPshKUBeOFUpemovQNIhM3982TJAdae76bv9NUAYLURU+yE5QLuyzL46RjxAXjhVKXpqP0AA3+7JXEdBQNIhM3982UJApGR3NJxrREB1p7vpu/1FQEbq/57bj0dAGC1EVPshSUDqb4gJG7RKQLuyzL46RkxAjPUQdFrYTUBeOFUpempPQJi9TO9MflBAAN/uyVxHUUBpAJGkbBBSQNIhM3982VJAO0PVWYyiU0CkZHc0nGtUQAyGGQ+sNFVAdae76bv9VUDeyF3Ey8ZWQEbq/57bj1dArwuieetYWEAYLURU+yFZQIFO5i4L61lA6m+ICRu0WkBSkSrkKn1bQLuyzL46RlxAJNRumUoPXUCM9RB0WthdQPUWs05qoV5AXjhVKXpqX0DjrPsBxRlgQJi9TO9MfmBATM6d3NTiYEAA3+7JXEdhQLXvP7fkq2FAaQCRpGwQYkAeEeKR9HRiQNIhM3982WJAhjKEbAQ+Y0A7Q9VZjKJjQO9TJkcUB2RApGR3NJxrZEBYdcghJNBkQAyGGQ+sNGVAwZZq/DOZZUB1p7vpu/1lQCm4DNdDYmZA3shdxMvGZkCS2a6xUytnQEbq/57bj2dA+/pQjGP0Z0CvC6J561hoQGQc82ZzvWhAGC1EVPshaUDMPZVBg4ZpQIFO5i4L62lANV83HJNPakDqb4gJG7RqQJ6A2faiGGtAUpEq5Cp9a0AHonvRsuFrQLuyzL46RmxAb8MdrMKqbEAk1G6ZSg9tQNjkv4bSc21AjPUQdFrYbUBBBmJh4jxuQPUWs05qoW5AqicEPPIFb0BeOFUpempvQBJJphYCz29A46z7AcUZcEA+NaT4CExwQJi9TO9MfnBA8kX15ZCwcEBMzp3c1OJwQKZWRtMYFXFAAN/uyVxHcUBbZ5fAoHlxQLXvP7fkq3FAD3jorSjecUBpAJGkbBByQMOIOZuwQnJAHhHikfR0ckB4mYqIOKdyQNIhM3982XJALKrbdcALc0CGMoRsBD5zQOG6LGNIcHNAO0PVWYyic0A=\"},\"shape\":[100],\"dtype\":\"float64\",\"order\":\"little\"}],[\"cfft\",{\"type\":\"ndarray\",\"array\":{\"type\":\"bytes\",\"data\":\"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\"},\"shape\":[202],\"dtype\":\"float64\",\"order\":\"little\"}]]},\"code\":\"require(['math'], function(math) {\\n                                      const t = slider_t.value;\\n                                      const ys = source.data['y'];\\n                                      const n = acs.length;\\n                                      acs.forEach((ac,i) => cfft[i+1] = ac*math.cos(\\u03c9s[i]*t+phis[i]));\\n                                      const yfft = math.ifft(Array.from(cfft));\\n                                      ys.forEach((_,i) => ys[i] = (2*n+2)*yfft[i].im);\\n                                      source.change.emit()\\n                                  });\"}}]]]},\"sizing_mode\":\"stretch_width\",\"title\":\"t\",\"start\":0,\"end\":1000,\"value\":0,\"step\":0.1}}],[\"s_dt\",{\"type\":\"object\",\"name\":\"Spinner\",\"id\":\"p1063\",\"attributes\":{\"width\":80,\"sizing_mode\":\"stretch_height\",\"title\":\"\\u03b4t\",\"value\":0.01,\"low\":0.001,\"high\":0.1,\"value_throttled\":0.01,\"step\":0.001}}],[\"fig\",{\"type\":\"object\",\"name\":\"Figure\",\"id\":\"p1005\",\"attributes\":{\"width\":900,\"height\":500,\"x_range\":{\"type\":\"object\",\"name\":\"Range1d\",\"id\":\"p1060\"},\"y_range\":{\"type\":\"object\",\"name\":\"Range1d\",\"id\":\"p1061\",\"attributes\":{\"start\":-0.25747475537314785,\"end\":0.25747475537314785}},\"x_scale\":{\"type\":\"object\",\"name\":\"LinearScale\",\"id\":\"p1018\"},\"y_scale\":{\"type\":\"object\",\"name\":\"LinearScale\",\"id\":\"p1020\"},\"title\":{\"type\":\"object\",\"name\":\"Title\",\"id\":\"p1012\"},\"renderers\":[{\"type\":\"object\",\"name\":\"GlyphRenderer\",\"id\":\"p1057\",\"attributes\":{\"data_source\":{\"id\":\"p1002\"},\"view\":{\"type\":\"object\",\"name\":\"CDSView\",\"id\":\"p1058\",\"attributes\":{\"filter\":{\"type\":\"object\",\"name\":\"AllIndices\",\"id\":\"p1059\"}}},\"glyph\":{\"type\":\"object\",\"name\":\"Line\",\"id\":\"p1054\",\"attributes\":{\"x\":{\"type\":\"field\",\"field\":\"x\"},\"y\":{\"type\":\"field\",\"field\":\"y\"},\"line_color\":\"#000000\",\"line_width\":4}},\"nonselection_glyph\":{\"type\":\"object\",\"name\":\"Line\",\"id\":\"p1055\",\"attributes\":{\"x\":{\"type\":\"field\",\"field\":\"x\"},\"y\":{\"type\":\"field\",\"field\":\"y\"},\"line_color\":\"#000000\",\"line_alpha\":0.1,\"line_width\":4}},\"muted_glyph\":{\"type\":\"object\",\"name\":\"Line\",\"id\":\"p1056\",\"attributes\":{\"x\":{\"type\":\"field\",\"field\":\"x\"},\"y\":{\"type\":\"field\",\"field\":\"y\"},\"line_color\":\"#000000\",\"line_alpha\":0.2,\"line_width\":4}}}}],\"toolbar\":{\"type\":\"object\",\"name\":\"Toolbar\",\"id\":\"p1013\",\"attributes\":{\"tools\":[{\"type\":\"object\",\"name\":\"PanTool\",\"id\":\"p1036\"},{\"type\":\"object\",\"name\":\"WheelZoomTool\",\"id\":\"p1037\"},{\"type\":\"object\",\"name\":\"BoxZoomTool\",\"id\":\"p1038\",\"attributes\":{\"overlay\":{\"type\":\"object\",\"name\":\"BoxAnnotation\",\"id\":\"p1039\",\"attributes\":{\"syncable\":false,\"level\":\"overlay\",\"visible\":false,\"left_units\":\"canvas\",\"right_units\":\"canvas\",\"bottom_units\":\"canvas\",\"top_units\":\"canvas\",\"line_color\":\"black\",\"line_alpha\":1.0,\"line_width\":2,\"line_dash\":[4,4],\"fill_color\":\"lightgrey\",\"fill_alpha\":0.5}}}},{\"type\":\"object\",\"name\":\"SaveTool\",\"id\":\"p1040\"},{\"type\":\"object\",\"name\":\"ResetTool\",\"id\":\"p1041\"},{\"type\":\"object\",\"name\":\"HelpTool\",\"id\":\"p1042\"}]}},\"left\":[{\"type\":\"object\",\"name\":\"LinearAxis\",\"id\":\"p1029\",\"attributes\":{\"ticker\":{\"type\":\"object\",\"name\":\"BasicTicker\",\"id\":\"p1030\",\"attributes\":{\"mantissas\":[1,2,5]}},\"formatter\":{\"type\":\"object\",\"name\":\"BasicTickFormatter\",\"id\":\"p1032\"},\"axis_label\":\"y(x,t)\",\"axis_label_text_font_size\":\"14pt\",\"axis_label_text_font_style\":\"normal\",\"major_label_policy\":{\"type\":\"object\",\"name\":\"AllLabels\",\"id\":\"p1031\"},\"major_label_text_font_size\":\"12pt\"}}],\"below\":[{\"type\":\"object\",\"name\":\"LinearAxis\",\"id\":\"p1022\",\"attributes\":{\"ticker\":{\"type\":\"object\",\"name\":\"BasicTicker\",\"id\":\"p1023\",\"attributes\":{\"mantissas\":[1,2,5]}},\"formatter\":{\"type\":\"object\",\"name\":\"BasicTickFormatter\",\"id\":\"p1025\"},\"axis_label\":\"x\",\"axis_label_text_font_size\":\"14pt\",\"axis_label_text_font_style\":\"normal\",\"major_label_policy\":{\"type\":\"object\",\"name\":\"AllLabels\",\"id\":\"p1024\"},\"major_label_text_font_size\":\"12pt\"}}],\"center\":[{\"type\":\"object\",\"name\":\"Grid\",\"id\":\"p1028\",\"attributes\":{\"axis\":{\"id\":\"p1022\"}}},{\"type\":\"object\",\"name\":\"Grid\",\"id\":\"p1035\",\"attributes\":{\"dimension\":1,\"axis\":{\"id\":\"p1029\"}}}]}}]]},\"code\":\"function upfun() { s_t.value += s_dt.value; cb_obj.active || clearInterval(updater) }\\n                                 cb_obj.label = cb_obj.active ? '\\u275a\\u275a Pause' : '\\u25ba Play';\\n                                 if (cb_obj.active) var updater = setInterval(upfun, 20);\"}}]]]},\"width\":80,\"sizing_mode\":\"stretch_height\",\"label\":\"\\u25ba Play\"}},{\"id\":\"p1063\"},{\"id\":\"p1062\"}]}},{\"id\":\"p1005\"}]}}]}};\n",
       "  const render_items = [{\"docid\":\"a33e5e0d-6caf-4da1-b4c6-823c7b444f4a\",\"roots\":{\"p1068\":\"1572cbaf-0481-4a0f-bc25-78bac9f6a927\"},\"root_ids\":[\"p1068\"]}];\n",
       "  root.Bokeh.embed.embed_items_notebook(docs_json, render_items);\n",
       "  }\n",
       "  if (root.Bokeh !== undefined) {\n",
       "    embed_document(root);\n",
       "  } else {\n",
       "    let attempts = 0;\n",
       "    const timer = setInterval(function(root) {\n",
       "      if (root.Bokeh !== undefined) {\n",
       "        clearInterval(timer);\n",
       "        embed_document(root);\n",
       "      } else {\n",
       "        attempts++;\n",
       "        if (attempts > 100) {\n",
       "          clearInterval(timer);\n",
       "          console.log(\"Bokeh: ERROR: Unable to run BokehJS code because BokehJS library is missing\");\n",
       "        }\n",
       "      }\n",
       "    }, 10, root)\n",
       "  }\n",
       "})(window);"
      ],
      "application/vnd.bokehjs_exec.v0+json": ""
     },
     "metadata": {
      "application/vnd.bokehjs_exec.v0+json": {
       "id": "p1068"
      }
     },
     "output_type": "display_data"
    }
   ],
   "source": [
    "L = 1.\n",
    "nmax = 100\n",
    "n = np.arange(1,nmax+1)\n",
    "kn = n*pi/L\n",
    "\n",
    "# we use a=1\n",
    "cn = (4 - 4*cos(kn*L) - 2*kn*L*sin(kn*L)) / (kn**3 * L)\n",
    "\n",
    "make_string_animation(L,cn)"
   ]
  },
  {
   "cell_type": "markdown",
   "id": "b97a032b",
   "metadata": {},
   "source": [
    "## Example 2: Problem 4.3\n",
    "For the initial condition of problem 3 in problem sheet 4, we get $c_n = \\frac{32 d}{3 n^2 \\pi^2} \\sin(n\\pi/4)$. In the plot, we use $d=1$."
   ]
  },
  {
   "cell_type": "code",
   "execution_count": 6,
   "id": "aa113ab9",
   "metadata": {
    "ExecuteTime": {
     "end_time": "2023-03-03T00:59:08.285527Z",
     "start_time": "2023-03-03T00:59:08.236252Z"
    },
    "code_folding": [],
    "scrolled": false
   },
   "outputs": [
    {
     "data": {
      "text/html": [
       "\n",
       "  <div id=\"069c0fb1-2e33-47d0-b164-fde9d5925c9d\" data-root-id=\"p1228\" style=\"display: contents;\"></div>\n"
      ]
     },
     "metadata": {},
     "output_type": "display_data"
    },
    {
     "data": {
      "application/javascript": [
       "(function(root) {\n",
       "  function embed_document(root) {\n",
       "  const docs_json = {\"cdd99b96-f16c-4b06-814b-fc7f76d5a551\":{\"version\":\"3.0.3\",\"title\":\"Bokeh Application\",\"defs\":[],\"roots\":[{\"type\":\"object\",\"name\":\"Column\",\"id\":\"p1228\",\"attributes\":{\"children\":[{\"type\":\"object\",\"name\":\"Row\",\"id\":\"p1227\",\"attributes\":{\"sizing_mode\":\"stretch_width\",\"children\":[{\"type\":\"object\",\"name\":\"Toggle\",\"id\":\"p1226\",\"attributes\":{\"js_property_callbacks\":{\"type\":\"map\",\"entries\":[[\"change:active\",[{\"type\":\"object\",\"name\":\"CustomJS\",\"id\":\"p1225\",\"attributes\":{\"args\":{\"type\":\"map\",\"entries\":[[\"s_t\",{\"type\":\"object\",\"name\":\"Slider\",\"id\":\"p1222\",\"attributes\":{\"js_property_callbacks\":{\"type\":\"map\",\"entries\":[[\"change:value\",[{\"type\":\"object\",\"name\":\"CustomJS\",\"id\":\"p1224\",\"attributes\":{\"args\":{\"type\":\"map\",\"entries\":[[\"source\",{\"type\":\"object\",\"name\":\"ColumnDataSource\",\"id\":\"p1162\",\"attributes\":{\"selected\":{\"type\":\"object\",\"name\":\"Selection\",\"id\":\"p1164\",\"attributes\":{\"indices\":[],\"line_indices\":[]}},\"selection_policy\":{\"type\":\"object\",\"name\":\"UnionRenderers\",\"id\":\"p1163\"},\"data\":{\"type\":\"map\",\"entries\":[[\"x\",{\"type\":\"ndarray\",\"array\":{\"type\":\"bytes\",\"data\":\"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\"},\"shape\":[202],\"dtype\":\"float64\",\"order\":\"little\"}],[\"y\",{\"type\":\"ndarray\",\"array\":{\"type\":\"bytes\",\"data\":\"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\"},\"shape\":[202],\"dtype\":\"float64\",\"order\":\"little\"}]]}}}],[\"slider_t\",{\"id\":\"p1222\"}],[\"acs\",{\"type\":\"ndarray\",\"array\":{\"type\":\"bytes\",\"data\":\"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\"},\"shape\":[200],\"dtype\":\"float64\",\"order\":\"little\"}],[\"phis\",{\"type\":\"ndarray\",\"array\":{\"type\":\"bytes\",\"data\":\"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\"},\"shape\":[200],\"dtype\":\"float64\",\"order\":\"little\"}],[\"\\u03c9s\",{\"type\":\"ndarray\",\"array\":{\"type\":\"bytes\",\"data\":\"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\"},\"shape\":[200],\"dtype\":\"float64\",\"order\":\"little\"}],[\"cfft\",{\"type\":\"ndarray\",\"array\":{\"type\":\"bytes\",\"data\":\"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\"},\"shape\":[402],\"dtype\":\"float64\",\"order\":\"little\"}]]},\"code\":\"require(['math'], function(math) {\\n                                      const t = slider_t.value;\\n                                      const ys = source.data['y'];\\n                                      const n = acs.length;\\n                                      acs.forEach((ac,i) => cfft[i+1] = ac*math.cos(\\u03c9s[i]*t+phis[i]));\\n                                      const yfft = math.ifft(Array.from(cfft));\\n                                      ys.forEach((_,i) => ys[i] = (2*n+2)*yfft[i].im);\\n                                      source.change.emit()\\n                                  });\"}}]]]},\"sizing_mode\":\"stretch_width\",\"title\":\"t\",\"start\":0,\"end\":1000,\"value\":0,\"step\":0.1}}],[\"s_dt\",{\"type\":\"object\",\"name\":\"Spinner\",\"id\":\"p1223\",\"attributes\":{\"width\":80,\"sizing_mode\":\"stretch_height\",\"title\":\"\\u03b4t\",\"value\":0.02,\"low\":0.002,\"high\":0.2,\"value_throttled\":0.02,\"step\":0.002}}],[\"fig\",{\"type\":\"object\",\"name\":\"Figure\",\"id\":\"p1165\",\"attributes\":{\"width\":900,\"height\":500,\"x_range\":{\"type\":\"object\",\"name\":\"Range1d\",\"id\":\"p1220\",\"attributes\":{\"end\":2.0}},\"y_range\":{\"type\":\"object\",\"name\":\"Range1d\",\"id\":\"p1221\",\"attributes\":{\"start\":-1.0257361039358175,\"end\":1.0257361039358175}},\"x_scale\":{\"type\":\"object\",\"name\":\"LinearScale\",\"id\":\"p1178\"},\"y_scale\":{\"type\":\"object\",\"name\":\"LinearScale\",\"id\":\"p1180\"},\"title\":{\"type\":\"object\",\"name\":\"Title\",\"id\":\"p1172\"},\"renderers\":[{\"type\":\"object\",\"name\":\"GlyphRenderer\",\"id\":\"p1217\",\"attributes\":{\"data_source\":{\"id\":\"p1162\"},\"view\":{\"type\":\"object\",\"name\":\"CDSView\",\"id\":\"p1218\",\"attributes\":{\"filter\":{\"type\":\"object\",\"name\":\"AllIndices\",\"id\":\"p1219\"}}},\"glyph\":{\"type\":\"object\",\"name\":\"Line\",\"id\":\"p1214\",\"attributes\":{\"x\":{\"type\":\"field\",\"field\":\"x\"},\"y\":{\"type\":\"field\",\"field\":\"y\"},\"line_color\":\"#000000\",\"line_width\":4}},\"nonselection_glyph\":{\"type\":\"object\",\"name\":\"Line\",\"id\":\"p1215\",\"attributes\":{\"x\":{\"type\":\"field\",\"field\":\"x\"},\"y\":{\"type\":\"field\",\"field\":\"y\"},\"line_color\":\"#000000\",\"line_alpha\":0.1,\"line_width\":4}},\"muted_glyph\":{\"type\":\"object\",\"name\":\"Line\",\"id\":\"p1216\",\"attributes\":{\"x\":{\"type\":\"field\",\"field\":\"x\"},\"y\":{\"type\":\"field\",\"field\":\"y\"},\"line_color\":\"#000000\",\"line_alpha\":0.2,\"line_width\":4}}}}],\"toolbar\":{\"type\":\"object\",\"name\":\"Toolbar\",\"id\":\"p1173\",\"attributes\":{\"tools\":[{\"type\":\"object\",\"name\":\"PanTool\",\"id\":\"p1196\"},{\"type\":\"object\",\"name\":\"WheelZoomTool\",\"id\":\"p1197\"},{\"type\":\"object\",\"name\":\"BoxZoomTool\",\"id\":\"p1198\",\"attributes\":{\"overlay\":{\"type\":\"object\",\"name\":\"BoxAnnotation\",\"id\":\"p1199\",\"attributes\":{\"syncable\":false,\"level\":\"overlay\",\"visible\":false,\"left_units\":\"canvas\",\"right_units\":\"canvas\",\"bottom_units\":\"canvas\",\"top_units\":\"canvas\",\"line_color\":\"black\",\"line_alpha\":1.0,\"line_width\":2,\"line_dash\":[4,4],\"fill_color\":\"lightgrey\",\"fill_alpha\":0.5}}}},{\"type\":\"object\",\"name\":\"SaveTool\",\"id\":\"p1200\"},{\"type\":\"object\",\"name\":\"ResetTool\",\"id\":\"p1201\"},{\"type\":\"object\",\"name\":\"HelpTool\",\"id\":\"p1202\"}]}},\"left\":[{\"type\":\"object\",\"name\":\"LinearAxis\",\"id\":\"p1189\",\"attributes\":{\"ticker\":{\"type\":\"object\",\"name\":\"BasicTicker\",\"id\":\"p1190\",\"attributes\":{\"mantissas\":[1,2,5]}},\"formatter\":{\"type\":\"object\",\"name\":\"BasicTickFormatter\",\"id\":\"p1192\"},\"axis_label\":\"y(x,t)\",\"axis_label_text_font_size\":\"14pt\",\"axis_label_text_font_style\":\"normal\",\"major_label_policy\":{\"type\":\"object\",\"name\":\"AllLabels\",\"id\":\"p1191\"},\"major_label_text_font_size\":\"12pt\"}}],\"below\":[{\"type\":\"object\",\"name\":\"LinearAxis\",\"id\":\"p1182\",\"attributes\":{\"ticker\":{\"type\":\"object\",\"name\":\"BasicTicker\",\"id\":\"p1183\",\"attributes\":{\"mantissas\":[1,2,5]}},\"formatter\":{\"type\":\"object\",\"name\":\"BasicTickFormatter\",\"id\":\"p1185\"},\"axis_label\":\"x\",\"axis_label_text_font_size\":\"14pt\",\"axis_label_text_font_style\":\"normal\",\"major_label_policy\":{\"type\":\"object\",\"name\":\"AllLabels\",\"id\":\"p1184\"},\"major_label_text_font_size\":\"12pt\"}}],\"center\":[{\"type\":\"object\",\"name\":\"Grid\",\"id\":\"p1188\",\"attributes\":{\"axis\":{\"id\":\"p1182\"}}},{\"type\":\"object\",\"name\":\"Grid\",\"id\":\"p1195\",\"attributes\":{\"dimension\":1,\"axis\":{\"id\":\"p1189\"}}}]}}]]},\"code\":\"function upfun() { s_t.value += s_dt.value; cb_obj.active || clearInterval(updater) }\\n                                 cb_obj.label = cb_obj.active ? '\\u275a\\u275a Pause' : '\\u25ba Play';\\n                                 if (cb_obj.active) var updater = setInterval(upfun, 20);\"}}]]]},\"width\":80,\"sizing_mode\":\"stretch_height\",\"label\":\"\\u25ba Play\"}},{\"id\":\"p1223\"},{\"id\":\"p1222\"}]}},{\"id\":\"p1165\"}]}}]}};\n",
       "  const render_items = [{\"docid\":\"cdd99b96-f16c-4b06-814b-fc7f76d5a551\",\"roots\":{\"p1228\":\"069c0fb1-2e33-47d0-b164-fde9d5925c9d\"},\"root_ids\":[\"p1228\"]}];\n",
       "  root.Bokeh.embed.embed_items_notebook(docs_json, render_items);\n",
       "  }\n",
       "  if (root.Bokeh !== undefined) {\n",
       "    embed_document(root);\n",
       "  } else {\n",
       "    let attempts = 0;\n",
       "    const timer = setInterval(function(root) {\n",
       "      if (root.Bokeh !== undefined) {\n",
       "        clearInterval(timer);\n",
       "        embed_document(root);\n",
       "      } else {\n",
       "        attempts++;\n",
       "        if (attempts > 100) {\n",
       "          clearInterval(timer);\n",
       "          console.log(\"Bokeh: ERROR: Unable to run BokehJS code because BokehJS library is missing\");\n",
       "        }\n",
       "      }\n",
       "    }, 10, root)\n",
       "  }\n",
       "})(window);"
      ],
      "application/vnd.bokehjs_exec.v0+json": ""
     },
     "metadata": {
      "application/vnd.bokehjs_exec.v0+json": {
       "id": "p1228"
      }
     },
     "output_type": "display_data"
    }
   ],
   "source": [
    "L = 2.\n",
    "nmax = 200\n",
    "n = np.arange(1,nmax+1)\n",
    "kn = n*pi/L\n",
    "\n",
    "cn = 32/(3*n**2*pi**2)*sin(n*pi/4)\n",
    "\n",
    "make_string_animation(L,cn)"
   ]
  },
  {
   "cell_type": "markdown",
   "id": "d6b4b326",
   "metadata": {},
   "source": [
    "## Example 3: Problem 5.1\n",
    "The below is ready to insert the expression for $c_n$ for problem 5.1, just below the line `##### insert your expression for c_n here #####`."
   ]
  },
  {
   "cell_type": "code",
   "execution_count": 7,
   "id": "60da6edb",
   "metadata": {
    "ExecuteTime": {
     "end_time": "2023-03-03T00:59:08.291280Z",
     "start_time": "2023-03-03T00:59:08.286887Z"
    }
   },
   "outputs": [
    {
     "ename": "SyntaxError",
     "evalue": "invalid syntax (1664927551.py, line 12)",
     "output_type": "error",
     "traceback": [
      "\u001b[0;36m  Cell \u001b[0;32mIn[7], line 12\u001b[0;36m\u001b[0m\n\u001b[0;31m    cn =\u001b[0m\n\u001b[0m         ^\u001b[0m\n\u001b[0;31mSyntaxError\u001b[0m\u001b[0;31m:\u001b[0m invalid syntax\n"
     ]
    }
   ],
   "source": [
    "x1 = 0.95\n",
    "x2 = 1.05\n",
    "\n",
    "# do the plot both for L=2 and for L=3\n",
    "for L in (2.,3.):\n",
    "    # adjust nmax to get the same spatial resolution\n",
    "    nmax = int(100*L)\n",
    "    n = np.arange(1,nmax+1)\n",
    "    kn = n*pi/L\n",
    "\n",
    "    ##### insert your expression for c_n here #####\n",
    "    cn = \n",
    "    ###############################################\n",
    "\n",
    "    make_string_animation(L,cn,width=int(300*L)+100,dt=0.02)"
   ]
  }
 ],
 "metadata": {
  "@webio": {
   "lastCommId": null,
   "lastKernelId": null
  },
  "hide_input": false,
  "kernelspec": {
   "display_name": "Python 3 (ipykernel)",
   "language": "python",
   "name": "python3"
  },
  "language_info": {
   "codemirror_mode": {
    "name": "ipython",
    "version": 3
   },
   "file_extension": ".py",
   "mimetype": "text/x-python",
   "name": "python",
   "nbconvert_exporter": "python",
   "pygments_lexer": "ipython3",
   "version": "3.10.9"
  },
  "toc": {
   "base_numbering": 1,
   "nav_menu": {},
   "number_sections": true,
   "sideBar": true,
   "skip_h1_title": false,
   "title_cell": "Table of Contents",
   "title_sidebar": "Contents",
   "toc_cell": false,
   "toc_position": {},
   "toc_section_display": true,
   "toc_window_display": false
  },
  "varInspector": {
   "cols": {
    "lenName": 16,
    "lenType": 16,
    "lenVar": 40
   },
   "kernels_config": {
    "python": {
     "delete_cmd_postfix": "",
     "delete_cmd_prefix": "del ",
     "library": "var_list.py",
     "varRefreshCmd": "print(var_dic_list())"
    },
    "r": {
     "delete_cmd_postfix": ") ",
     "delete_cmd_prefix": "rm(",
     "library": "var_list.r",
     "varRefreshCmd": "cat(var_dic_list()) "
    }
   },
   "types_to_exclude": [
    "module",
    "function",
    "builtin_function_or_method",
    "instance",
    "_Feature"
   ],
   "window_display": false
  }
 },
 "nbformat": 4,
 "nbformat_minor": 5
}
