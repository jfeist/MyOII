{
 "cells": [
  {
   "cell_type": "markdown",
   "id": "b625578f",
   "metadata": {
    "slideshow": {
     "slide_type": "skip"
    }
   },
   "source": [
    "# Setup"
   ]
  },
  {
   "cell_type": "code",
   "execution_count": null,
   "id": "00e3de64",
   "metadata": {
    "ExecuteTime": {
     "end_time": "2023-03-03T13:20:31.989962Z",
     "start_time": "2023-03-03T13:20:31.734525Z"
    },
    "code_folding": [],
    "execution": {
     "iopub.execute_input": "2024-02-28T17:47:51.468104Z",
     "iopub.status.busy": "2024-02-28T17:47:51.466801Z",
     "iopub.status.idle": "2024-02-28T17:47:51.858135Z",
     "shell.execute_reply": "2024-02-28T17:47:51.857756Z",
     "shell.execute_reply.started": "2024-02-28T17:47:51.468072Z"
    },
    "slideshow": {
     "slide_type": "skip"
    }
   },
   "outputs": [],
   "source": [
    "# import libraries\n",
    "import numpy as np\n",
    "from numpy import *\n",
    "import math\n",
    "from bokeh.io import output_notebook, show\n",
    "from bokeh.plotting import figure, ColumnDataSource\n",
    "from bokeh.models import CustomJS, Slider, Range1d, Span, Toggle, Spinner\n",
    "from bokeh.layouts import column, row, gridplot\n",
    "output_notebook()"
   ]
  },
  {
   "cell_type": "code",
   "execution_count": null,
   "id": "93c0df80",
   "metadata": {
    "ExecuteTime": {
     "end_time": "2023-03-03T13:20:31.995433Z",
     "start_time": "2023-03-03T13:20:31.991445Z"
    },
    "code_folding": [
     0
    ],
    "execution": {
     "iopub.execute_input": "2024-02-28T17:47:53.312293Z",
     "iopub.status.busy": "2024-02-28T17:47:53.311845Z",
     "iopub.status.idle": "2024-02-28T17:47:53.335776Z",
     "shell.execute_reply": "2024-02-28T17:47:53.321911Z",
     "shell.execute_reply.started": "2024-02-28T17:47:53.312266Z"
    },
    "slideshow": {
     "slide_type": "skip"
    }
   },
   "outputs": [],
   "source": [
    "# style definitions\n",
    "colors = ['#000000', '#E69F00', '#56B4E9', '#009E73', '#F0E442', '#0072B2', '#D55E00', '#CC79A7']\n",
    "SUB = str.maketrans(\"0123456789\", \"₀₁₂₃₄₅₆₇₈₉\")\n",
    "SUP = str.maketrans(\"0123456789\", \"⁰¹²³⁴⁵⁶⁷⁸⁹\")\n",
    "\n",
    "def set_fig_style(fig,xmax,ymax,xlab=\"x\",ylab=\"y(x,t)\",xmin=0,ymin=None):\n",
    "    if ymin is None:\n",
    "        ymin = -ymax\n",
    "    for (ax, lab) in [(fig.xaxis,xlab),(fig.yaxis,ylab)]:\n",
    "        ax.axis_label = lab\n",
    "        ax.axis_label_text_font_size = '14pt'\n",
    "        ax.axis_label_text_font_style = 'normal'\n",
    "        ax.major_label_text_font_size = '12pt'\n",
    "    fig.x_range = Range1d(xmin,xmax)\n",
    "    fig.y_range = Range1d(ymin,ymax)"
   ]
  },
  {
   "cell_type": "code",
   "execution_count": null,
   "id": "d1535580",
   "metadata": {
    "ExecuteTime": {
     "end_time": "2023-03-03T13:20:32.002477Z",
     "start_time": "2023-03-03T13:20:31.997001Z"
    },
    "code_folding": [
     0
    ],
    "execution": {
     "iopub.execute_input": "2024-02-28T17:47:57.390172Z",
     "iopub.status.busy": "2024-02-28T17:47:57.389713Z",
     "iopub.status.idle": "2024-02-28T17:47:57.402962Z",
     "shell.execute_reply": "2024-02-28T17:47:57.402049Z",
     "shell.execute_reply.started": "2024-02-28T17:47:57.390148Z"
    }
   },
   "outputs": [],
   "source": [
    "%%javascript\n",
    "requirejs.config({\n",
    "    paths: { 'math': ['https://cdnjs.cloudflare.com/ajax/libs/mathjs/11.6.0/math.min'], },\n",
    "});"
   ]
  },
  {
   "cell_type": "code",
   "execution_count": null,
   "id": "5c4489e4",
   "metadata": {
    "ExecuteTime": {
     "end_time": "2023-03-03T13:20:32.013183Z",
     "start_time": "2023-03-03T13:20:32.005425Z"
    },
    "code_folding": [
     0
    ]
   },
   "outputs": [],
   "source": [
    "def make_string_animation(L,cs,v=1.,dt=None, width=900, ymax=None):\n",
    "    # these are the coefficients of sin(kn x), with kn = nπ/L\n",
    "    cs = np.asarray(cs)\n",
    "    acs = abs(cs)\n",
    "    phis = np.angle(cs.conj())\n",
    "    ns = np.arange(1,len(cs)+1)\n",
    "    ks = ns*np.pi/L\n",
    "    ωs = v*ks\n",
    "\n",
    "    n = len(cs)\n",
    "    # make sure that number of points in FFT is multiple of 2\n",
    "    n_fft = 2**math.ceil(math.log2(2*n+2))\n",
    "    cfft = np.zeros(n_fft)\n",
    "    cfft[1:n+1] = n_fft*abs(cs)*np.cos(phis)\n",
    "\n",
    "    x = np.linspace(0,L,n_fft//2 + 1)\n",
    "\n",
    "    if dt is None:\n",
    "        T = 2*L/v\n",
    "        dt = T/200\n",
    "\n",
    "    if isinstance(dt,(int,float)):\n",
    "        dt = (dt/10,dt*10,dt/10,dt)\n",
    "    else:\n",
    "        assert len(dt) == 4\n",
    "    \n",
    "    y = np.fft.ifft(cfft)[:len(x)]\n",
    "    source = ColumnDataSource(data=dict(x=x,y=y.imag))\n",
    "\n",
    "    if ymax is None:\n",
    "        ymax = 1.03*abs(source.data['y']).max()\n",
    "\n",
    "    fig = figure(width=width,height=500)\n",
    "    fig.line('x', 'y', source=source, line_width=4, color=colors[0])\n",
    "    set_fig_style(fig,x.max(),ymax=ymax)\n",
    "\n",
    "    slider_t = Slider(start=0, end=1000, value=0, step=0.1, title='t', sizing_mode=\"stretch_width\")\n",
    "    spinner_dt = Spinner(low=dt[0], high=dt[1], step=dt[2], value=dt[3], title=\"δt\", width=80, sizing_mode=\"stretch_height\")\n",
    "\n",
    "    # JavaScript callback to do animations directly in the browser (without needing to communicate with server)\n",
    "    cb_sliders = CustomJS(args=dict(source=source, slider_t=slider_t, acs=acs, phis=phis, ωs=ωs, cfft=cfft),\n",
    "                          code=\"\"\"require(['math'], function(math) {\n",
    "                                      const t = slider_t.value;\n",
    "                                      const ys = source.data['y'];\n",
    "                                      const n_fft = cfft.length;\n",
    "                                      acs.forEach((ac,i) => cfft[i+1] = ac*math.cos(ωs[i]*t+phis[i]));\n",
    "                                      const yfft = math.ifft(Array.from(cfft));\n",
    "                                      ys.forEach((_,i) => ys[i] = n_fft*yfft[i].im);\n",
    "                                      source.change.emit();\n",
    "                                  });\"\"\")\n",
    "\n",
    "    slider_t.js_on_change('value', cb_sliders)\n",
    "\n",
    "    # Set up Play/Pause button/toggle JS\n",
    "    cb_toggle = CustomJS(args=dict(s_t=slider_t,s_dt=spinner_dt,fig=fig),\n",
    "                         code=\"\"\"function upfun() { s_t.value += s_dt.value; cb_obj.active || clearInterval(updater) }\n",
    "                                 cb_obj.label = cb_obj.active ? '❚❚ Pause' : '► Play';\n",
    "                                 if (cb_obj.active) var updater = setInterval(upfun, 20);\"\"\")\n",
    "    toggle = Toggle(label='► Play',active=False, sizing_mode=\"stretch_height\", width=80)\n",
    "    toggle.js_on_change('active', cb_toggle)\n",
    "\n",
    "    layout = column(row(toggle, spinner_dt, slider_t, sizing_mode=\"stretch_width\"), fig)\n",
    "    show(layout)"
   ]
  },
  {
   "cell_type": "markdown",
   "id": "581f87ed",
   "metadata": {},
   "source": [
    "# Plot motion of a string with fixed ends, with given normal mode coefficients"
   ]
  },
  {
   "cell_type": "markdown",
   "id": "82ae088b",
   "metadata": {},
   "source": [
    "## Example 1\n",
    "For initial condition $y(x,t=0) = a x (L-x)$, where $a$ is a constant with the correct units, we get $c_n = a \\frac{4-4\\cos(k_n L) - 2k_n L \\sin(k_n L)}{k_n^3 L}$."
   ]
  },
  {
   "cell_type": "code",
   "execution_count": null,
   "id": "b234f166",
   "metadata": {
    "ExecuteTime": {
     "end_time": "2023-03-03T13:20:32.214450Z",
     "start_time": "2023-03-03T13:20:32.014262Z"
    },
    "code_folding": []
   },
   "outputs": [],
   "source": [
    "L = 1.\n",
    "nmax = 150\n",
    "n = np.arange(1,nmax+1)\n",
    "kn = n*pi/L\n",
    "\n",
    "# we use a=1\n",
    "cn = (4 - 4*cos(kn*L) - 2*kn*L*sin(kn*L)) / (kn**3 * L)\n",
    "\n",
    "make_string_animation(L,cn)"
   ]
  },
  {
   "cell_type": "markdown",
   "id": "b97a032b",
   "metadata": {},
   "source": [
    "## Example 2: Problem 4.3\n",
    "For the initial condition of problem 3 in problem sheet 4, we get $c_n = \\frac{32 d}{3 n^2 \\pi^2} \\sin(n\\pi/4)$. In the plot, we use $d=1$."
   ]
  },
  {
   "cell_type": "code",
   "execution_count": null,
   "id": "aa113ab9",
   "metadata": {
    "ExecuteTime": {
     "end_time": "2023-03-03T13:20:32.270777Z",
     "start_time": "2023-03-03T13:20:32.216064Z"
    },
    "code_folding": []
   },
   "outputs": [],
   "source": [
    "L = 2.\n",
    "nmax = 500\n",
    "n = np.arange(1,nmax+1)\n",
    "kn = n*pi/L\n",
    "\n",
    "cn = 32/(3*n**2*pi**2)*sin(n*pi/4)\n",
    "\n",
    "make_string_animation(L,cn)"
   ]
  },
  {
   "cell_type": "markdown",
   "id": "d6b4b326",
   "metadata": {},
   "source": [
    "## Example 3: Problem 5.1\n",
    "The below is ready to insert the expression for $c_n$ for problem 5.1, just below the line `##### insert your expression for c_n here #####`."
   ]
  },
  {
   "cell_type": "code",
   "execution_count": null,
   "id": "60da6edb",
   "metadata": {
    "ExecuteTime": {
     "end_time": "2023-03-03T13:20:32.277160Z",
     "start_time": "2023-03-03T13:20:32.272183Z"
    },
    "scrolled": false
   },
   "outputs": [],
   "source": [
    "x1 = 0.95\n",
    "x2 = 1.05\n",
    "\n",
    "# do the plot both for L=2 and for L=3\n",
    "for L in (2.,3.):\n",
    "    # adjust nmax to get the same spatial resolution\n",
    "    nmax = int(100*L)\n",
    "    n = np.arange(1,nmax+1)\n",
    "    kn = n*pi/L\n",
    "\n",
    "    ##### insert your expression for c_n here #####\n",
    "    cn =\n",
    "    ###############################################\n",
    "\n",
    "    make_string_animation(L,cn,width=int(300*L)+100,dt=0.01,ymax=1.1)"
   ]
  }
 ],
 "metadata": {
  "@webio": {
   "lastCommId": null,
   "lastKernelId": null
  },
  "hide_input": false,
  "kernelspec": {
   "display_name": "Python 3 (ipykernel)",
   "language": "python",
   "name": "python3"
  },
  "language_info": {
   "codemirror_mode": {
    "name": "ipython",
    "version": 3
   },
   "file_extension": ".py",
   "mimetype": "text/x-python",
   "name": "python",
   "nbconvert_exporter": "python",
   "pygments_lexer": "ipython3",
   "version": "3.11.5"
  },
  "toc": {
   "base_numbering": 1,
   "nav_menu": {},
   "number_sections": true,
   "sideBar": true,
   "skip_h1_title": false,
   "title_cell": "Table of Contents",
   "title_sidebar": "Contents",
   "toc_cell": false,
   "toc_position": {},
   "toc_section_display": true,
   "toc_window_display": false
  },
  "varInspector": {
   "cols": {
    "lenName": 16,
    "lenType": 16,
    "lenVar": 40
   },
   "kernels_config": {
    "python": {
     "delete_cmd_postfix": "",
     "delete_cmd_prefix": "del ",
     "library": "var_list.py",
     "varRefreshCmd": "print(var_dic_list())"
    },
    "r": {
     "delete_cmd_postfix": ") ",
     "delete_cmd_prefix": "rm(",
     "library": "var_list.r",
     "varRefreshCmd": "cat(var_dic_list()) "
    }
   },
   "types_to_exclude": [
    "module",
    "function",
    "builtin_function_or_method",
    "instance",
    "_Feature"
   ],
   "window_display": false
  }
 },
 "nbformat": 4,
 "nbformat_minor": 5
}
