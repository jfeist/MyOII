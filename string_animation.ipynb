{
 "cells": [
  {
   "cell_type": "markdown",
   "id": "b625578f",
   "metadata": {
    "slideshow": {
     "slide_type": "skip"
    }
   },
   "source": [
    "# Setup"
   ]
  },
  {
   "cell_type": "code",
   "execution_count": 1,
   "id": "00e3de64",
   "metadata": {
    "ExecuteTime": {
     "end_time": "2023-03-03T13:20:31.989962Z",
     "start_time": "2023-03-03T13:20:31.734525Z"
    },
    "code_folding": [
     0
    ],
    "execution": {
     "iopub.execute_input": "2024-02-28T17:47:51.468104Z",
     "iopub.status.busy": "2024-02-28T17:47:51.466801Z",
     "iopub.status.idle": "2024-02-28T17:47:51.858135Z",
     "shell.execute_reply": "2024-02-28T17:47:51.857756Z",
     "shell.execute_reply.started": "2024-02-28T17:47:51.468072Z"
    },
    "slideshow": {
     "slide_type": "skip"
    }
   },
   "outputs": [
    {
     "data": {
      "text/html": [
       "<div class=\"bk-root\">\n",
       "        <a href=\"https://bokeh.org\" target=\"_blank\" class=\"bk-logo bk-logo-small bk-logo-notebook\"></a>\n",
       "        <span id=\"1002\">Loading BokehJS ...</span>\n",
       "    </div>\n"
      ]
     },
     "metadata": {},
     "output_type": "display_data"
    },
    {
     "data": {
      "application/javascript": [
       "(function(root) {\n",
       "  function now() {\n",
       "    return new Date();\n",
       "  }\n",
       "\n",
       "  const force = true;\n",
       "\n",
       "  if (typeof root._bokeh_onload_callbacks === \"undefined\" || force === true) {\n",
       "    root._bokeh_onload_callbacks = [];\n",
       "    root._bokeh_is_loading = undefined;\n",
       "  }\n",
       "\n",
       "const JS_MIME_TYPE = 'application/javascript';\n",
       "  const HTML_MIME_TYPE = 'text/html';\n",
       "  const EXEC_MIME_TYPE = 'application/vnd.bokehjs_exec.v0+json';\n",
       "  const CLASS_NAME = 'output_bokeh rendered_html';\n",
       "\n",
       "  /**\n",
       "   * Render data to the DOM node\n",
       "   */\n",
       "  function render(props, node) {\n",
       "    const script = document.createElement(\"script\");\n",
       "    node.appendChild(script);\n",
       "  }\n",
       "\n",
       "  /**\n",
       "   * Handle when an output is cleared or removed\n",
       "   */\n",
       "  function handleClearOutput(event, handle) {\n",
       "    const cell = handle.cell;\n",
       "\n",
       "    const id = cell.output_area._bokeh_element_id;\n",
       "    const server_id = cell.output_area._bokeh_server_id;\n",
       "    // Clean up Bokeh references\n",
       "    if (id != null && id in Bokeh.index) {\n",
       "      Bokeh.index[id].model.document.clear();\n",
       "      delete Bokeh.index[id];\n",
       "    }\n",
       "\n",
       "    if (server_id !== undefined) {\n",
       "      // Clean up Bokeh references\n",
       "      const cmd_clean = \"from bokeh.io.state import curstate; print(curstate().uuid_to_server['\" + server_id + \"'].get_sessions()[0].document.roots[0]._id)\";\n",
       "      cell.notebook.kernel.execute(cmd_clean, {\n",
       "        iopub: {\n",
       "          output: function(msg) {\n",
       "            const id = msg.content.text.trim();\n",
       "            if (id in Bokeh.index) {\n",
       "              Bokeh.index[id].model.document.clear();\n",
       "              delete Bokeh.index[id];\n",
       "            }\n",
       "          }\n",
       "        }\n",
       "      });\n",
       "      // Destroy server and session\n",
       "      const cmd_destroy = \"import bokeh.io.notebook as ion; ion.destroy_server('\" + server_id + \"')\";\n",
       "      cell.notebook.kernel.execute(cmd_destroy);\n",
       "    }\n",
       "  }\n",
       "\n",
       "  /**\n",
       "   * Handle when a new output is added\n",
       "   */\n",
       "  function handleAddOutput(event, handle) {\n",
       "    const output_area = handle.output_area;\n",
       "    const output = handle.output;\n",
       "\n",
       "    // limit handleAddOutput to display_data with EXEC_MIME_TYPE content only\n",
       "    if ((output.output_type != \"display_data\") || (!Object.prototype.hasOwnProperty.call(output.data, EXEC_MIME_TYPE))) {\n",
       "      return\n",
       "    }\n",
       "\n",
       "    const toinsert = output_area.element.find(\".\" + CLASS_NAME.split(' ')[0]);\n",
       "\n",
       "    if (output.metadata[EXEC_MIME_TYPE][\"id\"] !== undefined) {\n",
       "      toinsert[toinsert.length - 1].firstChild.textContent = output.data[JS_MIME_TYPE];\n",
       "      // store reference to embed id on output_area\n",
       "      output_area._bokeh_element_id = output.metadata[EXEC_MIME_TYPE][\"id\"];\n",
       "    }\n",
       "    if (output.metadata[EXEC_MIME_TYPE][\"server_id\"] !== undefined) {\n",
       "      const bk_div = document.createElement(\"div\");\n",
       "      bk_div.innerHTML = output.data[HTML_MIME_TYPE];\n",
       "      const script_attrs = bk_div.children[0].attributes;\n",
       "      for (let i = 0; i < script_attrs.length; i++) {\n",
       "        toinsert[toinsert.length - 1].firstChild.setAttribute(script_attrs[i].name, script_attrs[i].value);\n",
       "        toinsert[toinsert.length - 1].firstChild.textContent = bk_div.children[0].textContent\n",
       "      }\n",
       "      // store reference to server id on output_area\n",
       "      output_area._bokeh_server_id = output.metadata[EXEC_MIME_TYPE][\"server_id\"];\n",
       "    }\n",
       "  }\n",
       "\n",
       "  function register_renderer(events, OutputArea) {\n",
       "\n",
       "    function append_mime(data, metadata, element) {\n",
       "      // create a DOM node to render to\n",
       "      const toinsert = this.create_output_subarea(\n",
       "        metadata,\n",
       "        CLASS_NAME,\n",
       "        EXEC_MIME_TYPE\n",
       "      );\n",
       "      this.keyboard_manager.register_events(toinsert);\n",
       "      // Render to node\n",
       "      const props = {data: data, metadata: metadata[EXEC_MIME_TYPE]};\n",
       "      render(props, toinsert[toinsert.length - 1]);\n",
       "      element.append(toinsert);\n",
       "      return toinsert\n",
       "    }\n",
       "\n",
       "    /* Handle when an output is cleared or removed */\n",
       "    events.on('clear_output.CodeCell', handleClearOutput);\n",
       "    events.on('delete.Cell', handleClearOutput);\n",
       "\n",
       "    /* Handle when a new output is added */\n",
       "    events.on('output_added.OutputArea', handleAddOutput);\n",
       "\n",
       "    /**\n",
       "     * Register the mime type and append_mime function with output_area\n",
       "     */\n",
       "    OutputArea.prototype.register_mime_type(EXEC_MIME_TYPE, append_mime, {\n",
       "      /* Is output safe? */\n",
       "      safe: true,\n",
       "      /* Index of renderer in `output_area.display_order` */\n",
       "      index: 0\n",
       "    });\n",
       "  }\n",
       "\n",
       "  // register the mime type if in Jupyter Notebook environment and previously unregistered\n",
       "  if (root.Jupyter !== undefined) {\n",
       "    const events = require('base/js/events');\n",
       "    const OutputArea = require('notebook/js/outputarea').OutputArea;\n",
       "\n",
       "    if (OutputArea.prototype.mime_types().indexOf(EXEC_MIME_TYPE) == -1) {\n",
       "      register_renderer(events, OutputArea);\n",
       "    }\n",
       "  }\n",
       "  if (typeof (root._bokeh_timeout) === \"undefined\" || force === true) {\n",
       "    root._bokeh_timeout = Date.now() + 5000;\n",
       "    root._bokeh_failed_load = false;\n",
       "  }\n",
       "\n",
       "  const NB_LOAD_WARNING = {'data': {'text/html':\n",
       "     \"<div style='background-color: #fdd'>\\n\"+\n",
       "     \"<p>\\n\"+\n",
       "     \"BokehJS does not appear to have successfully loaded. If loading BokehJS from CDN, this \\n\"+\n",
       "     \"may be due to a slow or bad network connection. Possible fixes:\\n\"+\n",
       "     \"</p>\\n\"+\n",
       "     \"<ul>\\n\"+\n",
       "     \"<li>re-rerun `output_notebook()` to attempt to load from CDN again, or</li>\\n\"+\n",
       "     \"<li>use INLINE resources instead, as so:</li>\\n\"+\n",
       "     \"</ul>\\n\"+\n",
       "     \"<code>\\n\"+\n",
       "     \"from bokeh.resources import INLINE\\n\"+\n",
       "     \"output_notebook(resources=INLINE)\\n\"+\n",
       "     \"</code>\\n\"+\n",
       "     \"</div>\"}};\n",
       "\n",
       "  function display_loaded() {\n",
       "    const el = document.getElementById(\"1002\");\n",
       "    if (el != null) {\n",
       "      el.textContent = \"BokehJS is loading...\";\n",
       "    }\n",
       "    if (root.Bokeh !== undefined) {\n",
       "      if (el != null) {\n",
       "        el.textContent = \"BokehJS \" + root.Bokeh.version + \" successfully loaded.\";\n",
       "      }\n",
       "    } else if (Date.now() < root._bokeh_timeout) {\n",
       "      setTimeout(display_loaded, 100)\n",
       "    }\n",
       "  }\n",
       "\n",
       "  function run_callbacks() {\n",
       "    try {\n",
       "      root._bokeh_onload_callbacks.forEach(function(callback) {\n",
       "        if (callback != null)\n",
       "          callback();\n",
       "      });\n",
       "    } finally {\n",
       "      delete root._bokeh_onload_callbacks\n",
       "    }\n",
       "    console.debug(\"Bokeh: all callbacks have finished\");\n",
       "  }\n",
       "\n",
       "  function load_libs(css_urls, js_urls, callback) {\n",
       "    if (css_urls == null) css_urls = [];\n",
       "    if (js_urls == null) js_urls = [];\n",
       "\n",
       "    root._bokeh_onload_callbacks.push(callback);\n",
       "    if (root._bokeh_is_loading > 0) {\n",
       "      console.debug(\"Bokeh: BokehJS is being loaded, scheduling callback at\", now());\n",
       "      return null;\n",
       "    }\n",
       "    if (js_urls == null || js_urls.length === 0) {\n",
       "      run_callbacks();\n",
       "      return null;\n",
       "    }\n",
       "    console.debug(\"Bokeh: BokehJS not loaded, scheduling load and callback at\", now());\n",
       "    root._bokeh_is_loading = css_urls.length + js_urls.length;\n",
       "\n",
       "    function on_load() {\n",
       "      root._bokeh_is_loading--;\n",
       "      if (root._bokeh_is_loading === 0) {\n",
       "        console.debug(\"Bokeh: all BokehJS libraries/stylesheets loaded\");\n",
       "        run_callbacks()\n",
       "      }\n",
       "    }\n",
       "\n",
       "    function on_error(url) {\n",
       "      console.error(\"failed to load \" + url);\n",
       "    }\n",
       "\n",
       "    for (let i = 0; i < css_urls.length; i++) {\n",
       "      const url = css_urls[i];\n",
       "      const element = document.createElement(\"link\");\n",
       "      element.onload = on_load;\n",
       "      element.onerror = on_error.bind(null, url);\n",
       "      element.rel = \"stylesheet\";\n",
       "      element.type = \"text/css\";\n",
       "      element.href = url;\n",
       "      console.debug(\"Bokeh: injecting link tag for BokehJS stylesheet: \", url);\n",
       "      document.body.appendChild(element);\n",
       "    }\n",
       "\n",
       "    for (let i = 0; i < js_urls.length; i++) {\n",
       "      const url = js_urls[i];\n",
       "      const element = document.createElement('script');\n",
       "      element.onload = on_load;\n",
       "      element.onerror = on_error.bind(null, url);\n",
       "      element.async = false;\n",
       "      element.src = url;\n",
       "      console.debug(\"Bokeh: injecting script tag for BokehJS library: \", url);\n",
       "      document.head.appendChild(element);\n",
       "    }\n",
       "  };\n",
       "\n",
       "  function inject_raw_css(css) {\n",
       "    const element = document.createElement(\"style\");\n",
       "    element.appendChild(document.createTextNode(css));\n",
       "    document.body.appendChild(element);\n",
       "  }\n",
       "\n",
       "  const js_urls = [\"https://cdn.bokeh.org/bokeh/release/bokeh-2.4.3.min.js\", \"https://cdn.bokeh.org/bokeh/release/bokeh-gl-2.4.3.min.js\", \"https://cdn.bokeh.org/bokeh/release/bokeh-widgets-2.4.3.min.js\", \"https://cdn.bokeh.org/bokeh/release/bokeh-tables-2.4.3.min.js\", \"https://cdn.bokeh.org/bokeh/release/bokeh-mathjax-2.4.3.min.js\"];\n",
       "  const css_urls = [];\n",
       "\n",
       "  const inline_js = [    function(Bokeh) {\n",
       "      Bokeh.set_log_level(\"info\");\n",
       "    },\n",
       "function(Bokeh) {\n",
       "    }\n",
       "  ];\n",
       "\n",
       "  function run_inline_js() {\n",
       "    if (root.Bokeh !== undefined || force === true) {\n",
       "          for (let i = 0; i < inline_js.length; i++) {\n",
       "      inline_js[i].call(root, root.Bokeh);\n",
       "    }\n",
       "if (force === true) {\n",
       "        display_loaded();\n",
       "      }} else if (Date.now() < root._bokeh_timeout) {\n",
       "      setTimeout(run_inline_js, 100);\n",
       "    } else if (!root._bokeh_failed_load) {\n",
       "      console.log(\"Bokeh: BokehJS failed to load within specified timeout.\");\n",
       "      root._bokeh_failed_load = true;\n",
       "    } else if (force !== true) {\n",
       "      const cell = $(document.getElementById(\"1002\")).parents('.cell').data().cell;\n",
       "      cell.output_area.append_execute_result(NB_LOAD_WARNING)\n",
       "    }\n",
       "  }\n",
       "\n",
       "  if (root._bokeh_is_loading === 0) {\n",
       "    console.debug(\"Bokeh: BokehJS loaded, going straight to plotting\");\n",
       "    run_inline_js();\n",
       "  } else {\n",
       "    load_libs(css_urls, js_urls, function() {\n",
       "      console.debug(\"Bokeh: BokehJS plotting callback run at\", now());\n",
       "      run_inline_js();\n",
       "    });\n",
       "  }\n",
       "}(window));"
      ],
      "application/vnd.bokehjs_load.v0+json": "(function(root) {\n  function now() {\n    return new Date();\n  }\n\n  const force = true;\n\n  if (typeof root._bokeh_onload_callbacks === \"undefined\" || force === true) {\n    root._bokeh_onload_callbacks = [];\n    root._bokeh_is_loading = undefined;\n  }\n\n\n  if (typeof (root._bokeh_timeout) === \"undefined\" || force === true) {\n    root._bokeh_timeout = Date.now() + 5000;\n    root._bokeh_failed_load = false;\n  }\n\n  const NB_LOAD_WARNING = {'data': {'text/html':\n     \"<div style='background-color: #fdd'>\\n\"+\n     \"<p>\\n\"+\n     \"BokehJS does not appear to have successfully loaded. If loading BokehJS from CDN, this \\n\"+\n     \"may be due to a slow or bad network connection. Possible fixes:\\n\"+\n     \"</p>\\n\"+\n     \"<ul>\\n\"+\n     \"<li>re-rerun `output_notebook()` to attempt to load from CDN again, or</li>\\n\"+\n     \"<li>use INLINE resources instead, as so:</li>\\n\"+\n     \"</ul>\\n\"+\n     \"<code>\\n\"+\n     \"from bokeh.resources import INLINE\\n\"+\n     \"output_notebook(resources=INLINE)\\n\"+\n     \"</code>\\n\"+\n     \"</div>\"}};\n\n  function display_loaded() {\n    const el = document.getElementById(\"1002\");\n    if (el != null) {\n      el.textContent = \"BokehJS is loading...\";\n    }\n    if (root.Bokeh !== undefined) {\n      if (el != null) {\n        el.textContent = \"BokehJS \" + root.Bokeh.version + \" successfully loaded.\";\n      }\n    } else if (Date.now() < root._bokeh_timeout) {\n      setTimeout(display_loaded, 100)\n    }\n  }\n\n  function run_callbacks() {\n    try {\n      root._bokeh_onload_callbacks.forEach(function(callback) {\n        if (callback != null)\n          callback();\n      });\n    } finally {\n      delete root._bokeh_onload_callbacks\n    }\n    console.debug(\"Bokeh: all callbacks have finished\");\n  }\n\n  function load_libs(css_urls, js_urls, callback) {\n    if (css_urls == null) css_urls = [];\n    if (js_urls == null) js_urls = [];\n\n    root._bokeh_onload_callbacks.push(callback);\n    if (root._bokeh_is_loading > 0) {\n      console.debug(\"Bokeh: BokehJS is being loaded, scheduling callback at\", now());\n      return null;\n    }\n    if (js_urls == null || js_urls.length === 0) {\n      run_callbacks();\n      return null;\n    }\n    console.debug(\"Bokeh: BokehJS not loaded, scheduling load and callback at\", now());\n    root._bokeh_is_loading = css_urls.length + js_urls.length;\n\n    function on_load() {\n      root._bokeh_is_loading--;\n      if (root._bokeh_is_loading === 0) {\n        console.debug(\"Bokeh: all BokehJS libraries/stylesheets loaded\");\n        run_callbacks()\n      }\n    }\n\n    function on_error(url) {\n      console.error(\"failed to load \" + url);\n    }\n\n    for (let i = 0; i < css_urls.length; i++) {\n      const url = css_urls[i];\n      const element = document.createElement(\"link\");\n      element.onload = on_load;\n      element.onerror = on_error.bind(null, url);\n      element.rel = \"stylesheet\";\n      element.type = \"text/css\";\n      element.href = url;\n      console.debug(\"Bokeh: injecting link tag for BokehJS stylesheet: \", url);\n      document.body.appendChild(element);\n    }\n\n    for (let i = 0; i < js_urls.length; i++) {\n      const url = js_urls[i];\n      const element = document.createElement('script');\n      element.onload = on_load;\n      element.onerror = on_error.bind(null, url);\n      element.async = false;\n      element.src = url;\n      console.debug(\"Bokeh: injecting script tag for BokehJS library: \", url);\n      document.head.appendChild(element);\n    }\n  };\n\n  function inject_raw_css(css) {\n    const element = document.createElement(\"style\");\n    element.appendChild(document.createTextNode(css));\n    document.body.appendChild(element);\n  }\n\n  const js_urls = [\"https://cdn.bokeh.org/bokeh/release/bokeh-2.4.3.min.js\", \"https://cdn.bokeh.org/bokeh/release/bokeh-gl-2.4.3.min.js\", \"https://cdn.bokeh.org/bokeh/release/bokeh-widgets-2.4.3.min.js\", \"https://cdn.bokeh.org/bokeh/release/bokeh-tables-2.4.3.min.js\", \"https://cdn.bokeh.org/bokeh/release/bokeh-mathjax-2.4.3.min.js\"];\n  const css_urls = [];\n\n  const inline_js = [    function(Bokeh) {\n      Bokeh.set_log_level(\"info\");\n    },\nfunction(Bokeh) {\n    }\n  ];\n\n  function run_inline_js() {\n    if (root.Bokeh !== undefined || force === true) {\n          for (let i = 0; i < inline_js.length; i++) {\n      inline_js[i].call(root, root.Bokeh);\n    }\nif (force === true) {\n        display_loaded();\n      }} else if (Date.now() < root._bokeh_timeout) {\n      setTimeout(run_inline_js, 100);\n    } else if (!root._bokeh_failed_load) {\n      console.log(\"Bokeh: BokehJS failed to load within specified timeout.\");\n      root._bokeh_failed_load = true;\n    } else if (force !== true) {\n      const cell = $(document.getElementById(\"1002\")).parents('.cell').data().cell;\n      cell.output_area.append_execute_result(NB_LOAD_WARNING)\n    }\n  }\n\n  if (root._bokeh_is_loading === 0) {\n    console.debug(\"Bokeh: BokehJS loaded, going straight to plotting\");\n    run_inline_js();\n  } else {\n    load_libs(css_urls, js_urls, function() {\n      console.debug(\"Bokeh: BokehJS plotting callback run at\", now());\n      run_inline_js();\n    });\n  }\n}(window));"
     },
     "metadata": {},
     "output_type": "display_data"
    }
   ],
   "source": [
    "# import libraries\n",
    "import numpy as np\n",
    "from numpy import *\n",
    "import math\n",
    "from bokeh.io import output_notebook, show\n",
    "from bokeh.plotting import figure, ColumnDataSource\n",
    "from bokeh.models import CustomJS, Slider, Range1d, Span, Toggle, Spinner\n",
    "from bokeh.layouts import column, row, gridplot\n",
    "output_notebook()"
   ]
  },
  {
   "cell_type": "code",
   "execution_count": 2,
   "id": "93c0df80",
   "metadata": {
    "ExecuteTime": {
     "end_time": "2023-03-03T13:20:31.995433Z",
     "start_time": "2023-03-03T13:20:31.991445Z"
    },
    "code_folding": [
     0
    ],
    "execution": {
     "iopub.execute_input": "2024-02-28T17:47:53.312293Z",
     "iopub.status.busy": "2024-02-28T17:47:53.311845Z",
     "iopub.status.idle": "2024-02-28T17:47:53.335776Z",
     "shell.execute_reply": "2024-02-28T17:47:53.321911Z",
     "shell.execute_reply.started": "2024-02-28T17:47:53.312266Z"
    },
    "slideshow": {
     "slide_type": "skip"
    }
   },
   "outputs": [],
   "source": [
    "# style definitions\n",
    "colors = ['#000000', '#E69F00', '#56B4E9', '#009E73', '#F0E442', '#0072B2', '#D55E00', '#CC79A7']\n",
    "SUB = str.maketrans(\"0123456789\", \"₀₁₂₃₄₅₆₇₈₉\")\n",
    "SUP = str.maketrans(\"0123456789\", \"⁰¹²³⁴⁵⁶⁷⁸⁹\")\n",
    "\n",
    "def set_fig_style(fig,xmax,ymax,xlab=\"x\",ylab=\"y(x,t)\",xmin=0,ymin=None):\n",
    "    if ymin is None:\n",
    "        ymin = -ymax\n",
    "    for (ax, lab) in [(fig.xaxis,xlab),(fig.yaxis,ylab)]:\n",
    "        ax.axis_label = lab\n",
    "        ax.axis_label_text_font_size = '14pt'\n",
    "        ax.axis_label_text_font_style = 'normal'\n",
    "        ax.major_label_text_font_size = '12pt'\n",
    "    fig.x_range = Range1d(xmin,xmax)\n",
    "    fig.y_range = Range1d(ymin,ymax)"
   ]
  },
  {
   "cell_type": "code",
   "execution_count": 3,
   "id": "d1535580",
   "metadata": {
    "ExecuteTime": {
     "end_time": "2023-03-03T13:20:32.002477Z",
     "start_time": "2023-03-03T13:20:31.997001Z"
    },
    "code_folding": [
     0
    ],
    "execution": {
     "iopub.execute_input": "2024-02-28T17:47:57.390172Z",
     "iopub.status.busy": "2024-02-28T17:47:57.389713Z",
     "iopub.status.idle": "2024-02-28T17:47:57.402962Z",
     "shell.execute_reply": "2024-02-28T17:47:57.402049Z",
     "shell.execute_reply.started": "2024-02-28T17:47:57.390148Z"
    }
   },
   "outputs": [
    {
     "data": {
      "application/javascript": [
       "requirejs.config({\n",
       "    paths: { 'math': ['https://cdnjs.cloudflare.com/ajax/libs/mathjs/11.6.0/math.min'], },\n",
       "});\n"
      ],
      "text/plain": [
       "<IPython.core.display.Javascript object>"
      ]
     },
     "metadata": {},
     "output_type": "display_data"
    }
   ],
   "source": [
    "%%javascript\n",
    "requirejs.config({\n",
    "    paths: { 'math': ['https://cdnjs.cloudflare.com/ajax/libs/mathjs/11.6.0/math.min'], },\n",
    "});"
   ]
  },
  {
   "cell_type": "code",
   "execution_count": 4,
   "id": "5c4489e4",
   "metadata": {
    "ExecuteTime": {
     "end_time": "2023-03-03T13:20:32.013183Z",
     "start_time": "2023-03-03T13:20:32.005425Z"
    },
    "code_folding": [
     0
    ]
   },
   "outputs": [],
   "source": [
    "def make_string_animation(L,cs,v=1.,dt=None, width=900, ymax=None):\n",
    "    # these are the coefficients of sin(kn x), with kn = nπ/L\n",
    "    cs = np.asarray(cs)\n",
    "    acs = abs(cs)\n",
    "    phis = np.angle(cs.conj())\n",
    "    ns = np.arange(1,len(cs)+1)\n",
    "    ks = ns*np.pi/L\n",
    "    ωs = v*ks\n",
    "\n",
    "    n = len(cs)\n",
    "    # make sure that number of points in FFT is multiple of 2\n",
    "    n_fft = 2**math.ceil(math.log2(2*n+2))\n",
    "    cfft = np.zeros(n_fft)\n",
    "    cfft[1:n+1] = n_fft*abs(cs)*np.cos(phis)\n",
    "\n",
    "    x = np.linspace(0,L,n_fft//2 + 1)\n",
    "\n",
    "    if dt is None:\n",
    "        T = 2*L/v\n",
    "        dt = T/200\n",
    "\n",
    "    if isinstance(dt,(int,float)):\n",
    "        dt = (dt/10,dt*10,dt/10,dt)\n",
    "    else:\n",
    "        assert len(dt) == 4\n",
    "    \n",
    "    y = np.fft.ifft(cfft)[:len(x)]\n",
    "    source = ColumnDataSource(data=dict(x=x,y=y.imag))\n",
    "\n",
    "    if ymax is None:\n",
    "        ymax = 1.03*abs(source.data['y']).max()\n",
    "\n",
    "    fig = figure(width=width,height=500)\n",
    "    fig.line('x', 'y', source=source, line_width=4, color=colors[0])\n",
    "    set_fig_style(fig,x.max(),ymax=ymax)\n",
    "\n",
    "    slider_t = Slider(start=0, end=1000, value=0, step=0.1, title='t', sizing_mode=\"stretch_width\")\n",
    "    spinner_dt = Spinner(low=dt[0], high=dt[1], step=dt[2], value=dt[3], title=\"δt\", width=80, sizing_mode=\"stretch_height\")\n",
    "\n",
    "    # JavaScript callback to do animations directly in the browser (without needing to communicate with server)\n",
    "    cb_sliders = CustomJS(args=dict(source=source, slider_t=slider_t, acs=acs, phis=phis, ωs=ωs, cfft=cfft),\n",
    "                          code=\"\"\"require(['math'], function(math) {\n",
    "                                      const t = slider_t.value;\n",
    "                                      const ys = source.data['y'];\n",
    "                                      const n_fft = cfft.length;\n",
    "                                      acs.forEach((ac,i) => cfft[i+1] = ac*math.cos(ωs[i]*t+phis[i]));\n",
    "                                      const yfft = math.ifft(Array.from(cfft));\n",
    "                                      ys.forEach((_,i) => ys[i] = n_fft*yfft[i].im);\n",
    "                                      source.change.emit();\n",
    "                                  });\"\"\")\n",
    "\n",
    "    slider_t.js_on_change('value', cb_sliders)\n",
    "\n",
    "    # Set up Play/Pause button/toggle JS\n",
    "    cb_toggle = CustomJS(args=dict(s_t=slider_t,s_dt=spinner_dt,fig=fig),\n",
    "                         code=\"\"\"function upfun() { s_t.value += s_dt.value; cb_obj.active || clearInterval(updater) }\n",
    "                                 cb_obj.label = cb_obj.active ? '❚❚ Pause' : '► Play';\n",
    "                                 if (cb_obj.active) var updater = setInterval(upfun, 20);\"\"\")\n",
    "    toggle = Toggle(label='► Play',active=False, sizing_mode=\"stretch_height\", width=80)\n",
    "    toggle.js_on_change('active', cb_toggle)\n",
    "\n",
    "    layout = column(row(toggle, spinner_dt, slider_t, sizing_mode=\"stretch_width\"), fig)\n",
    "    show(layout)"
   ]
  },
  {
   "cell_type": "markdown",
   "id": "581f87ed",
   "metadata": {},
   "source": [
    "# Plot motion of a string with fixed ends, with given normal mode coefficients"
   ]
  },
  {
   "cell_type": "markdown",
   "id": "82ae088b",
   "metadata": {},
   "source": [
    "## Example 1\n",
    "For initial condition $y(x,t=0) = a x (L-x)$, where $a$ is a constant with the correct units, we get $c_n = a \\frac{4-4\\cos(k_n L) - 2k_n L \\sin(k_n L)}{k_n^3 L}$."
   ]
  },
  {
   "cell_type": "code",
   "execution_count": 5,
   "id": "b234f166",
   "metadata": {
    "ExecuteTime": {
     "end_time": "2023-03-03T13:20:32.214450Z",
     "start_time": "2023-03-03T13:20:32.014262Z"
    },
    "code_folding": []
   },
   "outputs": [
    {
     "data": {
      "text/html": [
       "\n",
       "  <div class=\"bk-root\" id=\"97e30c08-1bc6-43bf-98ff-b1f81fe5840c\" data-root-id=\"1049\"></div>\n"
      ]
     },
     "metadata": {},
     "output_type": "display_data"
    },
    {
     "data": {
      "application/javascript": [
       "(function(root) {\n",
       "  function embed_document(root) {\n",
       "  const docs_json = {\"2268fc13-f130-4849-90c6-d48b7dfcf0ba\":{\"defs\":[],\"roots\":{\"references\":[{\"attributes\":{\"children\":[{\"id\":\"1048\"},{\"id\":\"1004\"}]},\"id\":\"1049\",\"type\":\"Column\"},{\"attributes\":{},\"id\":\"1025\",\"type\":\"ResetTool\"},{\"attributes\":{\"end\":0.25750003936026905,\"start\":-0.25750003936026905},\"id\":\"1042\",\"type\":\"Range1d\"},{\"attributes\":{\"source\":{\"id\":\"1003\"}},\"id\":\"1040\",\"type\":\"CDSView\"},{\"attributes\":{},\"id\":\"1026\",\"type\":\"HelpTool\"},{\"attributes\":{},\"id\":\"1011\",\"type\":\"LinearScale\"},{\"attributes\":{\"axis\":{\"id\":\"1017\"},\"coordinates\":null,\"dimension\":1,\"group\":null,\"ticker\":null},\"id\":\"1020\",\"type\":\"Grid\"},{\"attributes\":{\"icon\":null,\"js_property_callbacks\":{\"change:active\":[{\"id\":\"1046\"}]},\"label\":\"\\u25ba Play\",\"sizing_mode\":\"stretch_height\",\"width\":80},\"id\":\"1047\",\"type\":\"Toggle\"},{\"attributes\":{\"line_alpha\":0.1,\"line_color\":\"#000000\",\"line_width\":4,\"x\":{\"field\":\"x\"},\"y\":{\"field\":\"y\"}},\"id\":\"1037\",\"type\":\"Line\"},{\"attributes\":{},\"id\":\"1018\",\"type\":\"BasicTicker\"},{\"attributes\":{\"args\":{\"acs\":[0.2580122754655959,1.2408266323341012e-17,0.009556010202429471,6.204133161670506e-18,0.0020640982037247626,4.136088774447003e-18,0.0007522223774507136,3.102066580835253e-18,0.0003539263037936817,2.4816532646682027e-18,0.00019384844137158912,2.0680443872235016e-18,0.00011743845037123398,1.7726094747630016e-18,7.644808161943099e-05,1.5510332904176265e-18,5.2516237627844685e-05,1.3786962581490015e-18,3.761660234226175e-05,1.2408266323341013e-18,2.7860088053730707e-05,4.1029428482243156e-18,2.120590741066543e-05,1.0340221936117508e-18,1.6512785629798295e-05,1.175489306952413e-18,1.3108381621986406e-05,8.863047373815008e-19,1.0579042825273521e-05,2.427062888571139e-18,8.660745710635755e-06,7.755166452088132e-19,7.1795719026516595e-06,5.156561508013625e-19,6.017779019604441e-06,6.893481290745007e-19,5.093721506437696e-06,1.6502000421658456e-18,4.349572235970434e-06,6.204133161670507e-19,3.7435944844889904e-06,2.253776922635595e-19,3.245151690612388e-06,2.0514714241121578e-18,2.831410430349279e-06,1.2199532712953388e-18,2.485116741624135e-06,5.170110968058754e-19,2.1930681558315886e-06,7.961359519178509e-20,1.945045838067521e-06,5.877446534762065e-19,1.7330566539194394e-06,9.533447816304504e-19,1.5507875309730404e-06,4.431523686907504e-19,1.3932074941568647e-06,1.4914589952632612e-22,1.2562738910281338e-06,1.2135314442855696e-18,1.136713096979692e-06,7.748401780457465e-19,1.031855113101271e-06,3.877583226044066e-19,9.395076029689603e-07,4.546155518077357e-20,8.578590965824796e-07,2.5782807540068126e-19,7.854039781726755e-07,6.483710011390421e-19,7.208838942240506e-07,3.4467406453725036e-19,6.632416461627797e-07,7.24183337364693e-20,6.115846529550279e-07,8.251000210829228e-19,5.651558057478961e-07,5.5482415627132845e-19,5.233100737783657e-07,3.1020665808352534e-19,4.854956156285613e-07,9.450531734040181e-19,4.5123844275200937e-07,1.1268884613177974e-19,4.20129901022557e-07,4.832453255716899e-19,3.918164009352957e-07,1.0257357120560789e-18,3.659909520357912e-07,9.797868122071828e-20,3.4238615268544696e-07,6.099766356476694e-19,3.207683596523841e-07,2.248560199357833e-19,3.009328187380984e-07,2.585055484029377e-19,2.826995818493074e-07,7.029989650474315e-19,2.659100704688468e-07,3.9806797595892546e-20,2.504241726111258e-07,3.81694247431289e-19,2.3611778190248978e-07,2.9387232673810326e-19,2.2288070442993223e-07,1.0597114989629145e-19,2.1061487267404883e-07,4.766723908152252e-19,1.9923281676684602e-07,1.313853941988156e-19,1.886563520902421e-07,2.215761843453752e-19,1.7881544938068e-07,5.500666807219486e-19,1.6964725928550817e-07,7.457294976316306e-23,1.610952679987865e-07,3.137181465542978e-19,1.5310856451220107e-07,6.067657221427848e-19,1.456412031342235e-07,1.0667538044757074e-19,1.3865164757348695e-07,3.8742008902287324e-19,1.3210228503786407e-07,7.512589742118649e-20,1.259590005704353e-07,1.938791613022033e-19,1.20190803355728e-07,4.464929647934529e-19,1.1476949797220406e-07,2.2730777590386784e-20,1.096693945837172e-07,2.653862772871995e-19,1.0486705297552517e-07,1.2891403770034063e-19,1.0034105603766706e-07,1.0422289880952296e-19,9.607180894423834e-08,3.2418550056952106e-19,9.204136080044778e-08,3.9458154389597517e-20,8.82332459587838e-08,1.7233703226862518e-19,8.463234260191431e-08,3.726212998384438e-19,8.12247465123975e-08,3.620916686823465e-20,7.799765820608245e-08,2.2943735632514967e-19],\"cfft\":[0.0,132.1022850383851,6.353032357550598e-15,4.892677223643889,3.176516178775299e-15,1.0568182803070785,2.1176774525168656e-15,0.38513785725476535,1.5882580893876495e-15,0.18121026754236502,1.2706064715101198e-15,0.09925040198225363,1.0588387262584328e-15,0.0601284865900718,9.075760510786568e-16,0.03914141778914867,7.941290446938248e-16,0.02688831366545648,7.058924841722887e-16,0.019259700399238015,6.353032357550599e-16,0.014264365083510122,2.1007067382908496e-15,0.0108574245942607,5.294193631292164e-16,0.008454546242456727,-6.018505251596355e-16,0.00671149139045704,4.537880255393284e-16,0.005416469926540043,1.2426561989484232e-15,0.0044343018038455065,3.970645223469124e-16,0.0036759408141576497,-2.640159492102976e-16,0.0030811028580374736,3.5294624208614437e-16,0.0026079854112961,8.449024215889129e-16,0.002226980984816862,3.1765161787752995e-16,0.001916720376058363,-1.1539337843894245e-16,0.0016615176655935427,1.0503533691454248e-15,0.001449682140338831,6.246160749032135e-16,0.0012723797717115572,2.647096815646082e-16,0.0011228508957857734,-4.0762160738193967e-17,0.0009958634690905707,-3.0092526257981774e-16,0.000887325006806753,4.881125281947906e-16,0.0007940032158581967,2.268940127696642e-16,0.0007133222370083147,-7.636270055747898e-20,0.0006432122322064045,6.213280994742116e-16,0.0005819971056536023,3.967181711594222e-16,0.0005283098179078507,1.985322611734562e-16,0.00048102789272010766,2.3276316252556067e-17,0.00043922385745022956,-1.320079746051488e-16,0.00040212683682440983,3.3196595258318956e-16,0.0003690925538427139,1.7647312104307219e-16,0.0003395797228353432,3.707818687307228e-17,0.00031313134231297427,4.2245121079445646e-16,0.0002893597725429228,2.8406996801092017e-16,0.00026793475777452325,1.5882580893876497e-16,0.00024857375520182337,4.838672247828573e-16,0.0002310340826890288,-5.769668921947123e-17,0.0002151065093235492,2.4742160669270523e-16,0.00020060999727887139,5.251766845727124e-16,0.0001873873674423251,5.016508478500776e-17,0.00017530171017494884,3.1230803745160673e-16,0.00016423340014202066,-1.1512628220712105e-16,0.00015407760319390639,1.323548407823041e-16,0.0001447421859068454,3.599354701042849e-16,0.00013614595608004955,-2.0381080369096983e-17,0.0001282171763768964,1.9542745468481996e-16,0.00012089230433407477,-1.5046263128990887e-16,0.0001141149206681253,5.4257228746901224e-17,0.000107834814809113,2.440562640973953e-16,0.00010200720218462516,-6.726932182979359e-17,9.659205227020395e-05,1.134470063848321e-16,9.155351008290816e-05,2.8163414052963766e-16,8.685939675418019e-05,-3.818135027873949e-20,8.24807772153787e-05,1.6062369103580049e-16,7.839158503024695e-05,3.106640497371058e-16,7.456829600472244e-05,5.461779478915622e-17,7.098964355762532e-05,1.983590855797111e-16,6.76363699393864e-05,-3.846445947964748e-17,6.449100829206287e-05,9.92661305867281e-17,6.153769131813273e-05,2.286043979742479e-16,5.876198296176848e-05,1.1638158126278033e-17,5.615073002686321e-05,1.3587777397104615e-16,5.369193112346889e-05,-6.60039873025744e-17,5.137462069128553e-05,5.336212419047576e-17,4.918876617945003e-05,1.6598297629159478e-16,4.7125176729829264e-05,-2.020257504747393e-17,4.5175421930897305e-05,8.823656052153609e-17,4.333175941218013e-05,1.9078210551728322e-16,4.158707021434752e-05,1.853909343653614e-17,3.9934801001514216e-05,1.1747192643847663e-16,0.0,0.0,0.0,0.0,0.0,0.0,0.0,0.0,0.0,0.0,0.0,0.0,0.0,0.0,0.0,0.0,0.0,0.0,0.0,0.0,0.0,0.0,0.0,0.0,0.0,0.0,0.0,0.0,0.0,0.0,0.0,0.0,0.0,0.0,0.0,0.0,0.0,0.0,0.0,0.0,0.0,0.0,0.0,0.0,0.0,0.0,0.0,0.0,0.0,0.0,0.0,0.0,0.0,0.0,0.0,0.0,0.0,0.0,0.0,0.0,0.0,0.0,0.0,0.0,0.0,0.0,0.0,0.0,0.0,0.0,0.0,0.0,0.0,0.0,0.0,0.0,0.0,0.0,0.0,0.0,0.0,0.0,0.0,0.0,0.0,0.0,0.0,0.0,0.0,0.0,0.0,0.0,0.0,0.0,0.0,0.0,0.0,0.0,0.0,0.0,0.0,0.0,0.0,0.0,0.0,0.0,0.0,0.0,0.0,0.0,0.0,0.0,0.0,0.0,0.0,0.0,0.0,0.0,0.0,0.0,0.0,0.0,0.0,0.0,0.0,0.0,0.0,0.0,0.0,0.0,0.0,0.0,0.0,0.0,0.0,0.0,0.0,0.0,0.0,0.0,0.0,0.0,0.0,0.0,0.0,0.0,0.0,0.0,0.0,0.0,0.0,0.0,0.0,0.0,0.0,0.0,0.0,0.0,0.0,0.0,0.0,0.0,0.0,0.0,0.0,0.0,0.0,0.0,0.0,0.0,0.0,0.0,0.0,0.0,0.0,0.0,0.0,0.0,0.0,0.0,0.0,0.0,0.0,0.0,0.0,0.0,0.0,0.0,0.0,0.0,0.0,0.0,0.0,0.0,0.0,0.0,0.0,0.0,0.0,0.0,0.0,0.0,0.0,0.0,0.0,0.0,0.0,0.0,0.0,0.0,0.0,0.0,0.0,0.0,0.0,0.0,0.0,0.0,0.0,0.0,0.0,0.0,0.0,0.0,0.0,0.0,0.0,0.0,0.0,0.0,0.0,0.0,0.0,0.0,0.0,0.0,0.0,0.0,0.0,0.0,0.0,0.0,0.0,0.0,0.0,0.0,0.0,0.0,0.0,0.0,0.0,0.0,0.0,0.0,0.0,0.0,0.0,0.0,0.0,0.0,0.0,0.0,0.0,0.0,0.0,0.0,0.0,0.0,0.0,0.0,0.0,0.0,0.0,0.0,0.0,0.0,0.0,0.0,0.0,0.0,0.0,0.0,0.0,0.0,0.0,0.0,0.0,0.0,0.0,0.0,0.0,0.0,0.0,0.0,0.0,0.0,0.0,0.0,0.0,0.0,0.0,0.0,0.0,0.0,0.0,0.0,0.0,0.0,0.0,0.0,0.0,0.0,0.0,0.0,0.0,0.0,0.0,0.0,0.0,0.0,0.0,0.0,0.0,0.0,0.0,0.0,0.0,0.0,0.0,0.0,0.0,0.0,0.0,0.0,0.0,0.0,0.0,0.0,0.0,0.0,0.0,0.0,0.0,0.0,0.0,0.0,0.0,0.0,0.0,0.0,0.0,0.0,0.0,0.0,0.0,0.0,0.0,0.0,0.0,0.0,0.0],\"phis\":[0.0,0.0,0.0,0.0,0.0,0.0,0.0,0.0,0.0,0.0,0.0,0.0,0.0,0.0,0.0,0.0,0.0,0.0,0.0,0.0,0.0,0.0,0.0,0.0,0.0,3.141592653589793,0.0,0.0,0.0,0.0,0.0,0.0,0.0,3.141592653589793,0.0,0.0,0.0,0.0,0.0,0.0,0.0,3.141592653589793,0.0,0.0,0.0,0.0,0.0,0.0,0.0,3.141592653589793,0.0,3.141592653589793,0.0,0.0,0.0,0.0,0.0,3.141592653589793,0.0,0.0,0.0,0.0,0.0,0.0,0.0,0.0,0.0,3.141592653589793,0.0,0.0,0.0,0.0,0.0,0.0,0.0,0.0,0.0,0.0,0.0,0.0,0.0,0.0,0.0,3.141592653589793,0.0,0.0,0.0,0.0,0.0,0.0,0.0,0.0,0.0,3.141592653589793,0.0,0.0,0.0,0.0,0.0,3.141592653589793,0.0,0.0,0.0,3.141592653589793,0.0,0.0,0.0,0.0,0.0,3.141592653589793,0.0,0.0,0.0,0.0,0.0,3.141592653589793,0.0,0.0,0.0,0.0,0.0,0.0,0.0,0.0,0.0,3.141592653589793,0.0,0.0,0.0,0.0,0.0,0.0,0.0,0.0,0.0,3.141592653589793,0.0,0.0,0.0,0.0,0.0,3.141592653589793,0.0,0.0,0.0,0.0,0.0,0.0,0.0,0.0],\"slider_t\":{\"id\":\"1043\"},\"source\":{\"id\":\"1003\"},\"\\u03c9s\":[3.141592653589793,6.283185307179586,9.42477796076938,12.566370614359172,15.707963267948966,18.84955592153876,21.991148575128552,25.132741228718345,28.274333882308138,31.41592653589793,34.55751918948772,37.69911184307752,40.840704496667314,43.982297150257104,47.12388980384689,50.26548245743669,53.40707511102649,56.548667764616276,59.690260418206066,62.83185307179586,65.97344572538566,69.11503837897544,72.25663103256524,75.39822368615503,78.53981633974483,81.68140899333463,84.82300164692441,87.96459430051421,91.106186954104,94.24777960769379,97.38937226128358,100.53096491487338,103.67255756846318,106.81415022205297,109.95574287564276,113.09733552923255,116.23892818282235,119.38052083641213,122.52211349000193,125.66370614359172,128.8052987971815,131.94689145077132,135.0884841043611,138.23007675795088,141.3716694115407,144.51326206513048,147.6548547187203,150.79644737231007,153.93804002589985,157.07963267948966,160.22122533307945,163.36281798666926,166.50441064025904,169.64600329384882,172.78759594743863,175.92918860102841,179.0707812546182,182.212373908208,185.3539665617978,188.49555921538757,191.63715186897738,194.77874452256717,197.92033717615698,201.06192982974676,204.20352248333654,207.34511513692635,210.48670779051614,213.62830044410595,216.76989309769573,219.9114857512855,223.05307840487532,226.1946710584651,229.3362637120549,232.4778563656447,235.61944901923448,238.76104167282426,241.90263432641407,245.04422698000386,248.18581963359367,251.32741228718345,254.46900494077323,257.610597594363,260.75219024795285,263.89378290154264,267.0353755551324,270.1769682087222,273.318560862312,276.46015351590177,279.6017461694916,282.7433388230814,285.88493147667117,289.02652413026095,292.16811678385073,295.3097094374406,298.45130209103036,301.59289474462014,304.7344873982099,307.8760800517997,311.01767270538954,314.1592653589793,317.3008580125691,320.4424506661589,323.5840433197487,326.7256359733385,329.8672286269283,333.0088212805181,336.15041393410786,339.29200658769764,342.4335992412874,345.57519189487726,348.71678454846705,351.85837720205683,354.9999698556466,358.1415625092364,361.28315516282623,364.424747816416,367.5663404700058,370.7079331235956,373.84952577718536,376.99111843077515,380.132711084365,383.27430373795477,386.41589639154455,389.55748904513433,392.6990816987241,395.84067435231395,398.98226700590374,402.1238596594935,405.2654523130833,408.4070449666731,411.5486376202629,414.6902302738527,417.8318229274425,420.97341558103227,424.11500823462205,427.2566008882119,430.3981935418017,433.53978619539146,436.68137884898124,439.822971502571,442.9645641561608,446.10615680975064,449.2477494633404,452.3893421169302,455.53093477052,458.6725274241098,461.8141200776996,464.9557127312894,468.0973053848792,471.23889803846896]},\"code\":\"require(['math'], function(math) {\\n                                      const t = slider_t.value;\\n                                      const ys = source.data['y'];\\n                                      const n_fft = cfft.length;\\n                                      acs.forEach((ac,i) => cfft[i+1] = ac*math.cos(\\u03c9s[i]*t+phis[i]));\\n                                      const yfft = math.ifft(Array.from(cfft));\\n                                      ys.forEach((_,i) => ys[i] = n_fft*yfft[i].im);\\n                                      source.change.emit();\\n                                  });\"},\"id\":\"1045\",\"type\":\"CustomJS\"},{\"attributes\":{\"args\":{\"fig\":{\"id\":\"1004\"},\"s_dt\":{\"id\":\"1044\"},\"s_t\":{\"id\":\"1043\"}},\"code\":\"function upfun() { s_t.value += s_dt.value; cb_obj.active || clearInterval(updater) }\\n                                 cb_obj.label = cb_obj.active ? '\\u275a\\u275a Pause' : '\\u25ba Play';\\n                                 if (cb_obj.active) var updater = setInterval(upfun, 20);\"},\"id\":\"1046\",\"type\":\"CustomJS\"},{\"attributes\":{\"axis\":{\"id\":\"1013\"},\"coordinates\":null,\"group\":null,\"ticker\":null},\"id\":\"1016\",\"type\":\"Grid\"},{\"attributes\":{},\"id\":\"1022\",\"type\":\"WheelZoomTool\"},{\"attributes\":{\"overlay\":{\"id\":\"1027\"}},\"id\":\"1023\",\"type\":\"BoxZoomTool\"},{\"attributes\":{\"end\":1000,\"js_property_callbacks\":{\"change:value\":[{\"id\":\"1045\"}]},\"sizing_mode\":\"stretch_width\",\"start\":0,\"step\":0.1,\"title\":\"t\",\"value\":0},\"id\":\"1043\",\"type\":\"Slider\"},{\"attributes\":{},\"id\":\"1054\",\"type\":\"AllLabels\"},{\"attributes\":{},\"id\":\"1053\",\"type\":\"BasicTickFormatter\"},{\"attributes\":{},\"id\":\"1014\",\"type\":\"BasicTicker\"},{\"attributes\":{\"coordinates\":null,\"group\":null},\"id\":\"1050\",\"type\":\"Title\"},{\"attributes\":{\"axis_label\":\"y(x,t)\",\"axis_label_text_font_size\":\"14pt\",\"axis_label_text_font_style\":\"normal\",\"coordinates\":null,\"formatter\":{\"id\":\"1053\"},\"group\":null,\"major_label_policy\":{\"id\":\"1054\"},\"major_label_text_font_size\":\"12pt\",\"ticker\":{\"id\":\"1018\"}},\"id\":\"1017\",\"type\":\"LinearAxis\"},{\"attributes\":{\"high\":0.1,\"low\":0.001,\"sizing_mode\":\"stretch_height\",\"step\":0.001,\"title\":\"\\u03b4t\",\"value\":0.01,\"value_throttled\":0.01,\"width\":80},\"id\":\"1044\",\"type\":\"Spinner\"},{\"attributes\":{\"line_color\":\"#000000\",\"line_width\":4,\"x\":{\"field\":\"x\"},\"y\":{\"field\":\"y\"}},\"id\":\"1036\",\"type\":\"Line\"},{\"attributes\":{},\"id\":\"1021\",\"type\":\"PanTool\"},{\"attributes\":{},\"id\":\"1059\",\"type\":\"Selection\"},{\"attributes\":{\"data\":{\"x\":{\"__ndarray__\":\"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\",\"dtype\":\"float64\",\"order\":\"little\",\"shape\":[257]},\"y\":{\"__ndarray__\":\"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\",\"dtype\":\"float64\",\"order\":\"little\",\"shape\":[257]}},\"selected\":{\"id\":\"1059\"},\"selection_policy\":{\"id\":\"1058\"}},\"id\":\"1003\",\"type\":\"ColumnDataSource\"},{\"attributes\":{\"coordinates\":null,\"data_source\":{\"id\":\"1003\"},\"glyph\":{\"id\":\"1036\"},\"group\":null,\"hover_glyph\":null,\"muted_glyph\":{\"id\":\"1038\"},\"nonselection_glyph\":{\"id\":\"1037\"},\"view\":{\"id\":\"1040\"}},\"id\":\"1039\",\"type\":\"GlyphRenderer\"},{\"attributes\":{\"bottom_units\":\"screen\",\"coordinates\":null,\"fill_alpha\":0.5,\"fill_color\":\"lightgrey\",\"group\":null,\"left_units\":\"screen\",\"level\":\"overlay\",\"line_alpha\":1.0,\"line_color\":\"black\",\"line_dash\":[4,4],\"line_width\":2,\"right_units\":\"screen\",\"syncable\":false,\"top_units\":\"screen\"},\"id\":\"1027\",\"type\":\"BoxAnnotation\"},{\"attributes\":{},\"id\":\"1057\",\"type\":\"AllLabels\"},{\"attributes\":{\"line_alpha\":0.2,\"line_color\":\"#000000\",\"line_width\":4,\"x\":{\"field\":\"x\"},\"y\":{\"field\":\"y\"}},\"id\":\"1038\",\"type\":\"Line\"},{\"attributes\":{\"tools\":[{\"id\":\"1021\"},{\"id\":\"1022\"},{\"id\":\"1023\"},{\"id\":\"1024\"},{\"id\":\"1025\"},{\"id\":\"1026\"}]},\"id\":\"1028\",\"type\":\"Toolbar\"},{\"attributes\":{},\"id\":\"1041\",\"type\":\"Range1d\"},{\"attributes\":{\"axis_label\":\"x\",\"axis_label_text_font_size\":\"14pt\",\"axis_label_text_font_style\":\"normal\",\"coordinates\":null,\"formatter\":{\"id\":\"1056\"},\"group\":null,\"major_label_policy\":{\"id\":\"1057\"},\"major_label_text_font_size\":\"12pt\",\"ticker\":{\"id\":\"1014\"}},\"id\":\"1013\",\"type\":\"LinearAxis\"},{\"attributes\":{},\"id\":\"1024\",\"type\":\"SaveTool\"},{\"attributes\":{},\"id\":\"1009\",\"type\":\"LinearScale\"},{\"attributes\":{},\"id\":\"1056\",\"type\":\"BasicTickFormatter\"},{\"attributes\":{},\"id\":\"1058\",\"type\":\"UnionRenderers\"},{\"attributes\":{\"below\":[{\"id\":\"1013\"}],\"center\":[{\"id\":\"1016\"},{\"id\":\"1020\"}],\"height\":500,\"left\":[{\"id\":\"1017\"}],\"renderers\":[{\"id\":\"1039\"}],\"title\":{\"id\":\"1050\"},\"toolbar\":{\"id\":\"1028\"},\"width\":900,\"x_range\":{\"id\":\"1041\"},\"x_scale\":{\"id\":\"1009\"},\"y_range\":{\"id\":\"1042\"},\"y_scale\":{\"id\":\"1011\"}},\"id\":\"1004\",\"subtype\":\"Figure\",\"type\":\"Plot\"},{\"attributes\":{\"children\":[{\"id\":\"1047\"},{\"id\":\"1044\"},{\"id\":\"1043\"}],\"sizing_mode\":\"stretch_width\"},\"id\":\"1048\",\"type\":\"Row\"}],\"root_ids\":[\"1049\"]},\"title\":\"Bokeh Application\",\"version\":\"2.4.3\"}};\n",
       "  const render_items = [{\"docid\":\"2268fc13-f130-4849-90c6-d48b7dfcf0ba\",\"root_ids\":[\"1049\"],\"roots\":{\"1049\":\"97e30c08-1bc6-43bf-98ff-b1f81fe5840c\"}}];\n",
       "  root.Bokeh.embed.embed_items_notebook(docs_json, render_items);\n",
       "  }\n",
       "  if (root.Bokeh !== undefined) {\n",
       "    embed_document(root);\n",
       "  } else {\n",
       "    let attempts = 0;\n",
       "    const timer = setInterval(function(root) {\n",
       "      if (root.Bokeh !== undefined) {\n",
       "        clearInterval(timer);\n",
       "        embed_document(root);\n",
       "      } else {\n",
       "        attempts++;\n",
       "        if (attempts > 100) {\n",
       "          clearInterval(timer);\n",
       "          console.log(\"Bokeh: ERROR: Unable to run BokehJS code because BokehJS library is missing\");\n",
       "        }\n",
       "      }\n",
       "    }, 10, root)\n",
       "  }\n",
       "})(window);"
      ],
      "application/vnd.bokehjs_exec.v0+json": ""
     },
     "metadata": {
      "application/vnd.bokehjs_exec.v0+json": {
       "id": "1049"
      }
     },
     "output_type": "display_data"
    }
   ],
   "source": [
    "L = 1.\n",
    "nmax = 150\n",
    "n = np.arange(1,nmax+1)\n",
    "kn = n*pi/L\n",
    "\n",
    "# we use a=1\n",
    "cn = (4 - 4*cos(kn*L) - 2*kn*L*sin(kn*L)) / (kn**3 * L)\n",
    "\n",
    "make_string_animation(L,cn)"
   ]
  },
  {
   "cell_type": "markdown",
   "id": "b97a032b",
   "metadata": {},
   "source": [
    "## Example 2: Problem 4.3\n",
    "For the initial condition of problem 3 in problem sheet 4, we get $c_n = \\frac{32 d}{3 n^2 \\pi^2} \\sin(n\\pi/4)$. In the plot, we use $d=1$."
   ]
  },
  {
   "cell_type": "code",
   "execution_count": 6,
   "id": "aa113ab9",
   "metadata": {
    "ExecuteTime": {
     "end_time": "2023-03-03T13:20:32.270777Z",
     "start_time": "2023-03-03T13:20:32.216064Z"
    },
    "code_folding": []
   },
   "outputs": [
    {
     "data": {
      "text/html": [
       "\n",
       "  <div class=\"bk-root\" id=\"22ad7a7a-0ac5-4294-af4f-b40e36b26f5f\" data-root-id=\"1162\"></div>\n"
      ]
     },
     "metadata": {},
     "output_type": "display_data"
    },
    {
     "data": {
      "application/javascript": [
       "(function(root) {\n",
       "  function embed_document(root) {\n",
       "  const docs_json = {\"e3fb6aa1-7db8-485d-8129-46c2b7a98b7c\":{\"defs\":[],\"roots\":{\"references\":[{\"attributes\":{\"children\":[{\"id\":\"1161\"},{\"id\":\"1117\"}]},\"id\":\"1162\",\"type\":\"Column\"},{\"attributes\":{\"end\":2.0},\"id\":\"1154\",\"type\":\"Range1d\"},{\"attributes\":{},\"id\":\"1182\",\"type\":\"UnionRenderers\"},{\"attributes\":{\"source\":{\"id\":\"1116\"}},\"id\":\"1153\",\"type\":\"CDSView\"},{\"attributes\":{\"coordinates\":null,\"group\":null},\"id\":\"1174\",\"type\":\"Title\"},{\"attributes\":{\"line_color\":\"#000000\",\"line_width\":4,\"x\":{\"field\":\"x\"},\"y\":{\"field\":\"y\"}},\"id\":\"1149\",\"type\":\"Line\"},{\"attributes\":{},\"id\":\"1180\",\"type\":\"BasicTickFormatter\"},{\"attributes\":{\"high\":0.2,\"low\":0.002,\"sizing_mode\":\"stretch_height\",\"step\":0.002,\"title\":\"\\u03b4t\",\"value\":0.02,\"value_throttled\":0.02,\"width\":80},\"id\":\"1157\",\"type\":\"Spinner\"},{\"attributes\":{\"end\":1.0288868216395861,\"start\":-1.0288868216395861},\"id\":\"1155\",\"type\":\"Range1d\"},{\"attributes\":{\"data\":{\"x\":{\"__ndarray__\":\"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\",\"dtype\":\"float64\",\"order\":\"little\",\"shape\":[513]},\"y\":{\"__ndarray__\":\"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\",\"dtype\":\"float64\",\"order\":\"little\",\"shape\":[513]}},\"selected\":{\"id\":\"1183\"},\"selection_policy\":{\"id\":\"1182\"}},\"id\":\"1116\",\"type\":\"ColumnDataSource\"},{\"attributes\":{\"children\":[{\"id\":\"1160\"},{\"id\":\"1157\"},{\"id\":\"1156\"}],\"sizing_mode\":\"stretch_width\"},\"id\":\"1161\",\"type\":\"Row\"},{\"attributes\":{\"args\":{\"acs\":[0.7642122243343417,0.27018982304623407,0.08491246937048243,8.272177548894008e-18,0.030568488973373668,0.030021091449581566,0.015596167843557999,4.136088774447004e-18,0.009434718818942488,0.010807592921849364,0.006315803506895394,2.757392516298003e-18,0.004521965824463564,0.005514078021351716,0.003396498774819301,2.068044387223502e-18,0.0026443329561741937,0.0033356768277312846,0.0021169313693472098,1.6544355097788019e-18,0.001732907538173111,0.0022329737441837525,0.0014446355847530113,1.3786962581490015e-18,0.0012227395589349472,0.0015987563493860006,0.0010483020909936118,1.1817396498420012e-18,0.0009086946781621186,0.0012008436579832625,0.0007952260398900552,1.034022193611751e-18,0.0007017559452105985,0.0009349128825129206,0.000623846713742321,9.191308387660008e-19,0.0005582266065261808,0.0007484482632859669,0.0005024406471626189,8.272177548894009e-19,0.0004546176230424383,0.0006126753357057462,0.0004133111002349072,2.735295232149543e-18,0.0003773887527576994,0.000510755809161123,0.00034595392681500265,6.893481290745007e-19,0.0003182891396644475,0.00043230371687397455,0.00029381477290824434,7.836595379682755e-19,0.00027205846362917096,0.0003706307586368094,0.0002526321402758152,5.908698249210006e-19,0.00023521459659413306,0.0003212720844782807,0.00021953812822015048,1.6180419257140922e-18,0.0002053781844488957,0.0002811548626911905,0.00019254528201923435,5.170110968058755e-19,0.00018087863297854156,0.00024810819379819475,0.0001702410836120169,3.437707672009083e-19,0.00016051506497255638,0.00022056312085406862,0.00015159933035793324,4.595654193830004e-19,0.00014340630968931093,0.0001973629094567086,0.0001358599509927723,1.100133361443897e-18,0.00012889394912031382,0.00017763959437622228,0.00012245028430289082,4.1360887744470047e-19,0.00011647801011040053,0.0001607316020501095,0.00011093224333493089,1.50251794842373e-19,0.00010577331824696755,0.00014612754085788755,0.00010096607535134723,1.3676476160747715e-18,9.647926074161636e-05,0.00013342707310925138,9.228501682578728e-05,8.133021808635592e-19,8.835844887667185e-05,0.00012231318381450163,8.46772547738883e-05,3.4467406453725036e-19,8.12214076240129e-05,0.00011253220451738195,7.797288280117737e-05,5.307573012785674e-20,7.491542244234292e-05,0.00010387920916810229,7.20343316367563e-05,3.9182976898413776e-19,6.93163015269245e-05,9.618719225569031e-05,6.674925533534325e-05,6.355631877536335e-19,6.432221398319455e-05,8.931894976735011e-05,6.202517850290903e-05,2.954349124605003e-19,5.984902688811474e-05,8.316091814288522e-05,5.7785423390120215e-05,9.943059968421741e-23,5.582673857362406e-05,7.761844959673487e-05,5.396597869743295e-05,8.090209628570461e-19,5.2196723197482565e-05,7.261215346579792e-05,5.0513069226938014e-05,5.165601186971642e-19,4.8909582357397374e-05,6.807503730063846e-05,4.738125267123459e-05,2.5850554840293775e-19,4.592345558165595e-05,6.395025397544001e-05,4.453191680754852e-05,3.0307703453849043e-20,4.3202681007085715e-05,6.0189312329301415e-05,4.193208363974476e-05,1.7188538360045415e-19,4.0716725682473335e-05,5.6750645462347007e-05,3.95534508738857e-05,4.3224733409269464e-19,3.84393252016666e-05,5.359845725971714e-05,3.737161838399643e-05,2.297827096915002e-19,3.634778712648449e-05,5.070178702312517e-05,3.536545996271648e-05,4.827888915764619e-20,3.442242350949682e-05,4.80337463193305e-05,3.351660998791056e-05,5.500666807219485e-19,3.2646085878693736e-05,4.557089273844393e-05,3.180904159560233e-05,3.6988277084755224e-19,3.10037820736879e-05,4.3292713194397384e-05,3.0228718181019086e-05,2.0680443872235023e-19,2.948235887251016e-05,4.118119540408994e-05,2.8763304013487584e-05,6.30035448936012e-19,2.8070237808423426e-05,3.922047075718305e-05,2.740192277723612e-05,7.51258974211865e-20,2.6757194227595017e-05,3.739651530051683e-05,2.6134955177126173e-05,3.221635503811266e-19,2.5534171684130206e-05,3.5696898275364524e-05,2.4953868549693213e-05,6.838238080373857e-19,2.439312535779458e-05,3.411056975713093e-05,2.3851072823393185e-05,6.531912081381218e-20,2.3326889421395505e-05,3.262768059971429e-05,2.2819798272099776e-05,4.066510904317796e-19,2.2329064261046892e-05,3.1239429187910055e-05,2.1853991373340268e-05,1.4990401329052225e-19,2.1393920224359438e-05,2.9937930531438675e-05,2.0948225770520108e-05,1.7233703226862518e-19,2.0516315185222022e-05,2.87161040542283e-05,2.0097625886504995e-05,4.686659766982875e-19,1.9691623704149212e-05,2.7567577088688307e-05,1.9297801175079894e-05,2.653786506392837e-20,1.8915675956890685e-05,2.648660161221783e-05,1.854478935024745e-05,2.5446283162085924e-19,1.8184704921697377e-05,2.5467982189295324e-05,1.7835007219173272e-05,1.9591488449206888e-19,1.7495300573117503e-05,2.4507013428229846e-05,1.7165207976782686e-05,7.06474332641943e-20,1.684437003977027e-05,2.3599425543386677e-05,1.6532444009396433e-05,3.1778159387681674e-19,1.6229102854898792e-05,2.2741336844224735e-05,1.593403440992341e-05,8.759026279921042e-20,1.5646940569078083e-05,2.192921216185651e-05,1.5367536534704998e-05,1.4771745623025015e-19,1.509555011030784e-05,2.1159826380001103e-05,1.4830721037364457e-05,3.66711120481299e-19,1.4572800372501025e-05,2.0430232366444922e-05,1.4321549902257075e-05,4.9715299842108704e-23,1.4076741592851955e-05,1.973773270846914e-05,1.3838157072600234e-05,2.0914543103619854e-19,1.3605587144765466e-05,1.9079854745161647e-05,1.3378831328834514e-05,4.0451048142852306e-19,1.3157697428321566e-05,1.8454328464328534e-05,1.2942001123377916e-05,7.111692029838049e-20,1.273156558657787e-05,1.785906689445661e-05,1.2526221120397825e-05,2.582800593485821e-19,1.2325804814992153e-05,1.729214867495898e-05,1.2130160224985913e-05,5.008393161412433e-20,1.1939137064074456e-05,1.675180253247158e-05,1.1752590916329805e-05,1.2925277420146887e-19,1.1570382963168767e-05,1.6236393428654172e-05,1.1392379725024282e-05,2.976619765289686e-19,1.121845281681604e-05,1.5744410176926408e-05,1.1048478716395212e-05,1.5153851726924522e-20,1.0882338545166805e-05,1.5274454352774835e-05,1.071991786017967e-05,1.76924184858133e-19,1.0561106456991068e-05,1.4825230345472376e-05,1.0405798182682112e-05,8.594269180022708e-20,1.0253890758420803e-05,1.4395536418894672e-05,1.0105285611032641e-05,6.948193253968198e-20,9.959887713046383e-06,1.3984256666126705e-05,9.817605430741532e-06,2.1612366704634732e-19,9.678350379735918e-06,1.3590353757166845e-05,9.542037287696664e-06,2.6305436259731684e-20,9.408583863765358e-06,1.3212862391619838e-05,9.277910674335567e-06,1.148913548457501e-19,9.14994102482409e-06,1.2850883379131228e-05,9.024600847112748e-06,2.484141998922958e-19,8.901818592346152e-06,1.2503578279709105e-05,8.781525128805988e-06,2.4139444578823096e-20,8.663653644575249e-06,1.2170164544220263e-05,8.548139554751617e-06,1.5295823755009976e-19,8.43492041295714e-06,1.1849911102418055e-05,8.323935826927181e-06,2.7503334036097423e-19,8.215127377955855e-06,1.1542134352011367e-05,8.108438544009423e-06,6.69557937616087e-20,8.003814626306127e-06,1.1246194507647619e-05,7.901202679194306e-06,1.8494138542377612e-19,7.80055144315372e-06,1.096149227336744e-05,7.701811280769351e-06,1.0643852554743686e-20,7.60493411551852e-06,1.0687465806187812e-05,7.509873373240703e-06,1.0340221936117512e-19,7.416583926149127e-06,1.0423587942063734e-05,7.325022039263824e-06,2.1185439591787787e-19,7.2351453191415275e-06,1.0169363658633523e-05,7.146912664799464e-06,3.15017724468006e-19,7.060284220714308e-06,9.92432775192779e-06,6.975221331809222e-06,1.441786404133578e-19,6.891686500323109e-06,9.688042706666933e-06,6.809643344480805e-06,3.756294871059325e-20,6.729056558870124e-06,9.460096741928998e-06,6.64989187645745e-06,6.410495800743668e-20,6.572116032148956e-06,9.240102015876135e-06,6.495696727845807e-06,1.610817751905633e-19,6.420602598902314e-06,9.027692974915101e-06,6.346803181941049e-06,2.5360857405404706e-19,6.274268883952839e-06,8.822524834162745e-06,6.202970952624962e-06,3.4191190401869287e-19,6.132881447843506e-06,8.624272177414986e-06,6.063973214317446e-06,5.853554455368471e-20,5.996219855270133e-06,8.432627665997754e-06,5.929595707159041e-06,3.265956040690609e-20,5.8640758153660185e-06,8.247300846928789e-06,5.799635910831297e-06,1.1988225178138092e-19,5.736252387572529e-06,8.068017051755325e-06,5.673902281064804e-06,2.033255452158898e-19,5.612563247437534e-06,7.894516378268344e-06,5.552213543452501e-06,2.8317145362619574e-19,5.492832007233098e-06,7.726552748040666e-06,5.434398039710961e-06,7.495200664526113e-20,5.376891586757984e-06,7.563893033404275e-06,5.32029312198023e-06,7.304881660736706e-21,5.2645836301370005e-06,7.4063162480807555e-06,5.209744591171597e-06,8.616851613431259e-20,5.155757964812633e-06,7.253612796215578e-06,5.10260617573954e-06,1.6179525267291963e-19,5.050272099274683e-06,7.10558377504889e-06,4.998739047588277e-06,2.3433298834914376e-19,4.947990756394252e-06,6.96204032688897e-06,4.898011372115697e-06,8.783714039642056e-20,4.848785439501092e-06,6.8228030364443845e-06,4.80029788967632e-06,1.3268932531964184e-20,4.7525340286087744e-06,6.6877013699223805e-06,4.705479525976812e-06,5.837792004568514e-20,4.659120404415858e-06,6.556573152617973e-06,4.613443029141938e-06,1.2723141581042962e-19,4.56843409792114e-06,6.42926408200438e-06,4.524080631385922e-06,1.9341296425651676e-19,4.480369963676507e-06,6.305627273594112e-06,4.4372897333972955e-06,9.795744224603444e-20,4.394827874876099e-06,6.185522837074107e-06,4.35297260971604e-06,3.0050358968474597e-20,4.3117124386249335e-06,6.068817480430226e-06,4.271036133518691e-06,3.532371663209715e-20,4.230932729878552e-06,5.95538413996857e-06,4.1913915193651615e-06,9.827057103536724e-20,4.1524020426663005e-06,5.845101634315501e-06,4.113954082581052e-06,1.5889079693840837e-19,4.076037657325711e-06,5.737854340636541e-06,4.038643014053889e-06,2.172800894870189e-19,4.001760622584462e-06,5.633531891458353e-06,3.965381169329525e-06,4.379513139960521e-20,3.929495551412857e-06,5.532028890608998e-06,3.8940948709769915e-06,1.609296305254873e-20,3.8591704296645164e-06,5.4332446469109385e-06,3.8247137232775895e-06,7.385872811512507e-20,3.790716436596797e-06,5.3370829243700556e-06,3.757170438367248e-06,1.2958621451811456e-19,3.7240677764344776e-06,5.24345170770312e-06,3.6914006730314933e-06,1.833555602406495e-19,3.6591615202099814e-06,5.152262982136765e-06,3.6273428754104702e-06,5.508786179531295e-20,3.5959374571657677e-06,5.06343252649377e-06,3.5649381409362423e-06,2.4857649921054352e-23,3.5343379550667965e-06,4.976879718658183e-06,3.504130076869396e-06,5.317174396729771e-20,3.4743078288165164e-06,4.8925273525800645e-06,3.4448646748542177e-06,1.0457271551809927e-19,3.4157942168174213e-06,4.810301466044154e-06,3.387090190955535e-06,1.542456732278575e-19,3.3587464645576455e-06,4.730131178484867e-06,3.3307570326765963e-06,2.0225524071426153e-19,3.3031160149477588e-06,4.651948538183469e-06,3.275817652501229e-06,1.3588577750503948e-20,3.248856304960443e-06,4.575688378232215e-06,3.222226447530526e-06,3.5558460149190246e-20,3.1959226681651213e-06,4.501288180695278e-06,3.1699396648194267e-06,8.311551381890565e-20,3.1442722427755192e-06,4.428687948437674e-06,3.1189153120470992e-06,1.2914002967429106e-19,3.09386388485577e-06,4.3578300841314505e-06,3.0691130731778132e-06,1.7368701337456484e-19],\"cfft\":[0.0,782.5533177183659,276.6743787993437,86.950368635374,8.470709810067464e-15,-31.302132708734636,-30.741597644371524,-15.97047587180339,-4.235354905033732e-15,9.661152070597108,11.066975151973748,6.467382791060883,2.823569936689155e-15,-4.630493004250689,-5.646415893864157,-3.4780147454149644,-2.117677452516866e-15,2.7077969471223744,3.4157330715968355,2.167737722211543,1.6941419620134931e-15,-1.7744973190892657,-2.2865651140441625,-1.4793068387870836,-1.4117849683445775e-15,1.252085308349386,1.6371265017712646,1.0734613411774585,1.2101014014382092e-15,-0.9305033504380095,-1.2296639057748608,-0.8143114648474166,-1.058838726258433e-15,0.7185980878956528,0.9573507916932307,0.6388190348721366,9.411899788963848e-16,-0.5716240450828092,-0.7664110216048301,-0.5144992226945218,-8.470709810067466e-16,0.46552844599545684,0.6273795437626841,0.423230566640545,2.800942317721132e-15,-0.3864460828238842,-0.5230139485809899,-0.3542568210585627,-7.058924841722887e-16,0.32592807901639426,0.44267900607894994,0.3008663274580422,-8.024673668795141e-16,-0.27858786675627106,-0.3795258968440928,-0.25869531164243476,-6.050507007191046e-16,0.24085974691239226,0.32898261450575944,0.2248070432974341,1.6568749319312304e-15,-0.2103072608756692,-0.28790257939577907,-0.19716636878769597,-5.294193631292165e-16,0.18521972017002655,0.2540627904493514,0.1743268696187053,-3.520212656137301e-16,-0.16436742653189773,-0.22585663575456627,-0.15523771428652364,-4.705949894481924e-16,0.1468480611218544,0.2020996192836696,0.13912058981659883,1.1265365621185504e-15,-0.13198740389920136,-0.18190294464125162,-0.1253890911261602,-4.235354905033733e-16,0.11927348235305014,0.16458916049931213,0.11359461717496923,-1.5385783791858995e-16,-0.10831187788489477,-0.14963460183847685,-0.10338926115977956,-1.400471158860566e-15,0.09879476299941516,0.13662932286387341,0.09449985722960617,8.328214332042846e-16,-0.09047905164971197,-0.12524870022604967,-0.08670950888846161,-3.5294624208614437e-16,0.08317072140698921,0.11523297742579912,0.07984423198840562,-5.43495476509253e-17,-0.07671339258095915,-0.10637231018813674,-0.07376315559603845,4.0123368343975707e-16,0.07097989276357068,0.09849568486982688,0.06835123746339149,6.508167042597207e-16,-0.06586594711879122,-0.09146260456176651,-0.06351378278697885,-3.025253503595523e-16,0.0612854035334295,0.08515678017831446,0.0591722735514831,-1.0181693407663863e-19,-0.057166580299391034,-0.0794812923870565,-0.05526116218617134,-8.284374659656152e-16,0.053449444554222146,0.07435484514897707,0.051725382888384526,5.289575615458962e-16,-0.05008341233397491,-0.06970883819585379,-0.04851840273534422,-2.6470968156460825e-16,0.047025618515615694,0.06548506007085057,0.04560068281092968,3.103508833674142e-17,-0.04423954535125577,-0.06163385582520465,-0.04293845364709863,1.7601063280686505e-16,0.041693927098852696,0.058112660953443335,0.040502733694858954,4.426212701109193e-16,-0.0393618690065066,-0.05488482023395035,-0.03826853722521235,-2.352974947240962e-16,0.03722013401752012,0.05191862991168018,0.036214231001821674,4.94375824974297e-17,-0.03524856167372474,-0.04918655623099443,-0.034321008627620414,-5.632682810592752e-16,0.033429591939782385,0.04666459416416659,0.032572458593896784,3.787599573478935e-16,-0.03174787284345641,-0.04433173831106292,-0.030954207417363544,-2.1176774525168664e-16,0.030189935485450403,0.0421695440937881,0.029453623309811286,6.451562997104763e-16,-0.028743923515825588,-0.040161762055355446,-0.028059568923889788,7.692891895929498e-17,0.027399366889057298,0.03829403166772923,0.0267621941013772,3.2989547559027363e-16,-0.02614699180454933,-0.03655362383397327,-0.02555276139488585,-7.00235579430283e-16,0.02497856036638165,0.03492922343130207,0.024423498571154622,6.688677971334368e-17,-0.023886734767508997,-0.033410744934107436,-0.02336747343063017,-4.164107166021423e-16,0.022864961803312017,0.031989175488419896,0.022378487166300434,-1.535017096094948e-16,-0.021907374309744064,-0.030656440864193203,-0.02145098318901259,-1.7647312104307219e-16,0.02100870674966735,0.02940529055152978,0.020579968907781115,4.799139601390464e-16,-0.020164222673048793,-0.028229198938816827,-0.01976094840328181,2.717477382546265e-17,0.01936965217985606,0.02712228005091106,0.018989864294653387,2.6056993957975987e-16,-0.018621137839818114,-0.026079213761838412,-0.01826304739243343,2.0061684171987854e-16,0.017915187786872323,0.025095181750507362,0.01757717296822547,7.234297166253496e-17,-0.017248634920724756,-0.024165811756427957,-0.016929222665621947,-3.2540835212986035e-16,0.016618601323416363,0.02328712892848613,0.016316451235761573,-8.969242910639147e-17,-0.016022467142735957,-0.022455513253741066,-0.015736357411537918,-1.5126267517977615e-16,0.015457843312955228,0.02166766221312113,0.015186658342261204,3.755121873728502e-16,-0.01492254758144105,-0.0209205579432396,-0.014665267099911245,5.090846703831931e-20,0.014414583391080402,0.0202114382934724,0.01417027284234264,2.141649213810673e-16,-0.013932121236239837,-0.019537771259045527,-0.013699923280726542,-4.142187329828076e-16,0.013473482166601283,0.01889723234747242,0.013252609150338986,7.282372638554162e-17,-0.013037123160655738,-0.01828768449992357,-0.012826850427287373,-2.644787807729481e-16,0.012621624130551965,0.017707160243157997,0.012421284070385575,-5.1285945972863316e-17,-0.012225676353612243,-0.017153845793250896,-0.01203465309832172,-1.3235484078230413e-16,0.011848072154284817,0.016626066870941873,0.011665796838424865,3.0480586396566385e-16,-0.011487695684419624,-0.01612227602117264,-0.011313642205588698,-1.551754416837071e-17,0.011143514670250808,0.01564104125724143,0.010977195888823982,1.811703652947282e-16,-0.010814573011958853,-0.015181035873763713,-0.010655537339066483,8.800531640343253e-17,0.010499984136622903,0.014741029292948144,0.010347812465697425,7.114949892063435e-17,-0.010198925018159496,-0.014319878826113746,-0.010053227961079329,-2.2131063505545966e-16,0.00991063078884958,0.01391652224733885,0.009771046182601384,-2.6936766729965244e-17,-0.009634389876495727,-0.013529971089018714,-0.009500580530519621,-1.176487473620481e-16,0.009369539609419868,0.013159304580230378,0.009241191267443454,2.543761406897109e-16,-0.00911546223856246,-0.012803664158422124,-0.008992281731897332,-2.471879124871485e-17,0.008871581332045055,0.01246224849328155,0.008753294904065656,1.5662923525130215e-16,-0.008637358502868111,-0.012134308968876089,-0.008523710286773433,-2.816341405296376e-16,0.008412290435026795,0.01181914557645964,0.00830304106906565,6.856273281188731e-17,-0.008195906177337474,-0.011516103175831162,-0.00809083154349497,-1.8937997867394675e-16,0.00798776467778941,0.01122456808792826,0.007886654751507816,-1.0899305016057534e-17,-0.007787452534290964,-0.01094396498553632,-0.00769011033419848,-1.0588387262584332e-16,0.007594581940376706,0.010673754052673264,0.007500822568206156,2.1693890141990694e-16,-0.007408788806800924,-0.010413428386440727,-0.007318438568754651,-3.2257814985523815e-16,0.007229731042011451,0.010162511617974056,0.007142626643772644,-1.476389277832784e-16,-0.007057086976330864,-0.009920555731626939,-0.0069730747847483445,3.846445947964749e-17,0.006890553916283007,0.009687139063735294,0.0068094892814924285,6.564347699961516e-17,-0.006729846816920531,-0.009461864464257163,-0.006651593449314107,-1.6494773779513681e-16,0.0065746970612759695,0.009244357606313064,0.006499126458307634,2.596951798313442e-16,-0.0064248513371677075,-0.009034265430182651,-0.006351842255487961,-3.501177897151415e-16,0.00628007060259175,0.008831254709672946,0.006209508571461065,-5.994039762297314e-17,-0.006140129131796616,-0.0086350107299817,-0.006071906004130858,-3.344338985667184e-17,0.006004813634934803,0.00844523606725508,0.005938827172691248,1.2275942582413406e-16,-0.0058739224448742695,-0.008261649460997453,-0.005810075935810359,-2.0820535830107115e-16,0.0057472647653760344,0.008083984771346784,0.005685466668495361,2.8996756851322443e-16,-0.005624659975406693,-0.007911990013993642,-0.005564823592664024,7.67508548047474e-17,0.005505936984840176,0.007745426466205977,0.005447980156907756,7.480198820594387e-18,-0.0053909336372602885,-0.007584067838034694,-0.005334778461359715,-8.823656052153609e-17,0.005279496155968136,0.007427699503324752,0.005225068723957289,1.656783387370697e-16,-0.005171478629657275,-0.007276117785650064,-0.005118708784730396,-2.399569800695232e-16,0.005066742534547714,0.007129129294734305,0.0050155636450464735,-8.994523176593465e-17,-0.0049651562900491185,-0.00698655030931905,-0.004915505039028552,1.3587386912731325e-17,0.004866594845295385,0.006848206202800518,0.004818411034600256,5.977899012678159e-17,-0.004770939294121839,-0.006713930908280805,-0.0047241656618413445,-1.3028496978987993e-16,0.004678076516271248,0.0065835664199724855,0.004632658566539184,1.9805487539867316e-16,-0.0045878988428047435,-0.0064569623281603705,-0.004543784686998831,1.0030842085993927e-16,0.004500303743873125,0.0063339753851638855,0.004457443952349225,-3.077156758371799e-17,-0.004415193537151932,-0.006214469099960551,-0.004373541000723139,-3.617148583126748e-17,0.004332475115395637,0.006098313359327816,0.004291984915829925,1.0062906474021605e-16,-0.004252059691690292,-0.005985384073539073,-0.004212688980562997,-1.6270417606493017e-16,0.0041738625611015285,0.005875562844811818,0.004135570446391183,2.2249481163470736e-16,-0.004097802877526489,-0.005768736656853354,-0.004060550317393434,4.4846214553195736e-17,0.004023803444646766,0.005664797583983614,0.003987553147880439,1.64791941658099e-17,-0.003951790519976465,-0.005563642518436801,-0.003916506852636252,-7.563133758988808e-17,0.00388169363107512,0.005465172914554937,0.003847342528888062,1.326962836665493e-16,-0.003813445403068905,-0.0053692945486879945,-0.003779994289184249,-1.877560936864251e-16,0.003746981396695021,0.005275917293708047,0.0037143991044203215,-5.640997047840046e-17,-0.003682239956137746,-0.005184954907129621,-0.003650496656318712,2.5454233519159656e-20,0.0036191620659883996,0.005096324831905979,0.0035882291987142617,5.4447865822512853e-17,-0.003557691216708113,-0.005009948009041986,-0.003527541427050719,-1.0708246069053365e-16,0.0034977732780210394,0.004925748701229213,0.0034683803555384677,1.579475693853261e-16,-0.003439356379707029,-0.004843654326768504,-0.0034106952014608346,-2.071093664914038e-16,0.003382390799306505,0.004763595303099872,0.0033544372761612584,-1.3914703616516043e-17,-0.0033268288562794935,-0.004685504899309788,-0.0032995598822712587,-3.641186319277081e-17,0.003272624812201084,0.004609319097031965,0.003246018216775093,8.511028615055939e-17,-0.0032197347766021317,-0.004534976459200178,-0.0031937692795362296,-1.3223939038647404e-16,0.0031681166180923086,0.004462418006150605,0.0031427717869340808,1.778555016955544e-16,0.0,0.0,0.0,0.0,0.0,0.0,0.0,0.0,0.0,0.0,0.0,0.0,0.0,0.0,0.0,0.0,0.0,0.0,0.0,0.0,0.0,0.0,0.0,0.0,0.0,0.0,0.0,0.0,0.0,0.0,0.0,0.0,0.0,0.0,0.0,0.0,0.0,0.0,0.0,0.0,0.0,0.0,0.0,0.0,0.0,0.0,0.0,0.0,0.0,0.0,0.0,0.0,0.0,0.0,0.0,0.0,0.0,0.0,0.0,0.0,0.0,0.0,0.0,0.0,0.0,0.0,0.0,0.0,0.0,0.0,0.0,0.0,0.0,0.0,0.0,0.0,0.0,0.0,0.0,0.0,0.0,0.0,0.0,0.0,0.0,0.0,0.0,0.0,0.0,0.0,0.0,0.0,0.0,0.0,0.0,0.0,0.0,0.0,0.0,0.0,0.0,0.0,0.0,0.0,0.0,0.0,0.0,0.0,0.0,0.0,0.0,0.0,0.0,0.0,0.0,0.0,0.0,0.0,0.0,0.0,0.0,0.0,0.0,0.0,0.0,0.0,0.0,0.0,0.0,0.0,0.0,0.0,0.0,0.0,0.0,0.0,0.0,0.0,0.0,0.0,0.0,0.0,0.0,0.0,0.0,0.0,0.0,0.0,0.0,0.0,0.0,0.0,0.0,0.0,0.0,0.0,0.0,0.0,0.0,0.0,0.0,0.0,0.0,0.0,0.0,0.0,0.0,0.0,0.0,0.0,0.0,0.0,0.0,0.0,0.0,0.0,0.0,0.0,0.0,0.0,0.0,0.0,0.0,0.0,0.0,0.0,0.0,0.0,0.0,0.0,0.0,0.0,0.0,0.0,0.0,0.0,0.0,0.0,0.0,0.0,0.0,0.0,0.0,0.0,0.0,0.0,0.0,0.0,0.0,0.0,0.0,0.0,0.0,0.0,0.0,0.0,0.0,0.0,0.0,0.0,0.0,0.0,0.0,0.0,0.0,0.0,0.0,0.0,0.0,0.0,0.0,0.0,0.0,0.0,0.0,0.0,0.0,0.0,0.0,0.0,0.0,0.0,0.0,0.0,0.0,0.0,0.0,0.0,0.0,0.0,0.0,0.0,0.0,0.0,0.0,0.0,0.0,0.0,0.0,0.0,0.0,0.0,0.0,0.0,0.0,0.0,0.0,0.0,0.0,0.0,0.0,0.0,0.0,0.0,0.0,0.0,0.0,0.0,0.0,0.0,0.0,0.0,0.0,0.0,0.0,0.0,0.0,0.0,0.0,0.0,0.0,0.0,0.0,0.0,0.0,0.0,0.0,0.0,0.0,0.0,0.0,0.0,0.0,0.0,0.0,0.0,0.0,0.0,0.0,0.0,0.0,0.0,0.0,0.0,0.0,0.0,0.0,0.0,0.0,0.0,0.0,0.0,0.0,0.0,0.0,0.0,0.0,0.0,0.0,0.0,0.0,0.0,0.0,0.0,0.0,0.0,0.0,0.0,0.0,0.0,0.0,0.0,0.0,0.0,0.0,0.0,0.0,0.0,0.0,0.0,0.0,0.0,0.0,0.0,0.0,0.0,0.0,0.0,0.0,0.0,0.0,0.0,0.0,0.0,0.0,0.0,0.0,0.0,0.0,0.0,0.0,0.0,0.0,0.0,0.0,0.0,0.0,0.0,0.0,0.0,0.0,0.0,0.0,0.0,0.0,0.0,0.0,0.0,0.0,0.0,0.0,0.0,0.0,0.0,0.0,0.0,0.0,0.0,0.0,0.0,0.0,0.0,0.0,0.0,0.0,0.0,0.0,0.0,0.0,0.0,0.0,0.0,0.0,0.0,0.0,0.0,0.0,0.0,0.0,0.0,0.0,0.0,0.0,0.0,0.0,0.0,0.0,0.0,0.0,0.0,0.0,0.0,0.0,0.0,0.0,0.0,0.0,0.0,0.0,0.0,0.0,0.0,0.0,0.0,0.0,0.0,0.0,0.0,0.0,0.0,0.0,0.0,0.0,0.0,0.0,0.0,0.0,0.0,0.0,0.0,0.0,0.0,0.0,0.0,0.0,0.0,0.0,0.0,0.0,0.0,0.0,0.0,0.0,0.0,0.0,0.0,0.0,0.0,0.0,0.0,0.0,0.0,0.0,0.0,0.0,0.0,0.0,0.0,0.0,0.0,0.0,0.0,0.0,0.0,0.0,0.0,0.0,0.0,0.0,0.0,0.0,0.0,0.0,0.0,0.0,0.0,0.0,0.0,0.0,0.0,0.0,0.0,0.0,0.0,0.0,0.0,0.0,0.0,0.0,0.0,0.0,0.0,0.0],\"phis\":[0.0,0.0,0.0,0.0,3.141592653589793,3.141592653589793,3.141592653589793,3.141592653589793,0.0,0.0,0.0,0.0,3.141592653589793,3.141592653589793,3.141592653589793,3.141592653589793,0.0,0.0,0.0,0.0,3.141592653589793,3.141592653589793,3.141592653589793,3.141592653589793,0.0,0.0,0.0,0.0,3.141592653589793,3.141592653589793,3.141592653589793,3.141592653589793,0.0,0.0,0.0,0.0,3.141592653589793,3.141592653589793,3.141592653589793,3.141592653589793,0.0,0.0,0.0,0.0,3.141592653589793,3.141592653589793,3.141592653589793,3.141592653589793,0.0,0.0,0.0,3.141592653589793,3.141592653589793,3.141592653589793,3.141592653589793,3.141592653589793,0.0,0.0,0.0,0.0,3.141592653589793,3.141592653589793,3.141592653589793,3.141592653589793,0.0,0.0,0.0,3.141592653589793,3.141592653589793,3.141592653589793,3.141592653589793,3.141592653589793,0.0,0.0,0.0,0.0,3.141592653589793,3.141592653589793,3.141592653589793,3.141592653589793,0.0,0.0,0.0,3.141592653589793,3.141592653589793,3.141592653589793,3.141592653589793,3.141592653589793,0.0,0.0,0.0,0.0,3.141592653589793,3.141592653589793,3.141592653589793,3.141592653589793,0.0,0.0,0.0,3.141592653589793,3.141592653589793,3.141592653589793,3.141592653589793,0.0,0.0,0.0,0.0,0.0,3.141592653589793,3.141592653589793,3.141592653589793,3.141592653589793,0.0,0.0,0.0,3.141592653589793,3.141592653589793,3.141592653589793,3.141592653589793,3.141592653589793,0.0,0.0,0.0,0.0,3.141592653589793,3.141592653589793,3.141592653589793,3.141592653589793,0.0,0.0,0.0,0.0,3.141592653589793,3.141592653589793,3.141592653589793,0.0,0.0,0.0,0.0,0.0,3.141592653589793,3.141592653589793,3.141592653589793,3.141592653589793,0.0,0.0,0.0,0.0,3.141592653589793,3.141592653589793,3.141592653589793,3.141592653589793,0.0,0.0,0.0,0.0,3.141592653589793,3.141592653589793,3.141592653589793,3.141592653589793,0.0,0.0,0.0,0.0,3.141592653589793,3.141592653589793,3.141592653589793,0.0,0.0,0.0,0.0,0.0,3.141592653589793,3.141592653589793,3.141592653589793,3.141592653589793,0.0,0.0,0.0,0.0,3.141592653589793,3.141592653589793,3.141592653589793,3.141592653589793,0.0,0.0,0.0,3.141592653589793,3.141592653589793,3.141592653589793,3.141592653589793,3.141592653589793,0.0,0.0,0.0,0.0,3.141592653589793,3.141592653589793,3.141592653589793,0.0,0.0,0.0,0.0,0.0,3.141592653589793,3.141592653589793,3.141592653589793,0.0,0.0,0.0,0.0,0.0,3.141592653589793,3.141592653589793,3.141592653589793,3.141592653589793,0.0,0.0,0.0,3.141592653589793,3.141592653589793,3.141592653589793,3.141592653589793,3.141592653589793,0.0,0.0,0.0,0.0,3.141592653589793,3.141592653589793,3.141592653589793,0.0,0.0,0.0,0.0,0.0,3.141592653589793,3.141592653589793,3.141592653589793,3.141592653589793,0.0,0.0,0.0,0.0,3.141592653589793,3.141592653589793,3.141592653589793,3.141592653589793,0.0,0.0,0.0,3.141592653589793,3.141592653589793,3.141592653589793,3.141592653589793,3.141592653589793,0.0,0.0,0.0,0.0,3.141592653589793,3.141592653589793,3.141592653589793,3.141592653589793,0.0,0.0,0.0,0.0,3.141592653589793,3.141592653589793,3.141592653589793,0.0,0.0,0.0,0.0,0.0,3.141592653589793,3.141592653589793,3.141592653589793,3.141592653589793,0.0,0.0,0.0,3.141592653589793,3.141592653589793,3.141592653589793,3.141592653589793,3.141592653589793,0.0,0.0,0.0,0.0,3.141592653589793,3.141592653589793,3.141592653589793,3.141592653589793,0.0,0.0,0.0,0.0,3.141592653589793,3.141592653589793,3.141592653589793,3.141592653589793,0.0,0.0,0.0,0.0,3.141592653589793,3.141592653589793,3.141592653589793,3.141592653589793,0.0,0.0,0.0,3.141592653589793,3.141592653589793,3.141592653589793,3.141592653589793,3.141592653589793,0.0,0.0,0.0,0.0,3.141592653589793,3.141592653589793,3.141592653589793,3.141592653589793,0.0,0.0,0.0,3.141592653589793,3.141592653589793,3.141592653589793,3.141592653589793,0.0,0.0,0.0,0.0,0.0,3.141592653589793,3.141592653589793,3.141592653589793,3.141592653589793,0.0,0.0,0.0,0.0,3.141592653589793,3.141592653589793,3.141592653589793,3.141592653589793,0.0,0.0,0.0,3.141592653589793,3.141592653589793,3.141592653589793,3.141592653589793,3.141592653589793,0.0,0.0,0.0,0.0,3.141592653589793,3.141592653589793,3.141592653589793,3.141592653589793,0.0,0.0,0.0,0.0,3.141592653589793,3.141592653589793,3.141592653589793,0.0,0.0,0.0,0.0,0.0,3.141592653589793,3.141592653589793,3.141592653589793,3.141592653589793,0.0,0.0,0.0,0.0,3.141592653589793,3.141592653589793,3.141592653589793,3.141592653589793,0.0,0.0,0.0,3.141592653589793,3.141592653589793,3.141592653589793,3.141592653589793,0.0,0.0,0.0,0.0,0.0,3.141592653589793,3.141592653589793,3.141592653589793,3.141592653589793,0.0,0.0,0.0,0.0,3.141592653589793,3.141592653589793,3.141592653589793,0.0,0.0,0.0,0.0,3.141592653589793,3.141592653589793,3.141592653589793,3.141592653589793,3.141592653589793,0.0,0.0,0.0,0.0,3.141592653589793,3.141592653589793,3.141592653589793,3.141592653589793,0.0,0.0,0.0,0.0,3.141592653589793,3.141592653589793,3.141592653589793,0.0,0.0,0.0,0.0,0.0,3.141592653589793,3.141592653589793,3.141592653589793,3.141592653589793,0.0,0.0,0.0,0.0,3.141592653589793,3.141592653589793,3.141592653589793,3.141592653589793,0.0,0.0,0.0,3.141592653589793,3.141592653589793,3.141592653589793,3.141592653589793,0.0,0.0,0.0,0.0,0.0,3.141592653589793,3.141592653589793,3.141592653589793,3.141592653589793,0.0,0.0,0.0,0.0,3.141592653589793,3.141592653589793,3.141592653589793,3.141592653589793,0.0,0.0,0.0,3.141592653589793,3.141592653589793,3.141592653589793,3.141592653589793,3.141592653589793,0.0,0.0,0.0,0.0,3.141592653589793,3.141592653589793,3.141592653589793,3.141592653589793,0.0,0.0,0.0,0.0],\"slider_t\":{\"id\":\"1156\"},\"source\":{\"id\":\"1116\"},\"\\u03c9s\":[1.5707963267948966,3.141592653589793,4.71238898038469,6.283185307179586,7.853981633974483,9.42477796076938,10.995574287564276,12.566370614359172,14.137166941154069,15.707963267948966,17.27875959474386,18.84955592153876,20.420352248333657,21.991148575128552,23.561944901923447,25.132741228718345,26.703537555513243,28.274333882308138,29.845130209103033,31.41592653589793,32.98672286269283,34.55751918948772,36.12831551628262,37.69911184307752,39.269908169872416,40.840704496667314,42.411500823462205,43.982297150257104,45.553093477052,47.12388980384689,48.69468613064179,50.26548245743669,51.83627878423159,53.40707511102649,54.97787143782138,56.548667764616276,58.119464091411174,59.690260418206066,61.261056745000964,62.83185307179586,64.40264939859075,65.97344572538566,67.54424205218055,69.11503837897544,70.68583470577035,72.25663103256524,73.82742735936014,75.39822368615503,76.96902001294993,78.53981633974483,80.11061266653972,81.68140899333463,83.25220532012952,84.82300164692441,86.39379797371932,87.96459430051421,89.5353906273091,91.106186954104,92.6769832808989,94.24777960769379,95.81857593448869,97.38937226128358,98.96016858807849,100.53096491487338,102.10176124166827,103.67255756846318,105.24335389525807,106.81415022205297,108.38494654884786,109.95574287564276,111.52653920243766,113.09733552923255,114.66813185602744,116.23892818282235,117.80972450961724,119.38052083641213,120.95131716320704,122.52211349000193,124.09290981679683,125.66370614359172,127.23450247038662,128.8052987971815,130.37609512397643,131.94689145077132,133.5176877775662,135.0884841043611,136.659280431156,138.23007675795088,139.8008730847458,141.3716694115407,142.94246573833559,144.51326206513048,146.08405839192537,147.6548547187203,149.22565104551518,150.79644737231007,152.36724369910496,153.93804002589985,155.50883635269477,157.07963267948966,158.65042900628455,160.22122533307945,161.79202165987434,163.36281798666926,164.93361431346415,166.50441064025904,168.07520696705393,169.64600329384882,171.2167996206437,172.78759594743863,174.35839227423352,175.92918860102841,177.4999849278233,179.0707812546182,180.64157758141312,182.212373908208,183.7831702350029,185.3539665617978,186.92476288859268,188.49555921538757,190.0663555421825,191.63715186897738,193.20794819577227,194.77874452256717,196.34954084936206,197.92033717615698,199.49113350295187,201.06192982974676,202.63272615654165,204.20352248333654,205.77431881013146,207.34511513692635,208.91591146372124,210.48670779051614,212.05750411731103,213.62830044410595,215.19909677090084,216.76989309769573,218.34068942449062,219.9114857512855,221.4822820780804,223.05307840487532,224.6238747316702,226.1946710584651,227.76546738526,229.3362637120549,230.9070600388498,232.4778563656447,234.0486526924396,235.61944901923448,237.19024534602937,238.76104167282426,240.33183799961918,241.90263432641407,243.47343065320896,245.04422698000386,246.61502330679875,248.18581963359367,249.75661596038856,251.32741228718345,252.89820861397834,254.46900494077323,256.0398012675681,257.610597594363,259.1813939211579,260.75219024795285,262.32298657474774,263.89378290154264,265.4645792283375,267.0353755551324,268.6061718819273,270.1769682087222,271.7477645355171,273.318560862312,274.8893571891069,276.46015351590177,278.0309498426967,279.6017461694916,281.1725424962865,282.7433388230814,284.3141351498763,285.88493147667117,287.45572780346606,289.02652413026095,290.59732045705584,292.16811678385073,293.7389131106457,295.3097094374406,296.88050576423547,298.45130209103036,300.02209841782525,301.59289474462014,303.16369107141503,304.7344873982099,306.3052837250048,307.8760800517997,309.4468763785946,311.01767270538954,312.58846903218443,314.1592653589793,315.7300616857742,317.3008580125691,318.871654339364,320.4424506661589,322.0132469929538,323.5840433197487,325.15483964654356,326.7256359733385,328.2964323001334,329.8672286269283,331.4380249537232,333.0088212805181,334.57961760731297,336.15041393410786,337.72121026090275,339.29200658769764,340.86280291449253,342.4335992412874,344.0043955680824,345.57519189487726,347.14598822167216,348.71678454846705,350.28758087526194,351.85837720205683,353.4291735288517,354.9999698556466,356.5707661824415,358.1415625092364,359.7123588360313,361.28315516282623,362.8539514896211,364.424747816416,365.9955441432109,367.5663404700058,369.1371367968007,370.7079331235956,372.2787294503905,373.84952577718536,375.42032210398025,376.99111843077515,378.5619147575701,380.132711084365,381.7035074111599,383.27430373795477,384.84510006474966,386.41589639154455,387.98669271833944,389.55748904513433,391.1282853719292,392.6990816987241,394.26987802551906,395.84067435231395,397.41147067910885,398.98226700590374,400.5530633326986,402.1238596594935,403.6946559862884,405.2654523130833,406.8362486398782,408.4070449666731,409.977841293468,411.5486376202629,413.1194339470578,414.6902302738527,416.2610266006476,417.8318229274425,419.4026192542374,420.97341558103227,422.54421190782716,424.11500823462205,425.68580456141694,427.2566008882119,428.8273972150068,430.3981935418017,431.96898986859657,433.53978619539146,435.11058252218635,436.68137884898124,438.25217517577613,439.822971502571,441.3937678293659,442.9645641561608,444.53536048295575,446.10615680975064,447.67695313654554,449.2477494633404,450.8185457901353,452.3893421169302,453.9601384437251,455.53093477052,457.1017310973149,458.6725274241098,460.24332375090466,461.8141200776996,463.3849164044945,464.9557127312894,466.5265090580843,468.0973053848792,469.66810171167407,471.23889803846896,472.80969436526385,474.38049069205874,475.95128701885363,477.5220833456485,479.0928796724435,480.66367599923836,482.23447232603326,483.80526865282815,485.37606497962304,486.94686130641793,488.5176576332128,490.0884539600077,491.6592502868026,493.2300466135975,494.80084294039244,496.37163926718733,497.9424355939822,499.5132319207771,501.084028247572,502.6548245743669,504.2256209011618,505.7964172279567,507.3672135547516,508.93800988154646,510.50880620834135,512.0796025351362,513.6503988619312,515.221195188726,516.791991515521,518.3627878423158,519.9335841691108,521.5043804959057,523.0751768227005,524.6459731494955,526.2167694762903,527.7875658030853,529.3583621298801,530.929158456675,532.4999547834699,534.0707511102648,535.6415474370597,537.2123437638546,538.7831400906496,540.3539364174444,541.9247327442393,543.4955290710342,545.0663253978291,546.637121724624,548.2079180514189,549.7787143782137,551.3495107050087,552.9203070318035,554.4911033585985,556.0618996853934,557.6326960121883,559.2034923389832,560.774288665778,562.345084992573,563.9158813193678,565.4866776461628,567.0574739729576,568.6282702997526,570.1990666265475,571.7698629533423,573.3406592801373,574.9114556069321,576.4822519337271,578.0530482605219,579.6238445873169,581.1946409141117,582.7654372409066,584.3362335677015,585.9070298944964,587.4778262212914,589.0486225480862,590.6194188748811,592.190215201676,593.7610115284709,595.3318078552658,596.9026041820607,598.4734005088555,600.0441968356505,601.6149931624453,603.1857894892403,604.7565858160352,606.3273821428301,607.898178469625,609.4689747964198,611.0397711232148,612.6105674500096,614.1813637768046,615.7521601035994,617.3229564303944,618.8937527571892,620.4645490839841,622.0353454107791,623.6061417375739,625.1769380643689,626.7477343911637,628.3185307179587,629.8893270447535,631.4601233715484,633.0309196983433,634.6017160251382,636.172512351933,637.743308678728,639.314105005523,640.8849013323178,642.4556976591127,644.0264939859076,645.5972903127025,647.1680866394973,648.7388829662923,650.3096792930871,651.8804756198821,653.451271946677,655.0220682734719,656.5928646002668,658.1636609270616,659.7344572538566,661.3052535806514,662.8760499074464,664.4468462342412,666.0176425610362,667.588438887831,669.1592352146259,670.7300315414209,672.3008278682157,673.8716241950107,675.4424205218055,677.0132168486005,678.5840131753953,680.1548095021902,681.7256058289851,683.29640215578,684.8671984825748,686.4379948093698,688.0087911361647,689.5795874629596,691.1503837897545,692.7211801165494,694.2919764433443,695.8627727701391,697.4335690969341,699.0043654237289,700.5751617505239,702.1459580773187,703.7167544041137,705.2875507309086,706.8583470577034,708.4291433844984,709.9999397112932,711.5707360380882,713.141532364883,714.712328691678,716.2831250184728,717.8539213452677,719.4247176720626,720.9955139988575,722.5663103256525,724.1371066524473,725.7079029792422,727.2786993060371,728.849495632832,730.4202919596269,731.9910882864218,733.5618846132166,735.1326809400116,736.7034772668064,738.2742735936014,739.8450699203963,741.4158662471912,742.9866625739861,744.557458900781,746.1282552275759,747.6990515543707,749.2698478811657,750.8406442079605,752.4114405347555,753.9822368615503,755.5530331883452,757.1238295151402,758.694625841935,760.26542216873,761.8362184955248,763.4070148223198,764.9778111491146,766.5486074759095,768.1194038027044,769.6902001294993,771.2609964562943,772.8317927830891,774.402589109884,775.9733854366789,777.5441817634738,779.1149780902687,780.6857744170636,782.2565707438584,783.8273670706534,785.3981633974482]},\"code\":\"require(['math'], function(math) {\\n                                      const t = slider_t.value;\\n                                      const ys = source.data['y'];\\n                                      const n_fft = cfft.length;\\n                                      acs.forEach((ac,i) => cfft[i+1] = ac*math.cos(\\u03c9s[i]*t+phis[i]));\\n                                      const yfft = math.ifft(Array.from(cfft));\\n                                      ys.forEach((_,i) => ys[i] = n_fft*yfft[i].im);\\n                                      source.change.emit();\\n                                  });\"},\"id\":\"1158\",\"type\":\"CustomJS\"},{\"attributes\":{\"args\":{\"fig\":{\"id\":\"1117\"},\"s_dt\":{\"id\":\"1157\"},\"s_t\":{\"id\":\"1156\"}},\"code\":\"function upfun() { s_t.value += s_dt.value; cb_obj.active || clearInterval(updater) }\\n                                 cb_obj.label = cb_obj.active ? '\\u275a\\u275a Pause' : '\\u25ba Play';\\n                                 if (cb_obj.active) var updater = setInterval(upfun, 20);\"},\"id\":\"1159\",\"type\":\"CustomJS\"},{\"attributes\":{},\"id\":\"1124\",\"type\":\"LinearScale\"},{\"attributes\":{\"coordinates\":null,\"data_source\":{\"id\":\"1116\"},\"glyph\":{\"id\":\"1149\"},\"group\":null,\"hover_glyph\":null,\"muted_glyph\":{\"id\":\"1151\"},\"nonselection_glyph\":{\"id\":\"1150\"},\"view\":{\"id\":\"1153\"}},\"id\":\"1152\",\"type\":\"GlyphRenderer\"},{\"attributes\":{\"end\":1000,\"js_property_callbacks\":{\"change:value\":[{\"id\":\"1158\"}]},\"sizing_mode\":\"stretch_width\",\"start\":0,\"step\":0.1,\"title\":\"t\",\"value\":0},\"id\":\"1156\",\"type\":\"Slider\"},{\"attributes\":{\"tools\":[{\"id\":\"1134\"},{\"id\":\"1135\"},{\"id\":\"1136\"},{\"id\":\"1137\"},{\"id\":\"1138\"},{\"id\":\"1139\"}]},\"id\":\"1141\",\"type\":\"Toolbar\"},{\"attributes\":{},\"id\":\"1135\",\"type\":\"WheelZoomTool\"},{\"attributes\":{},\"id\":\"1134\",\"type\":\"PanTool\"},{\"attributes\":{},\"id\":\"1139\",\"type\":\"HelpTool\"},{\"attributes\":{},\"id\":\"1131\",\"type\":\"BasicTicker\"},{\"attributes\":{\"axis\":{\"id\":\"1130\"},\"coordinates\":null,\"dimension\":1,\"group\":null,\"ticker\":null},\"id\":\"1133\",\"type\":\"Grid\"},{\"attributes\":{\"line_alpha\":0.1,\"line_color\":\"#000000\",\"line_width\":4,\"x\":{\"field\":\"x\"},\"y\":{\"field\":\"y\"}},\"id\":\"1150\",\"type\":\"Line\"},{\"attributes\":{},\"id\":\"1181\",\"type\":\"AllLabels\"},{\"attributes\":{\"axis_label\":\"y(x,t)\",\"axis_label_text_font_size\":\"14pt\",\"axis_label_text_font_style\":\"normal\",\"coordinates\":null,\"formatter\":{\"id\":\"1177\"},\"group\":null,\"major_label_policy\":{\"id\":\"1178\"},\"major_label_text_font_size\":\"12pt\",\"ticker\":{\"id\":\"1131\"}},\"id\":\"1130\",\"type\":\"LinearAxis\"},{\"attributes\":{},\"id\":\"1137\",\"type\":\"SaveTool\"},{\"attributes\":{},\"id\":\"1127\",\"type\":\"BasicTicker\"},{\"attributes\":{\"overlay\":{\"id\":\"1140\"}},\"id\":\"1136\",\"type\":\"BoxZoomTool\"},{\"attributes\":{\"below\":[{\"id\":\"1126\"}],\"center\":[{\"id\":\"1129\"},{\"id\":\"1133\"}],\"height\":500,\"left\":[{\"id\":\"1130\"}],\"renderers\":[{\"id\":\"1152\"}],\"title\":{\"id\":\"1174\"},\"toolbar\":{\"id\":\"1141\"},\"width\":900,\"x_range\":{\"id\":\"1154\"},\"x_scale\":{\"id\":\"1122\"},\"y_range\":{\"id\":\"1155\"},\"y_scale\":{\"id\":\"1124\"}},\"id\":\"1117\",\"subtype\":\"Figure\",\"type\":\"Plot\"},{\"attributes\":{\"axis\":{\"id\":\"1126\"},\"coordinates\":null,\"group\":null,\"ticker\":null},\"id\":\"1129\",\"type\":\"Grid\"},{\"attributes\":{},\"id\":\"1138\",\"type\":\"ResetTool\"},{\"attributes\":{},\"id\":\"1183\",\"type\":\"Selection\"},{\"attributes\":{},\"id\":\"1122\",\"type\":\"LinearScale\"},{\"attributes\":{\"bottom_units\":\"screen\",\"coordinates\":null,\"fill_alpha\":0.5,\"fill_color\":\"lightgrey\",\"group\":null,\"left_units\":\"screen\",\"level\":\"overlay\",\"line_alpha\":1.0,\"line_color\":\"black\",\"line_dash\":[4,4],\"line_width\":2,\"right_units\":\"screen\",\"syncable\":false,\"top_units\":\"screen\"},\"id\":\"1140\",\"type\":\"BoxAnnotation\"},{\"attributes\":{\"icon\":null,\"js_property_callbacks\":{\"change:active\":[{\"id\":\"1159\"}]},\"label\":\"\\u25ba Play\",\"sizing_mode\":\"stretch_height\",\"width\":80},\"id\":\"1160\",\"type\":\"Toggle\"},{\"attributes\":{\"axis_label\":\"x\",\"axis_label_text_font_size\":\"14pt\",\"axis_label_text_font_style\":\"normal\",\"coordinates\":null,\"formatter\":{\"id\":\"1180\"},\"group\":null,\"major_label_policy\":{\"id\":\"1181\"},\"major_label_text_font_size\":\"12pt\",\"ticker\":{\"id\":\"1127\"}},\"id\":\"1126\",\"type\":\"LinearAxis\"},{\"attributes\":{},\"id\":\"1177\",\"type\":\"BasicTickFormatter\"},{\"attributes\":{\"line_alpha\":0.2,\"line_color\":\"#000000\",\"line_width\":4,\"x\":{\"field\":\"x\"},\"y\":{\"field\":\"y\"}},\"id\":\"1151\",\"type\":\"Line\"},{\"attributes\":{},\"id\":\"1178\",\"type\":\"AllLabels\"}],\"root_ids\":[\"1162\"]},\"title\":\"Bokeh Application\",\"version\":\"2.4.3\"}};\n",
       "  const render_items = [{\"docid\":\"e3fb6aa1-7db8-485d-8129-46c2b7a98b7c\",\"root_ids\":[\"1162\"],\"roots\":{\"1162\":\"22ad7a7a-0ac5-4294-af4f-b40e36b26f5f\"}}];\n",
       "  root.Bokeh.embed.embed_items_notebook(docs_json, render_items);\n",
       "  }\n",
       "  if (root.Bokeh !== undefined) {\n",
       "    embed_document(root);\n",
       "  } else {\n",
       "    let attempts = 0;\n",
       "    const timer = setInterval(function(root) {\n",
       "      if (root.Bokeh !== undefined) {\n",
       "        clearInterval(timer);\n",
       "        embed_document(root);\n",
       "      } else {\n",
       "        attempts++;\n",
       "        if (attempts > 100) {\n",
       "          clearInterval(timer);\n",
       "          console.log(\"Bokeh: ERROR: Unable to run BokehJS code because BokehJS library is missing\");\n",
       "        }\n",
       "      }\n",
       "    }, 10, root)\n",
       "  }\n",
       "})(window);"
      ],
      "application/vnd.bokehjs_exec.v0+json": ""
     },
     "metadata": {
      "application/vnd.bokehjs_exec.v0+json": {
       "id": "1162"
      }
     },
     "output_type": "display_data"
    }
   ],
   "source": [
    "L = 2.\n",
    "nmax = 500\n",
    "n = np.arange(1,nmax+1)\n",
    "kn = n*pi/L\n",
    "\n",
    "cn = 32/(3*n**2*pi**2)*sin(n*pi/4)\n",
    "\n",
    "make_string_animation(L,cn)"
   ]
  },
  {
   "cell_type": "markdown",
   "id": "d6b4b326",
   "metadata": {},
   "source": [
    "## Example 3: Problem 5.1\n",
    "The below is ready to insert the expression for $c_n$ for problem 5.1, just below the line `##### insert your expression for c_n here #####`."
   ]
  },
  {
   "cell_type": "code",
   "execution_count": null,
   "id": "60da6edb",
   "metadata": {
    "ExecuteTime": {
     "end_time": "2023-03-03T13:20:32.277160Z",
     "start_time": "2023-03-03T13:20:32.272183Z"
    },
    "scrolled": false
   },
   "outputs": [],
   "source": [
    "x1 = 0.95\n",
    "x2 = 1.05\n",
    "\n",
    "# do the plot both for L=2 and for L=3\n",
    "for L in (2.,3.):\n",
    "    # adjust nmax to get the same spatial resolution\n",
    "    nmax = int(100*L)\n",
    "    n = np.arange(1,nmax+1)\n",
    "    kn = n*pi/L\n",
    "\n",
    "    ##### insert your expression for c_n here #####\n",
    "    cn =\n",
    "    ###############################################\n",
    "\n",
    "    make_string_animation(L,cn,width=int(300*L)+100,dt=0.01,ymax=1.1)"
   ]
  }
 ],
 "metadata": {
  "@webio": {
   "lastCommId": null,
   "lastKernelId": null
  },
  "hide_input": false,
  "kernelspec": {
   "display_name": "Python 3 (ipykernel)",
   "language": "python",
   "name": "python3"
  },
  "language_info": {
   "codemirror_mode": {
    "name": "ipython",
    "version": 3
   },
   "file_extension": ".py",
   "mimetype": "text/x-python",
   "name": "python",
   "nbconvert_exporter": "python",
   "pygments_lexer": "ipython3",
   "version": "3.9.18"
  },
  "toc": {
   "base_numbering": 1,
   "nav_menu": {},
   "number_sections": true,
   "sideBar": true,
   "skip_h1_title": false,
   "title_cell": "Table of Contents",
   "title_sidebar": "Contents",
   "toc_cell": false,
   "toc_position": {},
   "toc_section_display": true,
   "toc_window_display": false
  },
  "varInspector": {
   "cols": {
    "lenName": 16,
    "lenType": 16,
    "lenVar": 40
   },
   "kernels_config": {
    "python": {
     "delete_cmd_postfix": "",
     "delete_cmd_prefix": "del ",
     "library": "var_list.py",
     "varRefreshCmd": "print(var_dic_list())"
    },
    "r": {
     "delete_cmd_postfix": ") ",
     "delete_cmd_prefix": "rm(",
     "library": "var_list.r",
     "varRefreshCmd": "cat(var_dic_list()) "
    }
   },
   "types_to_exclude": [
    "module",
    "function",
    "builtin_function_or_method",
    "instance",
    "_Feature"
   ],
   "window_display": false
  }
 },
 "nbformat": 4,
 "nbformat_minor": 5
}
